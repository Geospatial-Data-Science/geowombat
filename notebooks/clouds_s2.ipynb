{
 "cells": [
  {
   "cell_type": "code",
   "execution_count": 1,
   "metadata": {},
   "outputs": [],
   "source": [
    "import os\n",
    "import fnmatch\n",
    "from copy import copy\n",
    "import itertools\n",
    "from datetime import datetime\n",
    "from pathlib import Path\n",
    "from collections import namedtuple\n",
    "\n",
    "import geowombat as gw\n",
    "# from tsplanet import download_data\n",
    "\n",
    "import geopandas as gpd\n",
    "import numpy as np\n",
    "import numba as nb\n",
    "from skimage.exposure import rescale_intensity\n",
    "import cv2\n",
    "import sklearn_crfsuite\n",
    "from affine import Affine\n",
    "import matplotlib.pyplot as plt"
   ]
  },
  {
   "cell_type": "code",
   "execution_count": 2,
   "metadata": {},
   "outputs": [],
   "source": [
    "import sklearn\n",
    "from sklearn.metrics import make_scorer\n",
    "from sklearn.model_selection import RandomizedSearchCV\n",
    "\n",
    "from sklearn_crfsuite import scorers\n",
    "from sklearn_crfsuite import metrics"
   ]
  },
  {
   "cell_type": "markdown",
   "metadata": {},
   "source": [
    "## Functions"
   ]
  },
  {
   "cell_type": "code",
   "execution_count": 3,
   "metadata": {},
   "outputs": [],
   "source": [
    "# str_to_int_dict = dict(n=0, a=1, g=1, t=1, u=1, b=1, w=2, c=3, s=4, h=5)\n",
    "# str_to_int_dict = dict(n=0, a=1, g=2, t=3, u=4, b=5, w=6, c=7, s=8, h=9)\n",
    "\n",
    "str_to_int_dict = dict(n=0, l=1, u=2, w=3, c=4, s=5, h=6)\n",
    "\n",
    "int_to_str_dict = dict()\n",
    "\n",
    "for k, v in str_to_int_dict.items():\n",
    "\n",
    "    # Change clear land values to 'l'\n",
    "#     if v == 1:\n",
    "#         int_to_str_dict[v] = 'l'\n",
    "#     else:\n",
    "    int_to_str_dict[v] = k"
   ]
  },
  {
   "cell_type": "code",
   "execution_count": 4,
   "metadata": {},
   "outputs": [
    {
     "data": {
      "text/plain": [
       "{'n': 0, 'l': 1, 'u': 2, 'w': 3, 'c': 4, 's': 5, 'h': 6}"
      ]
     },
     "execution_count": 4,
     "metadata": {},
     "output_type": "execute_result"
    }
   ],
   "source": [
    "str_to_int_dict"
   ]
  },
  {
   "cell_type": "code",
   "execution_count": 5,
   "metadata": {},
   "outputs": [],
   "source": [
    "def str_to_int(row):\n",
    "    str_values = row['class'].split(',')\n",
    "    return ','.join([str(str_to_int_dict[sv]) for sv in str_values])"
   ]
  },
  {
   "cell_type": "code",
   "execution_count": 6,
   "metadata": {},
   "outputs": [],
   "source": [
    "def label_decoder(label):\n",
    "    return int_to_str_dict[label]\n",
    "\n",
    "\n",
    "def get_sample_xy(sample):\n",
    "    \n",
    "    \"\"\"\n",
    "    Converts a DataFrame sample to a CRF feature\n",
    "    \"\"\"\n",
    "    \n",
    "    date_diff = sample.date2.to_pydatetime().toordinal() - sample.date1.to_pydatetime().toordinal()\n",
    "    \n",
    "    nir1_diff = int(sample.nir1) - int(sample.nir1_1)\n",
    "    nir2_diff = int(sample.nir2) - int(sample.nir2_1)\n",
    "    nir3_diff = int(sample.nir3) - int(sample.nir3_1)\n",
    "    rededge_diff = int(sample.rededge) - int(sample.rededge_1)\n",
    "    swir1_diff = int(sample.swir1) - int(sample.swir1_1)\n",
    "    swir2_diff = int(sample.swir2) - int(sample.swir2_1)\n",
    "    \n",
    "    nir1_diff_2 = int(sample.nir1_2) - int(sample.nir1)\n",
    "    nir2_diff_2 = int(sample.nir2_2) - int(sample.nir2)\n",
    "    nir3_diff_2 = int(sample.nir3_2) - int(sample.nir3)\n",
    "    rededge_diff_2 = int(sample.rededge_2) - int(sample.rededge)\n",
    "    swir1_diff_2 = int(sample.swir1_2) - int(sample.swir1)\n",
    "    swir2_diff_2 = int(sample.swir2_2) - int(sample.swir2)\n",
    "    \n",
    "    diff1 = ['nir1-diff1', 'nir2-diff1', 'nir3-diff1', 'rededge-diff1', 'swir1-diff1', 'swir2-diff1']\n",
    "    diff2 = ['nir1-diff2', 'nir2-diff2', 'nir3-diff2', 'rededge-diff2', 'swir1-diff2', 'swir2-diff2']\n",
    "    \n",
    "    slab = band_names + ['date-diff'] + diff1 + diff2\n",
    "    \n",
    "    diff1_values = [nir1_diff, nir2_diff, nir3_diff, rededge_diff, swir1_diff, swir2_diff]\n",
    "    diff2_values = [nir1_diff_2, nir2_diff_2, nir3_diff_2, rededge_diff_2, swir1_diff_2, swir2_diff_2]\n",
    "    \n",
    "    sfea = np.array(sample[band_names].values.tolist() + [date_diff] + diff1_values + diff2_values, dtype='float64')\n",
    "\n",
    "    return dict(zip(slab, sfea)), label_decoder(int(sample.poly))\n",
    "\n",
    "\n",
    "def get_array_xy(sample):\n",
    "    return dict(zip(band_names, sample))\n",
    "\n",
    "    \n",
    "def samples_to_features(dfs):\n",
    "    \n",
    "    \"\"\"\n",
    "    sample = [[{t1}, {t2}, ..., {tn}], ..., [...]]\n",
    "    \"\"\"\n",
    "    \n",
    "    return [list(zip(*df.apply(get_sample_xy, axis=1))) for df in dfs]\n",
    "\n",
    "\n",
    "@nb.jit\n",
    "def sample_to_dict(array_sample):\n",
    "\n",
    "    diff1 = ['nir1-diff1', 'nir2-diff1', 'nir3-diff1', 'rededge-diff1', 'swir1-diff1', 'swir2-diff1']\n",
    "    diff2 = ['nir1-diff2', 'nir2-diff2', 'nir3-diff2', 'rededge-diff2', 'swir1-diff2', 'swir2-diff2']\n",
    "    \n",
    "    slab = band_names + ['date-diff'] + diff1 + diff2    \n",
    "\n",
    "    return dict(zip(slab, np.float64(array_sample)))    \n",
    "\n",
    "\n",
    "@nb.jit\n",
    "def array_to_dict(*args):\n",
    "    \n",
    "    \"\"\"\n",
    "    Converts array sample to a CRF features\n",
    "    \"\"\"\n",
    "    \n",
    "    return [sample_to_dict(sample) for sample in args]"
   ]
  },
  {
   "cell_type": "code",
   "execution_count": 7,
   "metadata": {},
   "outputs": [],
   "source": [
    "def setup_names(grid, filenames):\n",
    "    \n",
    "    rpath_dict = {'t55jel': '/scratch/rsc8/hardtkel/biocondition/biocondition/layers/sentinel/{}'.format(grid),\n",
    "                  't56jkt': '/scratch/rsc8/hardtkel/biocondition/biocondition/layers/sentinel/{}'.format(grid),\n",
    "                  't55kcu': '/scratch/rsc8/hardtkel/rapidfires/LW/{}'.format(grid)}    \n",
    "    \n",
    "    NameInfo = namedtuple('NameInfo', 'rasters vector, time_names')\n",
    "    \n",
    "    vector_dir = Path('/scratch/rsc4/graesser/temp/s2/training')\n",
    "    \n",
    "    image_dir = Path(rpath_dict[grid])\n",
    "    \n",
    "    filename_dict = dict()\n",
    "    for fn in filenames:\n",
    "        filename_dict[fn.split('_')[2]] = fn\n",
    "\n",
    "    sorted_names = list(zip(*sorted(filename_dict.items())))\n",
    "    \n",
    "    filenames = list(sorted_names[1])\n",
    "    \n",
    "    time_names = [datetime.strptime(t, '%Y%m%d') for t in list(sorted_names[0])]\n",
    "    \n",
    "    rasters = [image_dir.joinpath(fn).as_posix() for fn in filenames]\n",
    "    vector = vector_dir.joinpath('{}.shp'.format(grid)).as_posix()\n",
    "    \n",
    "    return NameInfo(rasters=rasters, vector=vector, time_names=time_names)"
   ]
  },
  {
   "cell_type": "markdown",
   "metadata": {},
   "source": [
    "## Extract samples from training AOIs"
   ]
  },
  {
   "cell_type": "code",
   "execution_count": 8,
   "metadata": {},
   "outputs": [],
   "source": [
    "X = list()\n",
    "y = list()"
   ]
  },
  {
   "cell_type": "code",
   "execution_count": 17,
   "metadata": {},
   "outputs": [],
   "source": [
    "# grid = 't56jkt'\n",
    "# grid = 't55jel'\n",
    "grid = 't55kcu'\n",
    "\n",
    "fnames_dict = {'t55jel': ['cemsre_t55jel_20171207_abbm5.img',\n",
    "                          'cemsre_t55jel_20171227_abbm5.img',\n",
    "                          'cemsre_t55jel_20180116_abbm5.img',\n",
    "                          'cemsre_t55jel_20180317_abbm5.img',\n",
    "                          'cemsre_t55jel_20180327_abbm5.img',\n",
    "                          'cemsre_t55jel_20180406_abbm5.img',\n",
    "                          'cemsre_t55jel_20180416_abbm5.img',\n",
    "                          'cemsre_t55jel_20180426_abbm5.img',\n",
    "                          'cemsre_t55jel_20180526_abbm5.img',\n",
    "                          'cemsre_t55jel_20180605_abbm5.img',\n",
    "                          'cemsre_t55jel_20180615_abbm5.img',\n",
    "                          'cemsre_t55jel_20180715_abbm5.img',\n",
    "                          'cemsre_t55jel_20180804_abbm5.img'],\n",
    "              't56jkt': ['cemsre_t56jkt_20180423_abbm6.img',\n",
    "                         'cemsre_t56jkt_20180513_abbm6.img',\n",
    "                         'cemsre_t56jkt_20180523_abbm6.img',\n",
    "                         'cemsre_t56jkt_20180602_abbm6.img'],\n",
    "              't55kcu': ['cemsre_t55kcu_20171210_abbm5.img',\n",
    "                         'cemsre_t55kcu_20171220_abbm5.img',\n",
    "                         'cemsre_t55kcu_20171230_abbm5.img',\n",
    "                         'cemsre_t55kcu_20180109_abbm5.img',\n",
    "                         'cemsre_t55kcu_20180129_abbm5.img']}\n",
    "\n",
    "rpath_dict = {'t55jel': '/scratch/rsc8/hardtkel/biocondition/biocondition/layers/sentinel/{}'.format(grid),\n",
    "              't56jkt': '/scratch/rsc8/hardtkel/biocondition/biocondition/layers/sentinel/{}'.format(grid),\n",
    "              't55kcu': '/scratch/rsc8/hardtkel/rapidfires/LW/{}'.format(grid)}\n",
    "\n",
    "filenames = fnames_dict[grid]\n",
    "\n",
    "band_names = ['nir1', 'nir2', 'nir3', 'rededge', 'swir1', 'swir2']\n",
    "label_name = 'poly'"
   ]
  },
  {
   "cell_type": "code",
   "execution_count": 18,
   "metadata": {},
   "outputs": [],
   "source": [
    "vector_dir = Path('/scratch/rsc4/graesser/temp/s2/training')\n",
    "image_dir = Path(rpath_dict[grid])\n",
    "\n",
    "filename_dict = dict()\n",
    "for fn in filenames:\n",
    "    filename_dict[fn.split('_')[2]] = fn\n",
    "    \n",
    "sorted_names = list(zip(*sorted(filename_dict.items())))\n",
    "\n",
    "filenames = list(sorted_names[1])\n",
    "\n",
    "time_names = [datetime.strptime(t, '%Y%m%d') for t in list(sorted_names[0])]\n",
    "\n",
    "rasters = [image_dir.joinpath(fn).as_posix() for fn in filenames]\n",
    "vector = vector_dir.joinpath('{}.shp'.format(grid)).as_posix()"
   ]
  },
  {
   "cell_type": "code",
   "execution_count": 19,
   "metadata": {},
   "outputs": [
    {
     "name": "stdout",
     "output_type": "stream",
     "text": [
      "Extracting samples ...\n"
     ]
    },
    {
     "name": "stderr",
     "output_type": "stream",
     "text": [
      "100%|██████████| 25/25 [00:00<00:00, 163.46it/s]\n",
      "100%|██████████| 25/25 [00:00<00:00, 163.86it/s]\n",
      "100%|██████████| 25/25 [00:00<00:00, 164.83it/s]\n",
      "100%|██████████| 25/25 [00:00<00:00, 57.43it/s]\n",
      "100%|██████████| 25/25 [00:00<00:00, 157.11it/s]\n"
     ]
    },
    {
     "name": "stdout",
     "output_type": "stream",
     "text": [
      "Converting samples to features ...\n",
      "Finished\n"
     ]
    }
   ],
   "source": [
    "df = gpd.read_file(vector)\n",
    "\n",
    "df['class_len'] = df['class'].str.len()\n",
    "df['int_class'] = df.apply(str_to_int, axis=1)\n",
    "out = df['int_class'].str.split(',', expand=True)\n",
    "\n",
    "df_list = list()\n",
    "\n",
    "for s in range(0, out.shape[1]):\n",
    "    df_ = df.copy()\n",
    "    df_['id'] = out.iloc[:, s]\n",
    "    df_list.append(df_)\n",
    "\n",
    "print('Extracting samples ...')    \n",
    "    \n",
    "# Extract samples    \n",
    "dfs = list()\n",
    "\n",
    "with gw.config.update(sensor='s220'):\n",
    "\n",
    "    with gw.open(rasters, time_names=time_names, chunks=512) as ds:    \n",
    "       \n",
    "        for ti, time in enumerate(ds.time.values):\n",
    "\n",
    "            dss = ds.sel(time=time)\n",
    "            \n",
    "            dfe = dss.gw.extract(df_list[ti])\n",
    "            \n",
    "            if ti == 0:\n",
    "                \n",
    "                dfe['date1'] = time\n",
    "                dfe['date2'] = time\n",
    "\n",
    "                dfe['nir1_1'] = dfe.nir1\n",
    "                dfe['nir2_1'] = dfe.nir2\n",
    "                dfe['nir3_1'] = dfe.nir3\n",
    "                dfe['rededge_1'] = dfe.rededge\n",
    "                dfe['swir1_1'] = dfe.swir1\n",
    "                dfe['swir2_1'] = dfe.swir2\n",
    "                \n",
    "            else:\n",
    "                \n",
    "                dfe['date1'] = ds.time.values[ti-1]\n",
    "                dfe['date2'] = time\n",
    "                \n",
    "                dfe['nir1_1'] = dfs[-1].nir1\n",
    "                dfe['nir2_1'] = dfs[-1].nir2\n",
    "                dfe['nir3_1'] = dfs[-1].nir3\n",
    "                dfe['rededge_1'] = dfs[-1].rededge\n",
    "                dfe['swir1_1'] = dfs[-1].swir1\n",
    "                dfe['swir2_1'] = dfs[-1].swir2\n",
    "            \n",
    "            dfs.append(dfe)    \n",
    "            \n",
    "        for ti, time in enumerate(ds.time.values):\n",
    "            \n",
    "            dfe = dfs[ti]\n",
    "\n",
    "            if ti < len(ds.time.values)-1:\n",
    "                \n",
    "                dfe['nir1_2'] = dfs[ti+1].nir1\n",
    "                dfe['nir2_2'] = dfs[ti+1].nir2\n",
    "                dfe['nir3_2'] = dfs[ti+1].nir3\n",
    "                dfe['rededge_2'] = dfs[ti+1].rededge\n",
    "                dfe['swir1_2'] = dfs[ti+1].swir1\n",
    "                dfe['swir2_2'] = dfs[ti+1].swir2                \n",
    "\n",
    "            else:\n",
    "                \n",
    "                dfe['nir1_2'] = dfe.nir1\n",
    "                dfe['nir2_2'] = dfe.nir2\n",
    "                dfe['nir3_2'] = dfe.nir3\n",
    "                dfe['rededge_2'] = dfe.rededge\n",
    "                dfe['swir1_2'] = dfe.swir1\n",
    "                dfe['swir2_2'] = dfe.swir2\n",
    "                \n",
    "            dfs[ti] = dfe\n",
    "            \n",
    "print('Converting samples to features ...')            \n",
    "            \n",
    "# Convert samples to features            \n",
    "results = samples_to_features(dfs)\n",
    "Xt = np.array(list(zip(*results))[0]).T.tolist()\n",
    "yt = np.array(list(zip(*results))[1]).T.tolist()            \n",
    "\n",
    "print('Finished')"
   ]
  },
  {
   "cell_type": "code",
   "execution_count": 20,
   "metadata": {},
   "outputs": [],
   "source": [
    "X += Xt\n",
    "y += yt"
   ]
  },
  {
   "cell_type": "markdown",
   "metadata": {},
   "source": [
    "### Fit the CRF model"
   ]
  },
  {
   "cell_type": "code",
   "execution_count": 21,
   "metadata": {},
   "outputs": [],
   "source": [
    "# Gradient descent using the limited-memory BFGS method (with L1 and L2 regularization)\n",
    "model = sklearn_crfsuite.CRF(algorithm='lbfgs', \n",
    "                             c1=0.001,\n",
    "                             c2=0.001,\n",
    "                             max_iterations=5000,\n",
    "                             num_memories=10,\n",
    "                             epsilon=0.0001,\n",
    "                             delta=0.0001,\n",
    "                             period=10,\n",
    "                             linesearch='StrongBacktracking',  # 'MoreThuente' 'Backtracking' 'StrongBacktracking'\n",
    "                             max_linesearch=20,\n",
    "                             all_possible_states=True,\n",
    "                             all_possible_transitions=True,\n",
    "                             verbose=False)"
   ]
  },
  {
   "cell_type": "code",
   "execution_count": 22,
   "metadata": {},
   "outputs": [],
   "source": [
    "# params_space = {'c1': [0.1, 0.01],\n",
    "#                 'c2': [0.1, 0.01],\n",
    "#                 'epsilon': [0.1, 0.01],\n",
    "#                 'delta': [0.1, 0.01]}\n",
    "\n",
    "# # use the same metric for evaluation\n",
    "# f1_scorer = make_scorer(metrics.flat_f1_score,\n",
    "#                         average='weighted', \n",
    "#                         labels=y)\n",
    "\n",
    "# # search\n",
    "# rs = RandomizedSearchCV(model, \n",
    "#                         params_space,\n",
    "#                         cv=2,\n",
    "#                         verbose=2,\n",
    "#                         n_jobs=16,\n",
    "#                         n_iter=20,\n",
    "#                         scoring=f1_scorer)\n",
    "\n",
    "# rs.fit(X, y)"
   ]
  },
  {
   "cell_type": "code",
   "execution_count": 23,
   "metadata": {},
   "outputs": [],
   "source": [
    "# print('best params:', rs.best_params_)\n",
    "# print('best CV score:', rs.best_score_)\n",
    "# print('model size: {:0.2f}M'.format(rs.best_estimator_.size_ / 1000000))"
   ]
  },
  {
   "cell_type": "raw",
   "metadata": {},
   "source": [
    "model.fit(X, y)"
   ]
  },
  {
   "cell_type": "markdown",
   "metadata": {},
   "source": [
    "### Open the data to predict on "
   ]
  },
  {
   "cell_type": "code",
   "execution_count": 25,
   "metadata": {},
   "outputs": [],
   "source": [
    "image_info = setup_names('t55kcu', fnames_dict['t55kcu'])"
   ]
  },
  {
   "cell_type": "code",
   "execution_count": 26,
   "metadata": {},
   "outputs": [],
   "source": [
    "with gw.config.update(sensor='s2l7'):\n",
    "    \n",
    "    with gw.open(image_info.rasters, \n",
    "                 time_names=image_info.time_names, \n",
    "                 chunks=512) as ds:\n",
    "        \n",
    "        dss = gw.subset(ds, left=348713.414, top=7820035.516, rows=512+256, cols=512+256)\n",
    "        \n",
    "        test = dss.astype('float64').data.compute()"
   ]
  },
  {
   "cell_type": "code",
   "execution_count": 27,
   "metadata": {},
   "outputs": [
    {
     "data": {
      "text/plain": [
       "(5, 6, 768, 768)"
      ]
     },
     "execution_count": 27,
     "metadata": {},
     "output_type": "execute_result"
    }
   ],
   "source": [
    "test.shape"
   ]
  },
  {
   "cell_type": "code",
   "execution_count": 28,
   "metadata": {},
   "outputs": [],
   "source": [
    "ntime, nbands, nrows, ncols = test.shape"
   ]
  },
  {
   "cell_type": "markdown",
   "metadata": {},
   "source": [
    "### Add date ordinals"
   ]
  },
  {
   "cell_type": "code",
   "execution_count": 29,
   "metadata": {},
   "outputs": [],
   "source": [
    "stacked_arrays = list()\n",
    "\n",
    "for di in range(0, len(image_info.time_names)):\n",
    "    \n",
    "    ordinal_array = np.zeros((nrows, ncols), dtype='uint64')\n",
    "    \n",
    "    nir1_diff_array1 = np.zeros((nrows, ncols), dtype='uint64')\n",
    "    nir2_diff_array1 = nir1_diff_array1.copy()\n",
    "    nir3_diff_array1 = nir1_diff_array1.copy()\n",
    "    rededge_diff_array1 = nir1_diff_array1.copy()\n",
    "    swir1_diff_array1 = nir1_diff_array1.copy()\n",
    "    swir2_diff_array1 = nir1_diff_array1.copy()\n",
    "    \n",
    "    nir1_diff_array2 = nir1_diff_array1.copy()\n",
    "    nir2_diff_array2 = nir1_diff_array1.copy()\n",
    "    nir3_diff_array2 = nir1_diff_array1.copy()\n",
    "    rededge_diff_array2 = nir1_diff_array1.copy()\n",
    "    swir1_diff_array2 = nir1_diff_array1.copy()\n",
    "    swir2_diff_array2 = nir1_diff_array1.copy()    \n",
    "    \n",
    "    if di > 0:\n",
    "        \n",
    "        date_diff = image_info.time_names[di].toordinal() - image_info.time_names[di-1].toordinal()\n",
    "\n",
    "        #date_diff = dfs[di].iloc[0].date2.to_pydatetime().toordinal() - dfs[di-1].iloc[0].date1.to_pydatetime().toordinal()\n",
    "        ordinal_array = ordinal_array + date_diff\n",
    "        \n",
    "        nir1_diff_array1 = test[di][0] - test[di-1][0]\n",
    "        nir2_diff_array1 = test[di][1] - test[di-1][1]\n",
    "        nir3_diff_array1 = test[di][2] - test[di-1][2]\n",
    "        rededge_diff_array1 = test[di][3] - test[di-1][3]\n",
    "        swir1_diff_array1 = test[di][4] - test[di-1][4]\n",
    "        swir2_diff_array1 = test[di][5] - test[di-1][5]\n",
    "        \n",
    "    if di < len(image_info.time_names)-1:\n",
    "        \n",
    "        nir1_diff_array2 = test[di+1][0] - test[di][0]\n",
    "        nir2_diff_array2 = test[di+1][1] - test[di][1]\n",
    "        nir3_diff_array2 = test[di+1][2] - test[di][2]\n",
    "        rededge_diff_array2 = test[di+1][3] - test[di][3]\n",
    "        swir1_diff_array2 = test[di+1][4] - test[di][4]\n",
    "        swir2_diff_array2 = test[di+1][5] - test[di][5]\n",
    "    \n",
    "    stacked_arrays.append(np.concatenate((test[di], \n",
    "                                          ordinal_array[np.newaxis, :, :],\n",
    "                                          nir1_diff_array1[np.newaxis, :, :],\n",
    "                                          nir2_diff_array1[np.newaxis, :, :],\n",
    "                                          nir3_diff_array1[np.newaxis, :, :],\n",
    "                                          rededge_diff_array1[np.newaxis, :, :],\n",
    "                                          swir1_diff_array1[np.newaxis, :, :],\n",
    "                                          swir2_diff_array1[np.newaxis, :, :],\n",
    "                                          nir1_diff_array2[np.newaxis, :, :],\n",
    "                                          nir2_diff_array2[np.newaxis, :, :],\n",
    "                                          nir3_diff_array2[np.newaxis, :, :],\n",
    "                                          rededge_diff_array2[np.newaxis, :, :],\n",
    "                                          swir1_diff_array2[np.newaxis, :, :],\n",
    "                                          swir2_diff_array2[np.newaxis, :, :])))\n",
    "    \n",
    "stacked_arrays = np.array(stacked_arrays)    "
   ]
  },
  {
   "cell_type": "code",
   "execution_count": 30,
   "metadata": {},
   "outputs": [
    {
     "data": {
      "text/plain": [
       "(5, 8, 768, 768)"
      ]
     },
     "execution_count": 30,
     "metadata": {},
     "output_type": "execute_result"
    }
   ],
   "source": [
    "stacked_arrays.shape"
   ]
  },
  {
   "cell_type": "code",
   "execution_count": 31,
   "metadata": {},
   "outputs": [],
   "source": [
    "ntime, nbands, nrows, ncols = stacked_arrays.shape"
   ]
  },
  {
   "cell_type": "markdown",
   "metadata": {},
   "source": [
    "### Convert the array to CRF-compatible features"
   ]
  },
  {
   "cell_type": "code",
   "execution_count": 32,
   "metadata": {},
   "outputs": [],
   "source": [
    "features = [tlayer.transpose(1, 2, 0).reshape(nrows*ncols, nbands) for tlayer in stacked_arrays]\n",
    "features = [array_to_dict(*[features[j][i] for j in range(0, ntime)]) for i in range(0, nrows*ncols)]"
   ]
  },
  {
   "cell_type": "code",
   "execution_count": 33,
   "metadata": {},
   "outputs": [],
   "source": [
    "# from geowombat.models import time_to_crffeas\n",
    "# import numpy as np\n",
    "# ntime,nbands,nrows,ncols=3,6,5,5\n",
    "# stacked_arrays = np.ascontiguousarray(np.arange(ntime*nbands*nrows*ncols).reshape(ntime,nbands,nrows,ncols), dtype='float64')\n",
    "\n",
    "# features = dict()\n",
    "# for ti in range(0, stacked_arrays.shape[0]):\n",
    "#     features[ti] = np.ascontiguousarray(stacked_arrays[ti].transpose(1, 2, 0).reshape(nrows*ncols, nbands), dtype='float64')\n",
    "\n",
    "# time_to_crffeas(features, list(range(6)), 6)"
   ]
  },
  {
   "cell_type": "markdown",
   "metadata": {},
   "source": [
    "### Predict on all time steps"
   ]
  },
  {
   "cell_type": "code",
   "execution_count": 34,
   "metadata": {},
   "outputs": [],
   "source": [
    "pred = model.predict_marginals(features)"
   ]
  },
  {
   "cell_type": "code",
   "execution_count": 35,
   "metadata": {},
   "outputs": [],
   "source": [
    "def pred_to_labels(model_pred):\n",
    "    \n",
    "    # samples x time x n classes\n",
    "    return np.array([[[ps['l'], ps['w'], ps['c'], ps['s'], ps['h']] for ps in p] for p in model_pred], dtype='float64')"
   ]
  },
  {
   "cell_type": "code",
   "execution_count": 36,
   "metadata": {},
   "outputs": [],
   "source": [
    "# samples x time x n classes\n",
    "# pred = np.array([[[ps['n'], ps['l'], ps['w'], ps['c'], ps['s'], ps['h']] for ps in p] \n",
    "#                  for p in model.predict_marginals(features)], dtype='float64')"
   ]
  },
  {
   "cell_type": "code",
   "execution_count": 37,
   "metadata": {},
   "outputs": [],
   "source": [
    "pred = pred_to_labels(pred)"
   ]
  },
  {
   "cell_type": "code",
   "execution_count": 38,
   "metadata": {},
   "outputs": [
    {
     "data": {
      "text/plain": [
       "(589824, 5, 5)"
      ]
     },
     "execution_count": 38,
     "metadata": {},
     "output_type": "execute_result"
    }
   ],
   "source": [
    "pred.shape"
   ]
  },
  {
   "cell_type": "code",
   "execution_count": 39,
   "metadata": {},
   "outputs": [],
   "source": [
    "pred = pred.transpose(1, 2, 0).reshape(ntime, pred.shape[2], nrows, ncols)"
   ]
  },
  {
   "cell_type": "code",
   "execution_count": 40,
   "metadata": {},
   "outputs": [
    {
     "data": {
      "text/plain": [
       "(5, 5, 768, 768)"
      ]
     },
     "execution_count": 40,
     "metadata": {},
     "output_type": "execute_result"
    }
   ],
   "source": [
    "pred.shape"
   ]
  },
  {
   "cell_type": "markdown",
   "metadata": {},
   "source": [
    "## Plot probabilities"
   ]
  },
  {
   "cell_type": "code",
   "execution_count": null,
   "metadata": {},
   "outputs": [],
   "source": [
    "%matplotlib notebook\n",
    "\n",
    "fig, (ax1, ax2) = plt.subplots(1, 2, dpi=120)\n",
    "\n",
    "# pr_max = pred[: 2, :, :].max(axis=0)\n",
    "idx = 3\n",
    "\n",
    "#proba = pred[idx, 2:, :, :].max(axis=0) #- pred[:idx-1, 2, :, :].cumsum(axis=0)[-1, :, :]\n",
    "pred_int = pred[idx, :, :, :].argmax(axis=0)\n",
    "pred_int = np.uint8(np.where(pred_int == 2, 1, np.where(pred_int == 3, 2, 0)))\n",
    "pred_int = cv2.dilate(pred_int, np.array([[0, 1, 0], [1, 1, 1], [0, 1, 0]], dtype='uint8'), iterations=3)\n",
    "\n",
    "ip = test[idx, 2:5, :, :]\n",
    "ip = rescale_intensity(ip, \n",
    "                       in_range=(ip.min(), ip.max()), \n",
    "                       out_range=(np.nanpercentile(ip, 10), \n",
    "                                  np.nanpercentile(ip, 95)))\n",
    "ip = np.flip(ip, axis=0)\n",
    "ip = np.ascontiguousarray(ip.transpose(1, 2, 0))\n",
    "ip /= ip.max()\n",
    "\n",
    "ax1.imshow(ip)\n",
    "#ax1.imshow(ip, vmin=np.nanpercentile(ip, 5), vmax=np.nanpercentile(ip, 95), cmap='viridis')\n",
    "\n",
    "#ax2.imshow(proba, vmin=np.nanpercentile(proba, 5), vmax=np.nanpercentile(proba, 95), cmap='magma')\n",
    "ax2.imshow(pred_int, vmin=0, vmax=2)\n",
    "\n",
    "ax1.axis('off')\n",
    "ax2.axis('off')\n",
    "\n",
    "plt.tight_layout(pad=0.1)\n",
    "\n",
    "plt.show()"
   ]
  },
  {
   "cell_type": "code",
   "execution_count": null,
   "metadata": {},
   "outputs": [],
   "source": [
    "pred.shape"
   ]
  },
  {
   "cell_type": "code",
   "execution_count": null,
   "metadata": {},
   "outputs": [],
   "source": [
    "fig, axes = plt.subplots(pred.shape[0], 2, dpi=400, figsize=(2, 12))\n",
    "\n",
    "bidx = 0 # band index\n",
    "cidx = 2 # class index\n",
    "\n",
    "for pi in range(0, pred.shape[0]):\n",
    "\n",
    "    ip = test[pi, bidx, :, :]\n",
    "    #ip[ip == 0] = np.nan\n",
    "    \n",
    "#     pr = pred[pi, cidx, :, :]\n",
    "#     pr = (pr_max - pr) / (pr_max + pr)\n",
    "#     pr = (pr + pr_max) / 2.0\n",
    "    \n",
    "    pred_int = pred[pi, :, :, :].argmax(axis=0)\n",
    "    pred_int = np.where(pred_int == 2, 1, np.where(pred_int == 3, 2, 0))\n",
    "    \n",
    "    axes[pi][0].imshow(ip, vmin=np.nanpercentile(ip, 5), vmax=np.nanpercentile(ip, 95), cmap='viridis')\n",
    "    #axes[pi][1].imshow(pr, vmin=np.nanpercentile(pr, 5), vmax=np.nanpercentile(pr, 95), cmap='bone')\n",
    "    axes[pi][1].imshow(pred_int, vmin=0, vmax=2)\n",
    "    \n",
    "    axes[pi][0].axis('off')\n",
    "    axes[pi][1].axis('off')\n",
    "\n",
    "plt.show()"
   ]
  },
  {
   "cell_type": "code",
   "execution_count": null,
   "metadata": {},
   "outputs": [],
   "source": []
  }
 ],
 "metadata": {
  "kernelspec": {
   "display_name": "Python 3",
   "language": "python",
   "name": "python3"
  },
  "language_info": {
   "codemirror_mode": {
    "name": "ipython",
    "version": 3
   },
   "file_extension": ".py",
   "mimetype": "text/x-python",
   "name": "python",
   "nbconvert_exporter": "python",
   "pygments_lexer": "ipython3",
   "version": "3.6.8"
  }
 },
 "nbformat": 4,
 "nbformat_minor": 4
}
