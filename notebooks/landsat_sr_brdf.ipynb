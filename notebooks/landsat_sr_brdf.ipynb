{
 "cells": [
  {
   "cell_type": "code",
   "execution_count": null,
   "metadata": {},
   "outputs": [],
   "source": [
    "import subprocess\n",
    "import fnmatch\n",
    "from pathlib import Path\n",
    "\n",
    "import geowombat as gw\n",
    "from geowombat.util import GeoDownloads\n",
    "from geowombat.radiometry import BRDF, RadTransforms, landsat_pixel_angles\n",
    "from geowombat.data import rgbn\n",
    "\n",
    "import numpy as np\n",
    "import pandas as pd\n",
    "import xarray as xr\n",
    "import dask.array as da"
   ]
  },
  {
   "cell_type": "markdown",
   "metadata": {},
   "source": [
    "## Download data"
   ]
  },
  {
   "cell_type": "code",
   "execution_count": null,
   "metadata": {},
   "outputs": [],
   "source": [
    "gdl = GeoDownloads()"
   ]
  },
  {
   "cell_type": "markdown",
   "metadata": {},
   "source": [
    "## Landsat"
   ]
  },
  {
   "cell_type": "code",
   "execution_count": null,
   "metadata": {},
   "outputs": [],
   "source": [
    "gdl.list_gcp('l8', '225/083/*225083_2019*_T*')"
   ]
  },
  {
   "cell_type": "code",
   "execution_count": null,
   "metadata": {},
   "outputs": [],
   "source": [
    "list(gdl.search_dict.keys())"
   ]
  },
  {
   "cell_type": "code",
   "execution_count": null,
   "metadata": {},
   "outputs": [],
   "source": [
    "# gdl.search_dict['LC08/01/225/083/LC08_L1TP_225083_20190131_20190206_01_T1']"
   ]
  },
  {
   "cell_type": "code",
   "execution_count": null,
   "metadata": {},
   "outputs": [],
   "source": [
    "search_wildcards = ['ANG.txt', 'MTL.txt', 'B2.TIF', 'B3.TIF', 'B4.TIF', 'B5.TIF']\n",
    "outdir = '/media/jcgr/data/imagery/google/p225r083'"
   ]
  },
  {
   "cell_type": "code",
   "execution_count": null,
   "metadata": {},
   "outputs": [],
   "source": [
    "file_info = gdl.download_gcp('l8',\n",
    "                             outdir=outdir, \n",
    "                             search_wildcards=search_wildcards,\n",
    "                             verbose=1)"
   ]
  },
  {
   "cell_type": "code",
   "execution_count": null,
   "metadata": {},
   "outputs": [],
   "source": [
    "# file_info"
   ]
  },
  {
   "cell_type": "markdown",
   "metadata": {},
   "source": [
    "## DN -> SR -> BRDF"
   ]
  },
  {
   "cell_type": "code",
   "execution_count": null,
   "metadata": {},
   "outputs": [],
   "source": [
    "rt = RadTransforms()\n",
    "br = BRDF()"
   ]
  },
  {
   "cell_type": "code",
   "execution_count": null,
   "metadata": {},
   "outputs": [],
   "source": [
    "outdir_angles = '/media/jcgr/data/imagery/google/p225r083/angles'\n",
    "outdir_brdf = '/media/jcgr/data/imagery/google/p225r083/brdf'"
   ]
  },
  {
   "cell_type": "code",
   "execution_count": null,
   "metadata": {},
   "outputs": [],
   "source": [
    "angle_infos = dict()\n",
    "\n",
    "kwargs = dict(readxsize=1024, \n",
    "              readysize=1024,\n",
    "              verbose=1,\n",
    "              separate=True,\n",
    "              n_workers=1, \n",
    "              n_threads=4,\n",
    "              n_chunks=100,\n",
    "              overwrite=False,\n",
    "              compress='lzw')"
   ]
  },
  {
   "cell_type": "code",
   "execution_count": null,
   "metadata": {},
   "outputs": [],
   "source": [
    "for finfo_key, finfo_dict in file_info.items():\n",
    "    \n",
    "    meta = rt.get_landsat_coefficients(finfo_dict['meta'].name)\n",
    "    \n",
    "    angle_info = landsat_pixel_angles(finfo_dict['angle'].name, \n",
    "                                      finfo_dict['B4'].name, \n",
    "                                      outdir_angles, \n",
    "                                      meta.sensor, \n",
    "                                      l57_angles_path='/home/jcgr/Documents/scripts/Python/git_repos/geowombat/bin/ESPA/landsat_angles', \n",
    "                                      l8_angles_path='/home/jcgr/Documents/scripts/Python/git_repos/geowombat/bin/ESPA/l8_angles',\n",
    "                                      verbose=1)\n",
    "    \n",
    "    out_brdf = Path(outdir_brdf).joinpath(Path(finfo_key).name + '.tif').as_posix()\n",
    "    \n",
    "    with gw.open(angle_info.sza) as sza, gw.open(angle_info.vza) as vza, gw.open(angle_info.saa) as saa, gw.open(angle_info.vaa) as vaa:\n",
    "\n",
    "        with gw.open([finfo_dict['B2'].name, \n",
    "                      finfo_dict['B3'].name, \n",
    "                      finfo_dict['B4'].name, \n",
    "                      finfo_dict['B5'].name], \n",
    "                     band_names=['blue', 'green', 'red', 'nir'],\n",
    "                     stack_dim='band',\n",
    "                     chunks=512) as dn:\n",
    "\n",
    "            # Convert DN to surface reflectance\n",
    "            dn_sr = rt.dn_to_sr(dn, \n",
    "                                sza, saa, vza, vaa, \n",
    "                                sensor=meta.sensor, \n",
    "                                meta=meta)\n",
    "\n",
    "            # BRDF normalization\n",
    "            dn_sr_brdf = br.norm_brdf(dn_sr, \n",
    "                                      sza, saa, vza, vaa, \n",
    "                                      sensor=meta.sensor, \n",
    "                                      wavelengths=dn.band.values.tolist(), \n",
    "                                      nodata=0)\n",
    "\n",
    "            dn_sr_brdf.gw.to_raster(out_brdf, **kwargs)    \n",
    "    \n",
    "    angle_infos[finfo_key] = angle_info"
   ]
  },
  {
   "cell_type": "markdown",
   "metadata": {},
   "source": [
    "## Get coefficients from metadata"
   ]
  },
  {
   "cell_type": "code",
   "execution_count": null,
   "metadata": {},
   "outputs": [],
   "source": [
    "rt = RadTransforms()\n",
    "\n",
    "# meta = rt.get_coefficients(file_info[1].name)\n",
    "meta = rt.get_landsat_coefficients('/media/jcgr/data/imagery/temp/google/LC08_L1TP_042034_20160121_20170224_01_T1_MTL.txt')"
   ]
  },
  {
   "cell_type": "code",
   "execution_count": null,
   "metadata": {},
   "outputs": [],
   "source": [
    "meta"
   ]
  },
  {
   "cell_type": "markdown",
   "metadata": {},
   "source": [
    "## Check data"
   ]
  },
  {
   "cell_type": "code",
   "execution_count": null,
   "metadata": {},
   "outputs": [],
   "source": [
    "# with gw.open([file_info[2].name, file_info[3].name], \n",
    "#              band_names=['red', 'nir'],\n",
    "#              stack_dim='band') as ds:\n",
    "#     print(ds)\n",
    "# #     ds.sel(band='nir').plot.imshow()"
   ]
  },
  {
   "cell_type": "markdown",
   "metadata": {},
   "source": [
    "## Generate pixel angle files"
   ]
  },
  {
   "cell_type": "code",
   "execution_count": null,
   "metadata": {},
   "outputs": [],
   "source": [
    "# angle_info = gw.gen_pixel_angles(file_info[0].name, \n",
    "#                                  file_info[2].name, \n",
    "#                                  '/media/jcgr/data/imagery/temp/google/angles', \n",
    "#                                  meta.sensor, \n",
    "#                                  l57_angles_path='/home/jcgr/Documents/scripts/Python/git_repos/geowombat/bin/ESPA/landsat_angles', \n",
    "#                                  l8_angles_path='/home/jcgr/Documents/scripts/Python/git_repos/geowombat/bin/ESPA/l8_angles',\n",
    "#                                  verbose=1)"
   ]
  },
  {
   "cell_type": "code",
   "execution_count": null,
   "metadata": {},
   "outputs": [],
   "source": [
    "# angle_info"
   ]
  },
  {
   "cell_type": "code",
   "execution_count": null,
   "metadata": {},
   "outputs": [],
   "source": [
    "# with gw.open(angle_info.senze) as ds:\n",
    "#     ds.sel(band=1).plot.imshow(robust=True)"
   ]
  },
  {
   "cell_type": "code",
   "execution_count": null,
   "metadata": {},
   "outputs": [],
   "source": [
    "with gw.open(angle_info.senaz) as ds:\n",
    "    ds.sel(band=1).plot.imshow(robust=True)"
   ]
  },
  {
   "cell_type": "code",
   "execution_count": null,
   "metadata": {},
   "outputs": [],
   "source": [
    "with gw.open(angle_info.solaz) as solaz:\n",
    "    with gw.open(angle_info.senaz) as senaz:\n",
    "        rel_azimuth_angle = xr.ufuncs.fabs(solaz - senaz - 180.0)\n",
    "        rel_azimuth_angle.sel(band=1).plot.imshow(robust=True)"
   ]
  },
  {
   "cell_type": "markdown",
   "metadata": {},
   "source": [
    "## Convert to surface reflectance"
   ]
  },
  {
   "cell_type": "code",
   "execution_count": null,
   "metadata": {},
   "outputs": [],
   "source": [
    "angle_info"
   ]
  },
  {
   "cell_type": "code",
   "execution_count": null,
   "metadata": {},
   "outputs": [],
   "source": [
    "# with gw.open(angle_info.sze) as sze:\n",
    "#     with gw.open(angle_info.vze) as vze:\n",
    "#         with gw.open(angle_info.saa) as saa:\n",
    "#             with gw.open(angle_info.vaa) as vaa:\n",
    "#                 with gw.open([file_info[2].name, file_info[3].name], \n",
    "#                              band_names=['red', 'nir'],\n",
    "#                              stack_dim='band') as dn:\n",
    "\n",
    "kwargs = dict(readxsize=1024, \n",
    "              readysize=1024, \n",
    "              n_workers=1, \n",
    "              n_threads=4,\n",
    "              n_chunks=100,\n",
    "              overwrite=True)\n",
    "\n",
    "with gw.open('/media/jcgr/data/imagery/temp/google/angles/LC08_L1TP_042034_20160121_20170224_01_T1_solar_zenith.tif', chunks=512) as sze:\n",
    "    with gw.open('/media/jcgr/data/imagery/temp/google/angles/LC08_L1TP_042034_20160121_20170224_01_T1_sensor_zenith.tif', chunks=512) as vze:\n",
    "        with gw.open('/media/jcgr/data/imagery/temp/google/angles/LC08_L1TP_042034_20160121_20170224_01_T1_solar_azimuth.tif', chunks=512) as saa:\n",
    "            with gw.open('/media/jcgr/data/imagery/temp/google/angles/LC08_L1TP_042034_20160121_20170224_01_T1_sensor_azimuth.tif', chunks=512) as vaa:                \n",
    "                \n",
    "                with gw.open(['/media/jcgr/data/imagery/temp/google/LC08_L1TP_042034_20160121_20170224_01_T1_B4.TIF', \n",
    "                              '/media/jcgr/data/imagery/temp/google/LC08_L1TP_042034_20160121_20170224_01_T1_B5.TIF',\n",
    "                              '/media/jcgr/data/imagery/temp/google/LC08_L1TP_042034_20160121_20170224_01_T1_B6.TIF'], \n",
    "                             band_names=['red', 'nir', 'swir1'],\n",
    "                             stack_dim='band',\n",
    "                             chunks=512) as dn:\n",
    "                    \n",
    "#                     dn.gw.to_raster('/media/jcgr/data/imagery/temp/google/dn.tif', **kwargs)\n",
    "\n",
    "                    # Convert DN to surface reflectance\n",
    "                    dn_sr = rt.dn_to_sr(dn, sze, saa, vze, vaa, sensor=meta.sensor, meta=meta)\n",
    "                    \n",
    "#                     dn_sr.gw.to_raster('/media/jcgr/data/imagery/temp/google/dn_sr.tif', **kwargs)\n",
    "                    \n",
    "                    # BRDF normalization\n",
    "                    dn_sr_brdf = BRDF().norm_brdf(dn_sr, sze, saa, vze, vaa, sensor=meta.sensor, wavelengths=dn.band.values.tolist(), nodata=0)\n",
    "                    \n",
    "#                     dn_sr_brdf.gw.to_raster('/media/jcgr/data/imagery/temp/google/dn_sr_brdf.tif', **kwargs)"
   ]
  },
  {
   "cell_type": "code",
   "execution_count": null,
   "metadata": {},
   "outputs": [],
   "source": [
    "dn_sr"
   ]
  },
  {
   "cell_type": "code",
   "execution_count": null,
   "metadata": {},
   "outputs": [],
   "source": [
    "dn_sr_brdf"
   ]
  },
  {
   "cell_type": "code",
   "execution_count": null,
   "metadata": {},
   "outputs": [],
   "source": [
    "dn.sel(band='nir').plot.imshow(robust=True)"
   ]
  },
  {
   "cell_type": "code",
   "execution_count": null,
   "metadata": {},
   "outputs": [],
   "source": [
    "dn_sr.sel(band='nir').plot.imshow(robust=True)"
   ]
  },
  {
   "cell_type": "code",
   "execution_count": null,
   "metadata": {},
   "outputs": [],
   "source": [
    "dn_sr_brdf.sel(band='nir').plot.imshow(robust=True)"
   ]
  },
  {
   "cell_type": "code",
   "execution_count": null,
   "metadata": {},
   "outputs": [],
   "source": []
  }
 ],
 "metadata": {
  "kernelspec": {
   "display_name": "Python 3",
   "language": "python",
   "name": "python3"
  },
  "language_info": {
   "codemirror_mode": {
    "name": "ipython",
    "version": 3
   },
   "file_extension": ".py",
   "mimetype": "text/x-python",
   "name": "python",
   "nbconvert_exporter": "python",
   "pygments_lexer": "ipython3",
   "version": "3.6.8"
  }
 },
 "nbformat": 4,
 "nbformat_minor": 4
}
