{
 "cells": [
  {
   "cell_type": "code",
   "execution_count": 1,
   "metadata": {},
   "outputs": [
    {
     "name": "stderr",
     "output_type": "stream",
     "text": [
      "Using TensorFlow backend.\n"
     ]
    }
   ],
   "source": [
    "import subprocess\n",
    "import fnmatch\n",
    "from pathlib import Path\n",
    "\n",
    "import geowombat as gw\n",
    "from geowombat.util import GeoDownloads\n",
    "from geowombat.radiometry import BRDF, RadTransforms, landsat_pixel_angles\n",
    "from geowombat.data import rgbn\n",
    "\n",
    "import numpy as np\n",
    "import pandas as pd\n",
    "import xarray as xr\n",
    "import dask.array as da"
   ]
  },
  {
   "cell_type": "markdown",
   "metadata": {},
   "source": [
    "## Download data"
   ]
  },
  {
   "cell_type": "code",
   "execution_count": 2,
   "metadata": {},
   "outputs": [],
   "source": [
    "gdl = GeoDownloads()"
   ]
  },
  {
   "cell_type": "markdown",
   "metadata": {},
   "source": [
    "## Landsat (ETM+)"
   ]
  },
  {
   "cell_type": "code",
   "execution_count": 18,
   "metadata": {},
   "outputs": [],
   "source": [
    "gdl.list_gcp('l7', '225/083/*225083_2019*_T*')\n",
    "\n",
    "del_keys = [k for k, v in gdl.search_dict.items() if 'gap_mask' in k]\n",
    "\n",
    "for dk in del_keys:\n",
    "    del gdl.search_dict[dk]"
   ]
  },
  {
   "cell_type": "code",
   "execution_count": 19,
   "metadata": {},
   "outputs": [
    {
     "data": {
      "text/plain": [
       "['LE07/01/225/083/LE07_L1GT_225083_20190107_20190204_01_T2',\n",
       " 'LE07/01/225/083/LE07_L1GT_225083_20190123_20190220_01_T2',\n",
       " 'LE07/01/225/083/LE07_L1GT_225083_20190224_20190324_01_T2',\n",
       " 'LE07/01/225/083/LE07_L1GT_225083_20190312_20190409_01_T2',\n",
       " 'LE07/01/225/083/LE07_L1GT_225083_20190616_20190713_01_T2',\n",
       " 'LE07/01/225/083/LE07_L1TP_225083_20190208_20190306_01_T1',\n",
       " 'LE07/01/225/083/LE07_L1TP_225083_20190328_20190423_01_T1',\n",
       " 'LE07/01/225/083/LE07_L1TP_225083_20190413_20190509_01_T1',\n",
       " 'LE07/01/225/083/LE07_L1TP_225083_20190429_20190525_01_T1',\n",
       " 'LE07/01/225/083/LE07_L1TP_225083_20190515_20190610_01_T1',\n",
       " 'LE07/01/225/083/LE07_L1TP_225083_20190531_20190627_01_T1',\n",
       " 'LE07/01/225/083/LE07_L1TP_225083_20190702_20190728_01_T1',\n",
       " 'LE07/01/225/083/LE07_L1TP_225083_20190718_20190813_01_T1',\n",
       " 'LE07/01/225/083/LE07_L1TP_225083_20190803_20190829_01_T1',\n",
       " 'LE07/01/225/083/LE07_L1TP_225083_20190803_20190831_01_T1',\n",
       " 'LE07/01/225/083/LE07_L1TP_225083_20190819_20190914_01_T1',\n",
       " 'LE07/01/225/083/LE07_L1TP_225083_20190904_20191001_01_T1',\n",
       " 'LE07/01/225/083/LE07_L1TP_225083_20190920_20191016_01_T1']"
      ]
     },
     "execution_count": 19,
     "metadata": {},
     "output_type": "execute_result"
    }
   ],
   "source": [
    "list(gdl.search_dict.keys())"
   ]
  },
  {
   "cell_type": "markdown",
   "metadata": {},
   "source": [
    "## Landsat (OLI TIRS)"
   ]
  },
  {
   "cell_type": "markdown",
   "metadata": {},
   "source": [
    "#### 2018"
   ]
  },
  {
   "cell_type": "code",
   "execution_count": 3,
   "metadata": {},
   "outputs": [],
   "source": [
    "gdl.list_gcp('l8', '225/083/*225083_201809*_T*')"
   ]
  },
  {
   "cell_type": "code",
   "execution_count": 4,
   "metadata": {},
   "outputs": [
    {
     "data": {
      "text/plain": [
       "['LC08/01/225/083/LC08_L1TP_225083_20180909_20180912_01_T1',\n",
       " 'LC08/01/225/083/LC08_L1TP_225083_20180925_20180925_01_T1']"
      ]
     },
     "execution_count": 4,
     "metadata": {},
     "output_type": "execute_result"
    }
   ],
   "source": [
    "list(gdl.search_dict.keys())"
   ]
  },
  {
   "cell_type": "markdown",
   "metadata": {},
   "source": [
    "#### 2019"
   ]
  },
  {
   "cell_type": "code",
   "execution_count": 3,
   "metadata": {},
   "outputs": [],
   "source": [
    "gdl.list_gcp('l8', '225/083/*225083_2019*_T*')"
   ]
  },
  {
   "cell_type": "code",
   "execution_count": 4,
   "metadata": {},
   "outputs": [
    {
     "data": {
      "text/plain": [
       "['LC08/01/225/083/LC08_L1GT_225083_20190115_20190131_01_T2',\n",
       " 'LC08/01/225/083/LC08_L1GT_225083_20190304_20190309_01_T2',\n",
       " 'LC08/01/225/083/LC08_L1GT_225083_20190624_20190704_01_T2',\n",
       " 'LC08/01/225/083/LC08_L1GT_225083_20190710_20190719_01_T2',\n",
       " 'LC08/01/225/083/LC08_L1GT_225083_20190726_20190801_01_T2',\n",
       " 'LC08/01/225/083/LC08_L1TP_225083_20190131_20190206_01_T1',\n",
       " 'LC08/01/225/083/LC08_L1TP_225083_20190216_20190222_01_T1',\n",
       " 'LC08/01/225/083/LC08_L1TP_225083_20190320_20190326_01_T1',\n",
       " 'LC08/01/225/083/LC08_L1TP_225083_20190405_20190422_01_T1',\n",
       " 'LC08/01/225/083/LC08_L1TP_225083_20190421_20190507_01_T1',\n",
       " 'LC08/01/225/083/LC08_L1TP_225083_20190507_20190521_01_T1',\n",
       " 'LC08/01/225/083/LC08_L1TP_225083_20190523_20190604_01_T1',\n",
       " 'LC08/01/225/083/LC08_L1TP_225083_20190608_20190619_01_T1',\n",
       " 'LC08/01/225/083/LC08_L1TP_225083_20190811_20190820_01_T1',\n",
       " 'LC08/01/225/083/LC08_L1TP_225083_20190827_20190903_01_T1',\n",
       " 'LC08/01/225/083/LC08_L1TP_225083_20190912_20190917_01_T1']"
      ]
     },
     "execution_count": 4,
     "metadata": {},
     "output_type": "execute_result"
    }
   ],
   "source": [
    "list(gdl.search_dict.keys())"
   ]
  },
  {
   "cell_type": "code",
   "execution_count": 5,
   "metadata": {},
   "outputs": [],
   "source": [
    "# gdl.search_dict['LC08/01/225/083/LC08_L1TP_225083_20190131_20190206_01_T1']"
   ]
  },
  {
   "cell_type": "code",
   "execution_count": 20,
   "metadata": {},
   "outputs": [
    {
     "data": {
      "text/plain": [
       "['gs://gcp-public-data-landsat/LE07/01/225/083/LE07_L1GT_225083_20190107_20190204_01_T2/LE07_L1GT_225083_20190107_20190204_01_T2_ANG.txt',\n",
       " 'gs://gcp-public-data-landsat/LE07/01/225/083/LE07_L1GT_225083_20190107_20190204_01_T2/LE07_L1GT_225083_20190107_20190204_01_T2_B1.TIF',\n",
       " 'gs://gcp-public-data-landsat/LE07/01/225/083/LE07_L1GT_225083_20190107_20190204_01_T2/LE07_L1GT_225083_20190107_20190204_01_T2_B2.TIF',\n",
       " 'gs://gcp-public-data-landsat/LE07/01/225/083/LE07_L1GT_225083_20190107_20190204_01_T2/LE07_L1GT_225083_20190107_20190204_01_T2_B3.TIF',\n",
       " 'gs://gcp-public-data-landsat/LE07/01/225/083/LE07_L1GT_225083_20190107_20190204_01_T2/LE07_L1GT_225083_20190107_20190204_01_T2_B4.TIF',\n",
       " 'gs://gcp-public-data-landsat/LE07/01/225/083/LE07_L1GT_225083_20190107_20190204_01_T2/LE07_L1GT_225083_20190107_20190204_01_T2_B5.TIF',\n",
       " 'gs://gcp-public-data-landsat/LE07/01/225/083/LE07_L1GT_225083_20190107_20190204_01_T2/LE07_L1GT_225083_20190107_20190204_01_T2_B6_VCID_1.TIF',\n",
       " 'gs://gcp-public-data-landsat/LE07/01/225/083/LE07_L1GT_225083_20190107_20190204_01_T2/LE07_L1GT_225083_20190107_20190204_01_T2_B6_VCID_2.TIF',\n",
       " 'gs://gcp-public-data-landsat/LE07/01/225/083/LE07_L1GT_225083_20190107_20190204_01_T2/LE07_L1GT_225083_20190107_20190204_01_T2_B7.TIF',\n",
       " 'gs://gcp-public-data-landsat/LE07/01/225/083/LE07_L1GT_225083_20190107_20190204_01_T2/LE07_L1GT_225083_20190107_20190204_01_T2_B8.TIF',\n",
       " 'gs://gcp-public-data-landsat/LE07/01/225/083/LE07_L1GT_225083_20190107_20190204_01_T2/LE07_L1GT_225083_20190107_20190204_01_T2_BQA.TIF',\n",
       " 'gs://gcp-public-data-landsat/LE07/01/225/083/LE07_L1GT_225083_20190107_20190204_01_T2/LE07_L1GT_225083_20190107_20190204_01_T2_MTL.txt',\n",
       " 'gs://gcp-public-data-landsat/LE07/01/225/083/LE07_L1GT_225083_20190107_20190204_01_T2/README.GTF']"
      ]
     },
     "execution_count": 20,
     "metadata": {},
     "output_type": "execute_result"
    }
   ],
   "source": [
    "gdl.search_dict['LE07/01/225/083/LE07_L1GT_225083_20190107_20190204_01_T2']"
   ]
  },
  {
   "cell_type": "code",
   "execution_count": 5,
   "metadata": {},
   "outputs": [],
   "source": [
    "search_wildcards = ['ANG.txt', 'MTL.txt', 'B2.TIF', 'B3.TIF', 'B4.TIF', 'B5.TIF']\n",
    "outdir = '/media/jcgr/data/imagery/google/p225r083/downloads'"
   ]
  },
  {
   "cell_type": "code",
   "execution_count": 6,
   "metadata": {},
   "outputs": [
    {
     "name": "stderr",
     "output_type": "stream",
     "text": [
      "20:29:31:INFO:239:web.download_gcp:  Downloading LC08_L1TP_225083_20180909_20180912_01_T1_ANG.txt ...\n",
      "20:29:46:INFO:239:web.download_gcp:  Downloading LC08_L1TP_225083_20180909_20180912_01_T1_MTL.txt ...\n",
      "20:30:09:INFO:239:web.download_gcp:  Downloading LC08_L1TP_225083_20180909_20180912_01_T1_B2.TIF ...\n",
      "20:30:40:INFO:239:web.download_gcp:  Downloading LC08_L1TP_225083_20180909_20180912_01_T1_B3.TIF ...\n",
      "20:31:12:INFO:239:web.download_gcp:  Downloading LC08_L1TP_225083_20180909_20180912_01_T1_B4.TIF ...\n",
      "20:32:10:INFO:239:web.download_gcp:  Downloading LC08_L1TP_225083_20180909_20180912_01_T1_B5.TIF ...\n",
      "20:32:59:INFO:239:web.download_gcp:  Downloading LC08_L1TP_225083_20180925_20180925_01_T1_ANG.txt ...\n",
      "20:33:02:INFO:239:web.download_gcp:  Downloading LC08_L1TP_225083_20180925_20180925_01_T1_MTL.txt ...\n",
      "20:33:06:INFO:239:web.download_gcp:  Downloading LC08_L1TP_225083_20180925_20180925_01_T1_B2.TIF ...\n",
      "20:33:39:INFO:239:web.download_gcp:  Downloading LC08_L1TP_225083_20180925_20180925_01_T1_B3.TIF ...\n",
      "20:34:07:INFO:239:web.download_gcp:  Downloading LC08_L1TP_225083_20180925_20180925_01_T1_B4.TIF ...\n",
      "20:34:51:INFO:239:web.download_gcp:  Downloading LC08_L1TP_225083_20180925_20180925_01_T1_B5.TIF ...\n"
     ]
    }
   ],
   "source": [
    "file_info = gdl.download_gcp('l8',\n",
    "                             outdir=outdir, \n",
    "                             search_wildcards=search_wildcards,\n",
    "                             verbose=1)"
   ]
  },
  {
   "cell_type": "code",
   "execution_count": 7,
   "metadata": {},
   "outputs": [],
   "source": [
    "# file_info"
   ]
  },
  {
   "cell_type": "markdown",
   "metadata": {},
   "source": [
    "## DN -> SR -> BRDF"
   ]
  },
  {
   "cell_type": "code",
   "execution_count": 8,
   "metadata": {},
   "outputs": [],
   "source": [
    "rt = RadTransforms()\n",
    "br = BRDF()"
   ]
  },
  {
   "cell_type": "code",
   "execution_count": 9,
   "metadata": {},
   "outputs": [],
   "source": [
    "outdir_angles = '/media/jcgr/data/imagery/google/p225r083/angles'\n",
    "outdir_brdf = '/media/jcgr/data/imagery/google/p225r083/brdf'"
   ]
  },
  {
   "cell_type": "code",
   "execution_count": 10,
   "metadata": {},
   "outputs": [],
   "source": [
    "angle_infos = dict()\n",
    "\n",
    "kwargs = dict(readxsize=1024, \n",
    "              readysize=1024,\n",
    "              verbose=1,\n",
    "              separate=False,\n",
    "              n_workers=1, \n",
    "              n_threads=8,\n",
    "              n_chunks=100,\n",
    "              overwrite=False)"
   ]
  },
  {
   "cell_type": "code",
   "execution_count": 11,
   "metadata": {},
   "outputs": [],
   "source": [
    "# file_info"
   ]
  },
  {
   "cell_type": "code",
   "execution_count": 12,
   "metadata": {},
   "outputs": [
    {
     "name": "stderr",
     "output_type": "stream",
     "text": [
      "20:45:25:INFO:473:angles.landsat_pixel_angles:  Generating pixel angles ...\n",
      "20:46:16:INFO:487:io.to_raster:  Creating the file ...\n",
      "\n",
      "20:46:16:INFO:493:io.to_raster:  Writing data to file ...\n",
      "\n",
      "20:46:16:INFO:517:io.to_raster:  Windows 1--64 of 64 ...\n",
      "100%|██████████| 64/64 [01:47<00:00,  1.68s/it]\n",
      "20:48:04:INFO:706:io.to_raster:\n",
      "Finished writing the data.\n",
      "20:48:04:INFO:473:angles.landsat_pixel_angles:  Generating pixel angles ...\n",
      "20:48:35:INFO:487:io.to_raster:  Creating the file ...\n",
      "\n",
      "20:48:35:INFO:493:io.to_raster:  Writing data to file ...\n",
      "\n",
      "20:48:35:INFO:517:io.to_raster:  Windows 1--64 of 64 ...\n",
      "100%|██████████| 64/64 [01:43<00:00,  1.62s/it]\n",
      "20:50:19:INFO:706:io.to_raster:\n",
      "Finished writing the data.\n"
     ]
    }
   ],
   "source": [
    "for finfo_key, finfo_dict in file_info.items():\n",
    "    \n",
    "#     if 'LC08_L1TP_225083_20190216_20190222_01_T1' not in finfo_key:\n",
    "#         continue\n",
    "    \n",
    "    meta = rt.get_landsat_coefficients(finfo_dict['meta'].name)\n",
    "    \n",
    "    angle_info = landsat_pixel_angles(finfo_dict['angle'].name, \n",
    "                                      finfo_dict['B4'].name, \n",
    "                                      outdir_angles, \n",
    "                                      meta.sensor, \n",
    "                                      l57_angles_path='/home/jcgr/Documents/scripts/Python/git_repos/geowombat/bin/ESPA/landsat_angles', \n",
    "                                      l8_angles_path='/home/jcgr/Documents/scripts/Python/git_repos/geowombat/bin/ESPA/l8_angles',\n",
    "                                      verbose=1)\n",
    "    \n",
    "    out_dn = Path(outdir_brdf).joinpath(Path(finfo_key).name + '_dn.tif').as_posix()\n",
    "    out_sr = Path(outdir_brdf).joinpath(Path(finfo_key).name + '_sr.tif').as_posix()\n",
    "    out_brdf = Path(outdir_brdf).joinpath(Path(finfo_key).name + '.tif').as_posix()\n",
    "    \n",
    "    #with gw.config.update(ref_res=(100, 100)):\n",
    "\n",
    "    with gw.open(angle_info.sza) as sza, gw.open(angle_info.vza) as vza, gw.open(angle_info.saa) as saa, gw.open(angle_info.vaa) as vaa:\n",
    "\n",
    "        with gw.open([finfo_dict['B2'].name, \n",
    "                      finfo_dict['B3'].name, \n",
    "                      finfo_dict['B4'].name, \n",
    "                      finfo_dict['B5'].name], \n",
    "                     band_names=['blue', 'green', 'red', 'nir'],\n",
    "                     stack_dim='band') as dn:\n",
    "\n",
    "            #dn.gw.to_raster(out_dn, **kwargs)    \n",
    "\n",
    "            # Convert DN to surface reflectance\n",
    "            dn_sr = rt.dn_to_sr(dn, \n",
    "                                sza, saa, vza, vaa, \n",
    "                                sensor=meta.sensor, \n",
    "                                meta=meta)\n",
    "\n",
    "            #dn_sr.gw.to_raster(out_sr, **kwargs)\n",
    "\n",
    "            # BRDF normalization\n",
    "            dn_sr_brdf = br.norm_brdf(dn_sr, \n",
    "                                      sza, saa, vza, vaa, \n",
    "                                      sensor=meta.sensor, \n",
    "                                      wavelengths=dn.band.values.tolist(), \n",
    "                                      nodata=0)\n",
    "\n",
    "            dn_sr_brdf.gw.to_raster(out_brdf, **kwargs)    \n",
    "\n",
    "    angle_infos[finfo_key] = angle_info"
   ]
  },
  {
   "cell_type": "code",
   "execution_count": 13,
   "metadata": {},
   "outputs": [
    {
     "name": "stdout",
     "output_type": "stream",
     "text": [
      "/media/jcgr/data/imagery/google/p225r083/brdf/LC08_L1TP_225083_20180909_20180912_01_T1.tif\n",
      "/media/jcgr/data/imagery/google/p225r083/brdf/LC08_L1TP_225083_20180925_20180925_01_T1.tif\n"
     ]
    }
   ],
   "source": [
    "for finfo_key, finfo_dict in file_info.items():\n",
    "    \n",
    "    out_brdf = Path(outdir_brdf).joinpath(Path(finfo_key).name + '.tif').as_posix()\n",
    "    \n",
    "    out_brdf_ovr = out_brdf + '.ovr'\n",
    "    \n",
    "    if not Path(out_brdf_ovr).is_file():\n",
    "\n",
    "        print(out_brdf)\n",
    "\n",
    "        com = 'gdaladdo -ro {} 2 4 8 16'.format(out_brdf)\n",
    "        subprocess.call(com, shell=True)"
   ]
  },
  {
   "cell_type": "markdown",
   "metadata": {},
   "source": [
    "## Get coefficients from metadata"
   ]
  },
  {
   "cell_type": "code",
   "execution_count": null,
   "metadata": {},
   "outputs": [],
   "source": [
    "rt = RadTransforms()\n",
    "\n",
    "# meta = rt.get_coefficients(file_info[1].name)\n",
    "meta = rt.get_landsat_coefficients('/media/jcgr/data/imagery/temp/google/LC08_L1TP_042034_20160121_20170224_01_T1_MTL.txt')"
   ]
  },
  {
   "cell_type": "code",
   "execution_count": null,
   "metadata": {},
   "outputs": [],
   "source": [
    "meta"
   ]
  },
  {
   "cell_type": "markdown",
   "metadata": {},
   "source": [
    "## Check data"
   ]
  },
  {
   "cell_type": "code",
   "execution_count": null,
   "metadata": {},
   "outputs": [],
   "source": [
    "# with gw.open([file_info[2].name, file_info[3].name], \n",
    "#              band_names=['red', 'nir'],\n",
    "#              stack_dim='band') as ds:\n",
    "#     print(ds)\n",
    "# #     ds.sel(band='nir').plot.imshow()"
   ]
  },
  {
   "cell_type": "markdown",
   "metadata": {},
   "source": [
    "## Generate pixel angle files"
   ]
  },
  {
   "cell_type": "code",
   "execution_count": null,
   "metadata": {},
   "outputs": [],
   "source": [
    "# angle_info = gw.gen_pixel_angles(file_info[0].name, \n",
    "#                                  file_info[2].name, \n",
    "#                                  '/media/jcgr/data/imagery/temp/google/angles', \n",
    "#                                  meta.sensor, \n",
    "#                                  l57_angles_path='/home/jcgr/Documents/scripts/Python/git_repos/geowombat/bin/ESPA/landsat_angles', \n",
    "#                                  l8_angles_path='/home/jcgr/Documents/scripts/Python/git_repos/geowombat/bin/ESPA/l8_angles',\n",
    "#                                  verbose=1)"
   ]
  },
  {
   "cell_type": "code",
   "execution_count": null,
   "metadata": {},
   "outputs": [],
   "source": [
    "# angle_info"
   ]
  },
  {
   "cell_type": "code",
   "execution_count": null,
   "metadata": {},
   "outputs": [],
   "source": [
    "# with gw.open(angle_info.senze) as ds:\n",
    "#     ds.sel(band=1).plot.imshow(robust=True)"
   ]
  },
  {
   "cell_type": "code",
   "execution_count": null,
   "metadata": {},
   "outputs": [],
   "source": [
    "with gw.open(angle_info.senaz) as ds:\n",
    "    ds.sel(band=1).plot.imshow(robust=True)"
   ]
  },
  {
   "cell_type": "code",
   "execution_count": null,
   "metadata": {},
   "outputs": [],
   "source": [
    "with gw.open(angle_info.solaz) as solaz:\n",
    "    with gw.open(angle_info.senaz) as senaz:\n",
    "        rel_azimuth_angle = xr.ufuncs.fabs(solaz - senaz - 180.0)\n",
    "        rel_azimuth_angle.sel(band=1).plot.imshow(robust=True)"
   ]
  },
  {
   "cell_type": "markdown",
   "metadata": {},
   "source": [
    "## Convert to surface reflectance"
   ]
  },
  {
   "cell_type": "code",
   "execution_count": null,
   "metadata": {},
   "outputs": [],
   "source": [
    "angle_info"
   ]
  },
  {
   "cell_type": "code",
   "execution_count": null,
   "metadata": {},
   "outputs": [],
   "source": [
    "# with gw.open(angle_info.sze) as sze:\n",
    "#     with gw.open(angle_info.vze) as vze:\n",
    "#         with gw.open(angle_info.saa) as saa:\n",
    "#             with gw.open(angle_info.vaa) as vaa:\n",
    "#                 with gw.open([file_info[2].name, file_info[3].name], \n",
    "#                              band_names=['red', 'nir'],\n",
    "#                              stack_dim='band') as dn:\n",
    "\n",
    "kwargs = dict(readxsize=1024, \n",
    "              readysize=1024, \n",
    "              n_workers=1, \n",
    "              n_threads=4,\n",
    "              n_chunks=100,\n",
    "              overwrite=True)\n",
    "\n",
    "with gw.open('/media/jcgr/data/imagery/temp/google/angles/LC08_L1TP_042034_20160121_20170224_01_T1_solar_zenith.tif', chunks=512) as sze:\n",
    "    with gw.open('/media/jcgr/data/imagery/temp/google/angles/LC08_L1TP_042034_20160121_20170224_01_T1_sensor_zenith.tif', chunks=512) as vze:\n",
    "        with gw.open('/media/jcgr/data/imagery/temp/google/angles/LC08_L1TP_042034_20160121_20170224_01_T1_solar_azimuth.tif', chunks=512) as saa:\n",
    "            with gw.open('/media/jcgr/data/imagery/temp/google/angles/LC08_L1TP_042034_20160121_20170224_01_T1_sensor_azimuth.tif', chunks=512) as vaa:                \n",
    "                \n",
    "                with gw.open(['/media/jcgr/data/imagery/temp/google/LC08_L1TP_042034_20160121_20170224_01_T1_B4.TIF', \n",
    "                              '/media/jcgr/data/imagery/temp/google/LC08_L1TP_042034_20160121_20170224_01_T1_B5.TIF',\n",
    "                              '/media/jcgr/data/imagery/temp/google/LC08_L1TP_042034_20160121_20170224_01_T1_B6.TIF'], \n",
    "                             band_names=['red', 'nir', 'swir1'],\n",
    "                             stack_dim='band',\n",
    "                             chunks=512) as dn:\n",
    "                    \n",
    "#                     dn.gw.to_raster('/media/jcgr/data/imagery/temp/google/dn.tif', **kwargs)\n",
    "\n",
    "                    # Convert DN to surface reflectance\n",
    "                    dn_sr = rt.dn_to_sr(dn, sze, saa, vze, vaa, sensor=meta.sensor, meta=meta)\n",
    "                    \n",
    "#                     dn_sr.gw.to_raster('/media/jcgr/data/imagery/temp/google/dn_sr.tif', **kwargs)\n",
    "                    \n",
    "                    # BRDF normalization\n",
    "                    dn_sr_brdf = BRDF().norm_brdf(dn_sr, sze, saa, vze, vaa, sensor=meta.sensor, wavelengths=dn.band.values.tolist(), nodata=0)\n",
    "                    \n",
    "#                     dn_sr_brdf.gw.to_raster('/media/jcgr/data/imagery/temp/google/dn_sr_brdf.tif', **kwargs)"
   ]
  },
  {
   "cell_type": "code",
   "execution_count": null,
   "metadata": {},
   "outputs": [],
   "source": [
    "dn_sr"
   ]
  },
  {
   "cell_type": "code",
   "execution_count": null,
   "metadata": {},
   "outputs": [],
   "source": [
    "dn_sr_brdf"
   ]
  },
  {
   "cell_type": "code",
   "execution_count": null,
   "metadata": {},
   "outputs": [],
   "source": [
    "dn.sel(band='nir').plot.imshow(robust=True)"
   ]
  },
  {
   "cell_type": "code",
   "execution_count": null,
   "metadata": {},
   "outputs": [],
   "source": [
    "dn_sr.sel(band='nir').plot.imshow(robust=True)"
   ]
  },
  {
   "cell_type": "code",
   "execution_count": null,
   "metadata": {},
   "outputs": [],
   "source": [
    "dn_sr_brdf.sel(band='nir').plot.imshow(robust=True)"
   ]
  },
  {
   "cell_type": "code",
   "execution_count": null,
   "metadata": {},
   "outputs": [],
   "source": []
  }
 ],
 "metadata": {
  "kernelspec": {
   "display_name": "Python 3",
   "language": "python",
   "name": "python3"
  },
  "language_info": {
   "codemirror_mode": {
    "name": "ipython",
    "version": 3
   },
   "file_extension": ".py",
   "mimetype": "text/x-python",
   "name": "python",
   "nbconvert_exporter": "python",
   "pygments_lexer": "ipython3",
   "version": "3.6.8"
  }
 },
 "nbformat": 4,
 "nbformat_minor": 4
}
