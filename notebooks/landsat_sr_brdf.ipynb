{
 "cells": [
  {
   "cell_type": "code",
   "execution_count": 1,
   "metadata": {},
   "outputs": [
    {
     "name": "stderr",
     "output_type": "stream",
     "text": [
      "/Users/Admin/Documents/jordan/scripts/Python/venvs/ts3/lib/python3.7/site-packages/distributed-2.6.0-py3.7.egg/distributed/utils.py:133: RuntimeWarning: Couldn't detect a suitable IP address for reaching '8.8.8.8', defaulting to '127.0.0.1': [Errno 51] Network is unreachable\n",
      "  RuntimeWarning,\n"
     ]
    }
   ],
   "source": [
    "import subprocess\n",
    "import fnmatch\n",
    "from pathlib import Path\n",
    "\n",
    "import geowombat as gw\n",
    "from geowombat.util import GeoDownloads\n",
    "from geowombat.radiometry import BRDF, RadTransforms, landsat_pixel_angles\n",
    "from geowombat.data import rgbn\n",
    "\n",
    "import numpy as np\n",
    "import pandas as pd\n",
    "import xarray as xr\n",
    "import dask.array as da\n",
    "from tqdm import tqdm"
   ]
  },
  {
   "cell_type": "code",
   "execution_count": 2,
   "metadata": {},
   "outputs": [],
   "source": [
    "import os\n",
    "import geopandas as gpd\n",
    "from shapely.geometry import Polygon\n",
    "import matplotlib.pyplot as plt"
   ]
  },
  {
   "cell_type": "code",
   "execution_count": null,
   "metadata": {},
   "outputs": [
    {
     "name": "stdout",
     "output_type": "stream",
     "text": [
      "> \u001b[0;32m/Users/Admin/Documents/jordan/scripts/Python/venvs/ts3/lib/python3.7/site-packages/GeoWombat-1.0.0b0-py3.7-macosx-10.14-x86_64.egg/geowombat/util/web.py\u001b[0m(192)\u001b[0;36mdownload_cube\u001b[0;34m()\u001b[0m\n",
      "\u001b[0;32m    191 \u001b[0;31m\u001b[0;34m\u001b[0m\u001b[0m\n",
      "\u001b[0m\u001b[0;32m--> 192 \u001b[0;31m                        \u001b[0mself\u001b[0m\u001b[0;34m.\u001b[0m\u001b[0mlist_gcp\u001b[0m\u001b[0;34m(\u001b[0m\u001b[0msensor\u001b[0m\u001b[0;34m,\u001b[0m \u001b[0mquery\u001b[0m\u001b[0;34m)\u001b[0m\u001b[0;34m\u001b[0m\u001b[0;34m\u001b[0m\u001b[0m\n",
      "\u001b[0m\u001b[0;32m    193 \u001b[0;31m\u001b[0;34m\u001b[0m\u001b[0m\n",
      "\u001b[0m\n"
     ]
    },
    {
     "name": "stdin",
     "output_type": "stream",
     "text": [
      "ipdb>  locations\n"
     ]
    },
    {
     "name": "stdout",
     "output_type": "stream",
     "text": [
      "['025/032', '024/032']\n"
     ]
    },
    {
     "name": "stdin",
     "output_type": "stream",
     "text": [
      "ipdb>  query\n"
     ]
    },
    {
     "name": "stdout",
     "output_type": "stream",
     "text": [
      "'025/032/*025032_201001*_T*'\n"
     ]
    },
    {
     "name": "stdin",
     "output_type": "stream",
     "text": [
      "ipdb>  yearmonth_query\n"
     ]
    },
    {
     "name": "stdout",
     "output_type": "stream",
     "text": [
      "'201001'\n"
     ]
    },
    {
     "name": "stdin",
     "output_type": "stream",
     "text": [
      "ipdb>  month_range\n"
     ]
    },
    {
     "name": "stdout",
     "output_type": "stream",
     "text": [
      "[1, 2]\n"
     ]
    },
    {
     "name": "stdin",
     "output_type": "stream",
     "text": [
      "ipdb>  year\n"
     ]
    },
    {
     "name": "stdout",
     "output_type": "stream",
     "text": [
      "2010\n"
     ]
    },
    {
     "name": "stdin",
     "output_type": "stream",
     "text": [
      "ipdb>  self.list_gcp(sensor, query)\n",
      "ipdb>  del_keys = [k for k, v in self.search_dict.items() if 'gap_mask' in k]\n",
      "ipdb>  for dk in del_keys: del self.search_dict[dk]\n",
      "ipdb>  list(self.search_dict.keys())\n"
     ]
    },
    {
     "name": "stdout",
     "output_type": "stream",
     "text": [
      "*** Error in argument: '(self.search_dict.keys())'\n"
     ]
    },
    {
     "name": "stdin",
     "output_type": "stream",
     "text": [
      "ipdb>  print(list(self.search_dict.keys()))\n"
     ]
    },
    {
     "name": "stdout",
     "output_type": "stream",
     "text": [
      "['LE07/01/025/032/LE07_L1GT_025032_20100121_20160916_01_T2', 'LE07/01/025/032/LE07_L1TP_025032_20100105_20160916_01_T2']\n"
     ]
    },
    {
     "name": "stdin",
     "output_type": "stream",
     "text": [
      "ipdb>  bands\n"
     ]
    },
    {
     "name": "stdout",
     "output_type": "stream",
     "text": [
      "['B8']\n"
     ]
    },
    {
     "name": "stdin",
     "output_type": "stream",
     "text": [
      "ipdb>  search_wildcards = ['ANG.txt', 'MTL.txt'] + [bd + '.TIF' for bd in bands]\n",
      "ipdb>  search_wildcards\n"
     ]
    },
    {
     "name": "stdout",
     "output_type": "stream",
     "text": [
      "['ANG.txt', 'MTL.txt', 'B8.TIF']\n"
     ]
    },
    {
     "name": "stdin",
     "output_type": "stream",
     "text": [
      "ipdb>  crs\n"
     ]
    },
    {
     "name": "stdout",
     "output_type": "stream",
     "text": [
      "{'init': 'epsg:4326'}\n"
     ]
    },
    {
     "name": "stdin",
     "output_type": "stream",
     "text": [
      "ipdb>  bounds\n"
     ]
    },
    {
     "name": "stdout",
     "output_type": "stream",
     "text": [
      "   0                                           geometry\n",
      "0  0  POLYGON ((-91.57000 40.42000, -91.46000 40.420...\n"
     ]
    }
   ],
   "source": [
    "gdl = GeoDownloads()\n",
    "\n",
    "gdl.download_cube(['l7'], \n",
    "                  ['2010-01-01', '2010-02-01'],\n",
    "                  (-91.57, 40.37, -91.46, 40.42),\n",
    "                  ['B8'],\n",
    "                  crs={'init': 'epsg:4326'})"
   ]
  },
  {
   "cell_type": "code",
   "execution_count": 5,
   "metadata": {},
   "outputs": [],
   "source": [
    "data_bin = os.path.realpath(os.path.dirname('/Users/Admin/Documents/jordan/scripts/Python/geowombat/geowombat/util/web.py'))\n",
    "wrs = Path(data_bin).joinpath('../data/wrs2_descending.shp')"
   ]
  },
  {
   "cell_type": "code",
   "execution_count": 6,
   "metadata": {},
   "outputs": [],
   "source": [
    "df = gpd.read_file(wrs)"
   ]
  },
  {
   "cell_type": "code",
   "execution_count": 7,
   "metadata": {},
   "outputs": [],
   "source": [
    "def intersect_geometry(dfa, dfb):\n",
    "    \n",
    "    \"\"\"\n",
    "    Gets all possible intersections between two geometries\n",
    "    \"\"\"\n",
    "    \n",
    "    int_geoms = list()\n",
    "    \n",
    "    for i in range(0, dfa.shape[0]):\n",
    "        \n",
    "        geoma = dfa.iloc[i].geometry\n",
    "        \n",
    "        geomb = dfb.iloc[i].geometry\n",
    "\n",
    "        if geomb:\n",
    "            int_geoms.append(geoma.intersection(geomb))\n",
    "\n",
    "        if i > 0:\n",
    "            geomb = dfb.iloc[i-1].geometry\n",
    "            if geomb:\n",
    "                int_geoms.append(geoma.intersection(geomb))\n",
    "        \n",
    "        if i < dfa.shape[0]-1:\n",
    "            geomb = dfb.iloc[i+1].geometry\n",
    "            if geomb:\n",
    "                int_geoms.append(geoma.intersection(geomb))\n",
    "        \n",
    "    return gpd.GeoDataFrame(data=np.ones(len(int_geoms), dtype='uint8'), \n",
    "                            geometry=int_geoms, \n",
    "                            columns=['values'])"
   ]
  },
  {
   "cell_type": "code",
   "execution_count": 8,
   "metadata": {},
   "outputs": [
    {
     "name": "stderr",
     "output_type": "stream",
     "text": [
      "100%|██████████| 233/233 [01:37<00:00,  2.38it/s]\n"
     ]
    }
   ],
   "source": [
    "dfm = None\n",
    "\n",
    "for path in tqdm(range(1, 234), total=233):\n",
    "\n",
    "    path_plus = 1 if path == 233 else path + 1\n",
    "    \n",
    "    dfa = df.query(\"(PATH == {:d})\".format(path))\n",
    "    dfb = df.query(\"(PATH == {:d})\".format(path_plus))\n",
    "    \n",
    "    if dfa.empty or dfb.empty:\n",
    "        continue\n",
    "\n",
    "    dfi = intersect_geometry(dfa, dfb)\n",
    "    \n",
    "    if not isinstance(dfm, gpd.GeoDataFrame):\n",
    "        dfm = dfi.copy()\n",
    "    else:\n",
    "        dfm = pd.concat((dfm, dfi), axis=0)"
   ]
  },
  {
   "cell_type": "code",
   "execution_count": null,
   "metadata": {},
   "outputs": [],
   "source": [
    "# dfm = dfm.dissolve(by='values')"
   ]
  },
  {
   "cell_type": "code",
   "execution_count": 17,
   "metadata": {},
   "outputs": [
    {
     "data": {
      "text/plain": [
       "array([-180.    ,  -82.6401,  180.    ,   82.6401])"
      ]
     },
     "execution_count": 17,
     "metadata": {},
     "output_type": "execute_result"
    }
   ],
   "source": [
    "df.total_bounds"
   ]
  },
  {
   "cell_type": "code",
   "execution_count": 20,
   "metadata": {},
   "outputs": [
    {
     "data": {
      "image/png": "[encoded data removed]",
      "text/plain": [
       "<Figure size 432x288 with 2 Axes>"
      ]
     },
     "metadata": {
      "needs_background": "light"
     },
     "output_type": "display_data"
    }
   ],
   "source": [
    "with gw.open('/Users/Admin/Documents/jordan/wrs2_descending/wrs2_descending_overlaps_grid.tif') as data:\n",
    "    data.sel(band=1).plot.imshow()"
   ]
  },
  {
   "cell_type": "code",
   "execution_count": 6,
   "metadata": {},
   "outputs": [
    {
     "name": "stdout",
     "output_type": "stream",
     "text": [
      "[0 1]\n"
     ]
    }
   ],
   "source": [
    "from geowombat.core.util import rasterize_geometry\n",
    "\n",
    "all_touched = False\n",
    "frac = 0.1\n",
    "\n",
    "# gdal_rasterize -a values -l wrs2_descending_overlaps -a_nodata 0 -init 0 -tr 0.1 0.1 -tap -ot Byte -co TILED=YES -co COMPRESS=LZW wrs2_descending_overlaps.shp wrs2_descending_overlaps_grid.tif\n",
    "with gw.open('/Users/Admin/Documents/jordan/wrs2_descending/wrs2_descending_overlaps_grid.tif') as data:\n",
    "\n",
    "    print(da.unique(data.data).compute())\n",
    "    \n",
    "#     meta = data.gw.meta\n",
    "\n",
    "#     dfrow = dfm.iloc[0]\n",
    "\n",
    "#     point_df = rasterize_geometry(dfrow['values'],\n",
    "#                                   dfrow.geometry,\n",
    "#                                   dfm.crs,\n",
    "#                                   data.res[0],\n",
    "#                                   all_touched,\n",
    "#                                   meta,\n",
    "#                                   frac)"
   ]
  },
  {
   "cell_type": "code",
   "execution_count": 55,
   "metadata": {},
   "outputs": [
    {
     "data": {
      "text/plain": [
       "<matplotlib.axes._subplots.AxesSubplot at 0x12e2b7690>"
      ]
     },
     "execution_count": 55,
     "metadata": {},
     "output_type": "execute_result"
    },
    {
     "data": {
      "image/png": "[encoded data removed]",
      "text/plain": [
       "<Figure size 432x288 with 1 Axes>"
      ]
     },
     "metadata": {
      "needs_background": "light"
     },
     "output_type": "display_data"
    }
   ],
   "source": [
    "fig, ax = plt.subplots()\n",
    "\n",
    "ax = dfm.iloc[:4].plot(color='none', edgecolor='red', ax=ax)\n",
    "point_df.plot(c='k', edgecolor='white', lw=0.1, alpha=0.5, ax=ax)"
   ]
  },
  {
   "cell_type": "code",
   "execution_count": 15,
   "metadata": {},
   "outputs": [],
   "source": [
    "dfm.sample?"
   ]
  },
  {
   "cell_type": "code",
   "execution_count": 10,
   "metadata": {},
   "outputs": [],
   "source": [
    "dfm.to_file('/Users/Admin/Documents/jordan/wrs2_descending/wrs2_descending_overlaps.shp')"
   ]
  },
  {
   "cell_type": "code",
   "execution_count": 12,
   "metadata": {},
   "outputs": [
    {
     "data": {
      "image/png": "[encoded data removed]",
      "text/plain": [
       "<Figure size 432x288 with 1 Axes>"
      ]
     },
     "metadata": {
      "needs_background": "light"
     },
     "output_type": "display_data"
    }
   ],
   "source": [
    "fig, ax = plt.subplots()\n",
    "\n",
    "ax.set_xlim(-50, -35)\n",
    "ax.set_ylim(25, 50)\n",
    "\n",
    "# ax = dfa.plot(color='none', edgecolor='blue', ax=ax)\n",
    "# ax = dfb.plot(color='none', edgecolor='red', ax=ax)\n",
    "# ax = df.plot(color='none', edgecolor='red', ax=ax)\n",
    "ax = dfm.plot(color='k', edgecolor='none', ax=ax)"
   ]
  },
  {
   "cell_type": "markdown",
   "metadata": {},
   "source": [
    "## Download data"
   ]
  },
  {
   "cell_type": "code",
   "execution_count": null,
   "metadata": {},
   "outputs": [],
   "source": [
    "gdl = GeoDownloads()"
   ]
  },
  {
   "cell_type": "code",
   "execution_count": null,
   "metadata": {},
   "outputs": [],
   "source": [
    "import os\n",
    "from datetime import datetime\n",
    "\n",
    "rt = RadTransforms()\n",
    "br = BRDF()\n",
    "\n",
    "############\n",
    "date_range = ['2004-10-01', '2005-05-01']\n",
    "search_wildcards = ['ANG.txt', 'MTL.txt', 'B4.TIF', 'B8.TIF']\n",
    "############\n",
    "\n",
    "outdir = '/Users/Admin/Documents/jordan/imagery'\n",
    "main_path = Path(outdir)\n",
    "outdir_angles = main_path.joinpath('angles')\n",
    "outdir_brdf = main_path.joinpath('brdf')\n",
    "if not main_path.is_dir():\n",
    "    main_path.mkdir()\n",
    "\n",
    "if not outdir_angles.is_dir():\n",
    "    outdir_angles.mkdir()\n",
    "\n",
    "if not outdir_brdf.is_dir():\n",
    "    outdir_brdf.mkdir()\n",
    "    \n",
    "gw_bin = os.path.realpath(os.path.dirname('/Users/Admin/Documents/jordan/scripts/Python/geowombat/geowombat/util/web.py'))\n",
    "gw_bin = Path(gw_bin).joinpath('/../../bin')\n",
    "\n",
    "sensors = ['l7', 'l8']\n",
    "\n",
    "location = '225/083'\n",
    "\n",
    "dt1 = datetime.strptime(date_range[0], '%Y-%m-%d')\n",
    "dt2 = datetime.strptime(date_range[1], '%Y-%m-%d')\n",
    "\n",
    "year = dt1.year\n",
    "month = dt1.month\n",
    "\n",
    "months = [1, 2, 3, 4, 5, 6, 7, 8, 9, 10, 11, 12]\n",
    "\n",
    "month_range = months[months.index(month):] + months[:months.index(dt2.month)+1]\n",
    "\n",
    "m = month_range[0]\n",
    "\n",
    "yearmonth_query = '{:d}{:02d}'.format(year, m)\n",
    "\n",
    "sensor = sensors[0]\n",
    "\n",
    "query = '{LOCATION}/*{PATHROW}_{YM}*_T*'.format(LOCATION=location,\n",
    "                                                PATHROW=location.replace('/', ''),\n",
    "                                                YM=yearmonth_query)\n",
    "\n",
    "gdl.list_gcp(sensor, query)\n",
    "\n",
    "if sensor.lower() != 's2':\n",
    "\n",
    "    del_keys = [k for k, v in gdl.search_dict.items() if 'gap_mask' in k]\n",
    "\n",
    "    for dk in del_keys:\n",
    "        del gdl.search_dict[dk]\n",
    "        \n",
    "file_info = gdl.download_gcp(sensor,\n",
    "                             outdir=outdir,\n",
    "                             search_wildcards=search_wildcards,\n",
    "                             verbose=1)\n",
    "\n",
    "for finfo_key, finfo_dict in file_info.items():\n",
    "    \n",
    "    meta = rt.get_landsat_coefficients(finfo_dict['meta'].name)\n",
    "\n",
    "#     angle_info = landsat_pixel_angles(finfo_dict['angle'].name,\n",
    "#                                       finfo_dict['B8'].name,\n",
    "#                                       outdir_angles.as_posix(),\n",
    "#                                       meta.sensor,\n",
    "#                                       l57_angles_path=gw_bin.joinpath('/ESPA/landsat_angles').as_posix(),\n",
    "#                                       l8_angles_path=gw_bin.joinpath('/ESPA/l8_angles').as_posix(),\n",
    "#                                       verbose=1)\n",
    "\n",
    "    \n"
   ]
  },
  {
   "cell_type": "markdown",
   "metadata": {},
   "source": [
    "## Landsat (ETM+)"
   ]
  },
  {
   "cell_type": "code",
   "execution_count": null,
   "metadata": {},
   "outputs": [],
   "source": [
    "gdl.list_gcp('l7', '225/083/*225083_201901*_T*')\n",
    "\n",
    "del_keys = [k for k, v in gdl.search_dict.items() if 'gap_mask' in k]\n",
    "\n",
    "for dk in del_keys:\n",
    "    del gdl.search_dict[dk]"
   ]
  },
  {
   "cell_type": "code",
   "execution_count": null,
   "metadata": {},
   "outputs": [],
   "source": [
    "list(gdl.search_dict.keys())"
   ]
  },
  {
   "cell_type": "code",
   "execution_count": null,
   "metadata": {},
   "outputs": [],
   "source": [
    "gdl.search_dict['LE07/01/225/083/LE07_L1TP_225083_20190208_20190306_01_T1']"
   ]
  },
  {
   "cell_type": "code",
   "execution_count": null,
   "metadata": {},
   "outputs": [],
   "source": [
    "search_wildcards = ['ANG.txt', 'MTL.txt', 'B8.TIF']\n",
    "outdir = '/Users/Admin/Documents/jordan/imagery'\n",
    "p = Path(outdir)"
   ]
  },
  {
   "cell_type": "code",
   "execution_count": null,
   "metadata": {},
   "outputs": [],
   "source": [
    "file_info = gdl.download_gcp('l7',\n",
    "                             outdir=outdir, \n",
    "                             downloads='LE07/01/225/083/LE07_L1TP_225083_20190208_20190306_01_T1',\n",
    "                             search_wildcards=search_wildcards,\n",
    "                             verbose=1)"
   ]
  },
  {
   "cell_type": "code",
   "execution_count": null,
   "metadata": {},
   "outputs": [],
   "source": [
    "with gw.config.update():\n",
    "\n",
    "    with gw.open(p.joinpath('LE07_L1TP_225083_20190208_20190306_01_T1_B8.TIF').as_posix(),\n",
    "                 band_names=['pan']) as ds:\n",
    "        print(ds)\n",
    "        #ds.gw.imshow(band_names='pan')\n",
    "        ds.sel(band='pan')[5000:6000, 5000:6000].plot.imshow(robust=True)"
   ]
  },
  {
   "cell_type": "markdown",
   "metadata": {},
   "source": [
    "## Landsat (OLI TIRS)"
   ]
  },
  {
   "cell_type": "markdown",
   "metadata": {},
   "source": [
    "#### 2018"
   ]
  },
  {
   "cell_type": "code",
   "execution_count": null,
   "metadata": {},
   "outputs": [],
   "source": [
    "gdl.list_gcp('l8', '225/083/*225083_201809*_T*')"
   ]
  },
  {
   "cell_type": "code",
   "execution_count": null,
   "metadata": {},
   "outputs": [],
   "source": [
    "list(gdl.search_dict.keys())"
   ]
  },
  {
   "cell_type": "markdown",
   "metadata": {},
   "source": [
    "#### 2019"
   ]
  },
  {
   "cell_type": "code",
   "execution_count": null,
   "metadata": {},
   "outputs": [],
   "source": [
    "gdl.list_gcp('l8', '225/083/*225083_2019*_T*')"
   ]
  },
  {
   "cell_type": "code",
   "execution_count": null,
   "metadata": {},
   "outputs": [],
   "source": [
    "list(gdl.search_dict.keys())"
   ]
  },
  {
   "cell_type": "code",
   "execution_count": null,
   "metadata": {},
   "outputs": [],
   "source": [
    "# gdl.search_dict['LC08/01/225/083/LC08_L1TP_225083_20190131_20190206_01_T1']"
   ]
  },
  {
   "cell_type": "code",
   "execution_count": null,
   "metadata": {},
   "outputs": [],
   "source": [
    "gdl.search_dict['LC08/01/225/083/LC08_L1TP_225083_20180909_20180912_01_T1']"
   ]
  },
  {
   "cell_type": "code",
   "execution_count": null,
   "metadata": {},
   "outputs": [],
   "source": [
    "file_info = gdl.download_gcp('l8',\n",
    "                             outdir=outdir, \n",
    "                             downloads='LC08/01/225/083/LC08_L1TP_225083_20180909_20180912_01_T1',\n",
    "                             search_wildcards=search_wildcards,\n",
    "                             verbose=1)"
   ]
  },
  {
   "cell_type": "code",
   "execution_count": null,
   "metadata": {},
   "outputs": [],
   "source": [
    "search_wildcards = ['ANG.txt', 'MTL.txt', 'B2.TIF', 'B3.TIF', 'B4.TIF', 'B5.TIF']\n",
    "outdir = '/media/jcgr/data/imagery/google/p225r083/downloads'"
   ]
  },
  {
   "cell_type": "code",
   "execution_count": null,
   "metadata": {},
   "outputs": [],
   "source": [
    "file_info = gdl.download_gcp('l8',\n",
    "                             outdir=outdir, \n",
    "                             search_wildcards=search_wildcards,\n",
    "                             verbose=1)"
   ]
  },
  {
   "cell_type": "code",
   "execution_count": null,
   "metadata": {},
   "outputs": [],
   "source": [
    "# file_info"
   ]
  },
  {
   "cell_type": "markdown",
   "metadata": {},
   "source": [
    "## DN -> SR -> BRDF"
   ]
  },
  {
   "cell_type": "code",
   "execution_count": null,
   "metadata": {},
   "outputs": [],
   "source": [
    "rt = RadTransforms()\n",
    "br = BRDF()"
   ]
  },
  {
   "cell_type": "code",
   "execution_count": null,
   "metadata": {},
   "outputs": [],
   "source": [
    "outdir_angles = p.joinpath('angles')\n",
    "outdir_brdf = p.joinpath('brdf')\n",
    "gw_bin = Path('/Users/Admin/Documents/jordan/scripts/Python/geowombat/geowombat/bin')"
   ]
  },
  {
   "cell_type": "code",
   "execution_count": null,
   "metadata": {},
   "outputs": [],
   "source": [
    "os.path.realpath(__file__)"
   ]
  },
  {
   "cell_type": "code",
   "execution_count": null,
   "metadata": {},
   "outputs": [],
   "source": [
    "angle_infos = dict()\n",
    "\n",
    "kwargs = dict(readxsize=1024, \n",
    "              readysize=1024,\n",
    "              verbose=1,\n",
    "              separate=False,\n",
    "              n_workers=1, \n",
    "              n_threads=8,\n",
    "              n_chunks=100,\n",
    "              overwrite=False)"
   ]
  },
  {
   "cell_type": "code",
   "execution_count": null,
   "metadata": {},
   "outputs": [],
   "source": [
    "file_info"
   ]
  },
  {
   "cell_type": "code",
   "execution_count": null,
   "metadata": {},
   "outputs": [],
   "source": [
    "for finfo_key, finfo_dict in file_info.items():\n",
    "    \n",
    "#     if 'LC08_L1TP_225083_20190216_20190222_01_T1' not in finfo_key:\n",
    "#         continue\n",
    "\n",
    "    meta = rt.get_landsat_coefficients(finfo_dict['meta'].name)\n",
    "    \n",
    "    angle_info = landsat_pixel_angles(finfo_dict['angle'].name, \n",
    "                                      finfo_dict['B8'].name, \n",
    "                                      outdir_angles.as_posix(), \n",
    "                                      meta.sensor, \n",
    "                                      l57_angles_path=gw_bin.joinpath('/ESPA/landsat_angles').as_posix(), \n",
    "                                      l8_angles_path=gw_bin.joinpath('/ESPA/l8_angles').as_posix(),\n",
    "                                      verbose=1)\n",
    "    \n",
    "    out_dn = outdir_brdf.joinpath(Path(finfo_key).name + '_dn.tif').as_posix()\n",
    "    out_sr = outdir_brdf.joinpath(Path(finfo_key).name + '_sr.tif').as_posix()\n",
    "    out_brdf = outdir_brdf.joinpath(Path(finfo_key).name + '.tif').as_posix()\n",
    "    break\n",
    "    #with gw.config.update(ref_res=(100, 100)):\n",
    "\n",
    "    with gw.open(angle_info.sza) as sza, gw.open(angle_info.vza) as vza, gw.open(angle_info.saa) as saa, gw.open(angle_info.vaa) as vaa:\n",
    "\n",
    "        with gw.open([finfo_dict['B2'].name, \n",
    "                      finfo_dict['B3'].name, \n",
    "                      finfo_dict['B4'].name, \n",
    "                      finfo_dict['B5'].name], \n",
    "                     band_names=['blue', 'green', 'red', 'nir'],\n",
    "                     stack_dim='band') as dn:\n",
    "\n",
    "            #dn.gw.to_raster(out_dn, **kwargs)    \n",
    "\n",
    "            # Convert DN to surface reflectance\n",
    "            dn_sr = rt.dn_to_sr(dn, \n",
    "                                sza, saa, vza, vaa, \n",
    "                                sensor=meta.sensor, \n",
    "                                meta=meta)\n",
    "\n",
    "            #dn_sr.gw.to_raster(out_sr, **kwargs)\n",
    "\n",
    "            # BRDF normalization\n",
    "            dn_sr_brdf = br.norm_brdf(dn_sr, \n",
    "                                      sza, saa, vza, vaa, \n",
    "                                      sensor=meta.sensor, \n",
    "                                      wavelengths=dn.band.values.tolist(), \n",
    "                                      nodata=0)\n",
    "\n",
    "            dn_sr_brdf.gw.to_raster(out_brdf, **kwargs)    \n",
    "\n",
    "    angle_infos[finfo_key] = angle_info"
   ]
  },
  {
   "cell_type": "code",
   "execution_count": null,
   "metadata": {},
   "outputs": [],
   "source": [
    "for finfo_key, finfo_dict in file_info.items():\n",
    "    \n",
    "    out_brdf = Path(outdir_brdf).joinpath(Path(finfo_key).name + '.tif').as_posix()\n",
    "    \n",
    "    out_brdf_ovr = out_brdf + '.ovr'\n",
    "    \n",
    "    if not Path(out_brdf_ovr).is_file():\n",
    "\n",
    "        print(out_brdf)\n",
    "\n",
    "        com = 'gdaladdo -ro {} 2 4 8 16'.format(out_brdf)\n",
    "        subprocess.call(com, shell=True)"
   ]
  },
  {
   "cell_type": "markdown",
   "metadata": {},
   "source": [
    "## Get coefficients from metadata"
   ]
  },
  {
   "cell_type": "code",
   "execution_count": null,
   "metadata": {},
   "outputs": [],
   "source": [
    "rt = RadTransforms()\n",
    "\n",
    "meta = rt.get_landsat_coefficients('/Users/Admin/Documents/jordan/imagery/LE07_L1GT_225083_20190107_20190204_01_T2_MTL.txt')"
   ]
  },
  {
   "cell_type": "code",
   "execution_count": null,
   "metadata": {},
   "outputs": [],
   "source": [
    "meta"
   ]
  },
  {
   "cell_type": "code",
   "execution_count": null,
   "metadata": {},
   "outputs": [],
   "source": [
    "rt = RadTransforms()\n",
    "\n",
    "# meta = rt.get_coefficients(file_info[1].name)\n",
    "meta = rt.get_landsat_coefficients('/media/jcgr/data/imagery/temp/google/LC08_L1TP_042034_20160121_20170224_01_T1_MTL.txt')"
   ]
  },
  {
   "cell_type": "code",
   "execution_count": null,
   "metadata": {},
   "outputs": [],
   "source": [
    "meta"
   ]
  },
  {
   "cell_type": "markdown",
   "metadata": {},
   "source": [
    "## Check data"
   ]
  },
  {
   "cell_type": "code",
   "execution_count": null,
   "metadata": {},
   "outputs": [],
   "source": [
    "# with gw.open([file_info[2].name, file_info[3].name], \n",
    "#              band_names=['red', 'nir'],\n",
    "#              stack_dim='band') as ds:\n",
    "#     print(ds)\n",
    "# #     ds.sel(band='nir').plot.imshow()"
   ]
  },
  {
   "cell_type": "markdown",
   "metadata": {},
   "source": [
    "## Generate pixel angle files"
   ]
  },
  {
   "cell_type": "code",
   "execution_count": null,
   "metadata": {},
   "outputs": [],
   "source": [
    "# angle_info = gw.gen_pixel_angles(file_info[0].name, \n",
    "#                                  file_info[2].name, \n",
    "#                                  '/media/jcgr/data/imagery/temp/google/angles', \n",
    "#                                  meta.sensor, \n",
    "#                                  l57_angles_path='/home/jcgr/Documents/scripts/Python/git_repos/geowombat/bin/ESPA/landsat_angles', \n",
    "#                                  l8_angles_path='/home/jcgr/Documents/scripts/Python/git_repos/geowombat/bin/ESPA/l8_angles',\n",
    "#                                  verbose=1)"
   ]
  },
  {
   "cell_type": "code",
   "execution_count": null,
   "metadata": {},
   "outputs": [],
   "source": [
    "# angle_info"
   ]
  },
  {
   "cell_type": "code",
   "execution_count": null,
   "metadata": {},
   "outputs": [],
   "source": [
    "# with gw.open(angle_info.senze) as ds:\n",
    "#     ds.sel(band=1).plot.imshow(robust=True)"
   ]
  },
  {
   "cell_type": "code",
   "execution_count": null,
   "metadata": {},
   "outputs": [],
   "source": [
    "with gw.open(angle_info.senaz) as ds:\n",
    "    ds.sel(band=1).plot.imshow(robust=True)"
   ]
  },
  {
   "cell_type": "code",
   "execution_count": null,
   "metadata": {},
   "outputs": [],
   "source": [
    "with gw.open(angle_info.solaz) as solaz:\n",
    "    with gw.open(angle_info.senaz) as senaz:\n",
    "        rel_azimuth_angle = xr.ufuncs.fabs(solaz - senaz - 180.0)\n",
    "        rel_azimuth_angle.sel(band=1).plot.imshow(robust=True)"
   ]
  },
  {
   "cell_type": "markdown",
   "metadata": {},
   "source": [
    "## Convert to surface reflectance"
   ]
  },
  {
   "cell_type": "code",
   "execution_count": null,
   "metadata": {},
   "outputs": [],
   "source": [
    "angle_info"
   ]
  },
  {
   "cell_type": "code",
   "execution_count": null,
   "metadata": {},
   "outputs": [],
   "source": [
    "# with gw.open(angle_info.sze) as sze:\n",
    "#     with gw.open(angle_info.vze) as vze:\n",
    "#         with gw.open(angle_info.saa) as saa:\n",
    "#             with gw.open(angle_info.vaa) as vaa:\n",
    "#                 with gw.open([file_info[2].name, file_info[3].name], \n",
    "#                              band_names=['red', 'nir'],\n",
    "#                              stack_dim='band') as dn:\n",
    "\n",
    "kwargs = dict(readxsize=1024, \n",
    "              readysize=1024, \n",
    "              n_workers=1, \n",
    "              n_threads=4,\n",
    "              n_chunks=100,\n",
    "              overwrite=True)\n",
    "\n",
    "with gw.open('/media/jcgr/data/imagery/temp/google/angles/LC08_L1TP_042034_20160121_20170224_01_T1_solar_zenith.tif', chunks=512) as sze:\n",
    "    with gw.open('/media/jcgr/data/imagery/temp/google/angles/LC08_L1TP_042034_20160121_20170224_01_T1_sensor_zenith.tif', chunks=512) as vze:\n",
    "        with gw.open('/media/jcgr/data/imagery/temp/google/angles/LC08_L1TP_042034_20160121_20170224_01_T1_solar_azimuth.tif', chunks=512) as saa:\n",
    "            with gw.open('/media/jcgr/data/imagery/temp/google/angles/LC08_L1TP_042034_20160121_20170224_01_T1_sensor_azimuth.tif', chunks=512) as vaa:                \n",
    "                \n",
    "                with gw.open(['/media/jcgr/data/imagery/temp/google/LC08_L1TP_042034_20160121_20170224_01_T1_B4.TIF', \n",
    "                              '/media/jcgr/data/imagery/temp/google/LC08_L1TP_042034_20160121_20170224_01_T1_B5.TIF',\n",
    "                              '/media/jcgr/data/imagery/temp/google/LC08_L1TP_042034_20160121_20170224_01_T1_B6.TIF'], \n",
    "                             band_names=['red', 'nir', 'swir1'],\n",
    "                             stack_dim='band',\n",
    "                             chunks=512) as dn:\n",
    "                    \n",
    "#                     dn.gw.to_raster('/media/jcgr/data/imagery/temp/google/dn.tif', **kwargs)\n",
    "\n",
    "                    # Convert DN to surface reflectance\n",
    "                    dn_sr = rt.dn_to_sr(dn, sze, saa, vze, vaa, sensor=meta.sensor, meta=meta)\n",
    "                    \n",
    "#                     dn_sr.gw.to_raster('/media/jcgr/data/imagery/temp/google/dn_sr.tif', **kwargs)\n",
    "                    \n",
    "                    # BRDF normalization\n",
    "                    dn_sr_brdf = BRDF().norm_brdf(dn_sr, sze, saa, vze, vaa, sensor=meta.sensor, wavelengths=dn.band.values.tolist(), nodata=0)\n",
    "                    \n",
    "#                     dn_sr_brdf.gw.to_raster('/media/jcgr/data/imagery/temp/google/dn_sr_brdf.tif', **kwargs)"
   ]
  },
  {
   "cell_type": "code",
   "execution_count": null,
   "metadata": {},
   "outputs": [],
   "source": [
    "dn_sr"
   ]
  },
  {
   "cell_type": "code",
   "execution_count": null,
   "metadata": {},
   "outputs": [],
   "source": [
    "dn_sr_brdf"
   ]
  },
  {
   "cell_type": "code",
   "execution_count": null,
   "metadata": {},
   "outputs": [],
   "source": [
    "dn.sel(band='nir').plot.imshow(robust=True)"
   ]
  },
  {
   "cell_type": "code",
   "execution_count": null,
   "metadata": {},
   "outputs": [],
   "source": [
    "dn_sr.sel(band='nir').plot.imshow(robust=True)"
   ]
  },
  {
   "cell_type": "code",
   "execution_count": null,
   "metadata": {},
   "outputs": [],
   "source": [
    "dn_sr_brdf.sel(band='nir').plot.imshow(robust=True)"
   ]
  },
  {
   "cell_type": "code",
   "execution_count": null,
   "metadata": {},
   "outputs": [],
   "source": []
  }
 ],
 "metadata": {
  "kernelspec": {
   "display_name": "Python 3",
   "language": "python",
   "name": "python3"
  },
  "language_info": {
   "codemirror_mode": {
    "name": "ipython",
    "version": 3
   },
   "file_extension": ".py",
   "mimetype": "text/x-python",
   "name": "python",
   "nbconvert_exporter": "python",
   "pygments_lexer": "ipython3",
   "version": "3.7.5"
  }
 },
 "nbformat": 4,
 "nbformat_minor": 4
}
