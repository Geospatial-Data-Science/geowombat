{
 "cells": [
  {
   "cell_type": "code",
   "execution_count": 1,
   "metadata": {},
   "outputs": [],
   "source": [
    "import subprocess\n",
    "import fnmatch\n",
    "from pathlib import Path\n",
    "\n",
    "import geowombat as gw\n",
    "from geowombat.util import GeoDownloads\n",
    "from geowombat.radiometry import BRDF, RadTransforms, landsat_pixel_angles\n",
    "from geowombat.data import rgbn\n",
    "\n",
    "import numpy as np\n",
    "import pandas as pd\n",
    "import xarray as xr\n",
    "import dask.array as da"
   ]
  },
  {
   "cell_type": "markdown",
   "metadata": {},
   "source": [
    "## Download data"
   ]
  },
  {
   "cell_type": "code",
   "execution_count": 14,
   "metadata": {},
   "outputs": [],
   "source": [
    "gdl = GeoDownloads()"
   ]
  },
  {
   "cell_type": "markdown",
   "metadata": {},
   "source": [
    "## Landsat (ETM+)"
   ]
  },
  {
   "cell_type": "code",
   "execution_count": 15,
   "metadata": {},
   "outputs": [],
   "source": [
    "gdl.list_gcp('l7', '225/083/*225083_2019*_T*')\n",
    "\n",
    "del_keys = [k for k, v in gdl.search_dict.items() if 'gap_mask' in k]\n",
    "\n",
    "for dk in del_keys:\n",
    "    del gdl.search_dict[dk]"
   ]
  },
  {
   "cell_type": "code",
   "execution_count": 16,
   "metadata": {},
   "outputs": [
    {
     "data": {
      "text/plain": [
       "['LE07/01/225/083/LE07_L1GT_225083_20190107_20190204_01_T2',\n",
       " 'LE07/01/225/083/LE07_L1GT_225083_20190123_20190220_01_T2',\n",
       " 'LE07/01/225/083/LE07_L1GT_225083_20190224_20190324_01_T2',\n",
       " 'LE07/01/225/083/LE07_L1GT_225083_20190312_20190409_01_T2',\n",
       " 'LE07/01/225/083/LE07_L1GT_225083_20190616_20190713_01_T2',\n",
       " 'LE07/01/225/083/LE07_L1TP_225083_20190208_20190306_01_T1',\n",
       " 'LE07/01/225/083/LE07_L1TP_225083_20190328_20190423_01_T1',\n",
       " 'LE07/01/225/083/LE07_L1TP_225083_20190413_20190509_01_T1',\n",
       " 'LE07/01/225/083/LE07_L1TP_225083_20190429_20190525_01_T1',\n",
       " 'LE07/01/225/083/LE07_L1TP_225083_20190515_20190610_01_T1',\n",
       " 'LE07/01/225/083/LE07_L1TP_225083_20190531_20190627_01_T1',\n",
       " 'LE07/01/225/083/LE07_L1TP_225083_20190702_20190728_01_T1',\n",
       " 'LE07/01/225/083/LE07_L1TP_225083_20190718_20190813_01_T1',\n",
       " 'LE07/01/225/083/LE07_L1TP_225083_20190803_20190829_01_T1',\n",
       " 'LE07/01/225/083/LE07_L1TP_225083_20190803_20190831_01_T1',\n",
       " 'LE07/01/225/083/LE07_L1TP_225083_20190819_20190914_01_T1',\n",
       " 'LE07/01/225/083/LE07_L1TP_225083_20190904_20191001_01_T1',\n",
       " 'LE07/01/225/083/LE07_L1TP_225083_20190920_20191016_01_T1',\n",
       " 'LE07/01/225/083/LE07_L1TP_225083_20191006_20191102_01_T1']"
      ]
     },
     "execution_count": 16,
     "metadata": {},
     "output_type": "execute_result"
    }
   ],
   "source": [
    "list(gdl.search_dict.keys())"
   ]
  },
  {
   "cell_type": "code",
   "execution_count": null,
   "metadata": {},
   "outputs": [],
   "source": [
    "gdl.search_dict['LE07/01/225/083/LE07_L1TP_225083_20190208_20190306_01_T1']"
   ]
  },
  {
   "cell_type": "code",
   "execution_count": 17,
   "metadata": {},
   "outputs": [],
   "source": [
    "search_wildcards = ['ANG.txt', 'MTL.txt', 'B8.TIF']\n",
    "outdir = '/Users/Admin/Documents/jordan/imagery'\n",
    "p = Path(outdir)"
   ]
  },
  {
   "cell_type": "code",
   "execution_count": 18,
   "metadata": {},
   "outputs": [],
   "source": [
    "file_info = gdl.download_gcp('l7',\n",
    "                             outdir=outdir, \n",
    "                             downloads='LE07/01/225/083/LE07_L1TP_225083_20190208_20190306_01_T1',\n",
    "                             search_wildcards=search_wildcards,\n",
    "                             verbose=1)"
   ]
  },
  {
   "cell_type": "code",
   "execution_count": null,
   "metadata": {},
   "outputs": [],
   "source": [
    "with gw.config.update():\n",
    "\n",
    "    with gw.open(p.joinpath('LE07_L1TP_225083_20190208_20190306_01_T1_B8.TIF').as_posix(),\n",
    "                 band_names=['pan']) as ds:\n",
    "        print(ds)\n",
    "        #ds.gw.imshow(band_names='pan')\n",
    "        ds.sel(band='pan')[5000:6000, 5000:6000].plot.imshow(robust=True)"
   ]
  },
  {
   "cell_type": "markdown",
   "metadata": {},
   "source": [
    "## Landsat (OLI TIRS)"
   ]
  },
  {
   "cell_type": "markdown",
   "metadata": {},
   "source": [
    "#### 2018"
   ]
  },
  {
   "cell_type": "code",
   "execution_count": null,
   "metadata": {},
   "outputs": [],
   "source": [
    "gdl.list_gcp('l8', '225/083/*225083_201809*_T*')"
   ]
  },
  {
   "cell_type": "code",
   "execution_count": null,
   "metadata": {},
   "outputs": [],
   "source": [
    "list(gdl.search_dict.keys())"
   ]
  },
  {
   "cell_type": "markdown",
   "metadata": {},
   "source": [
    "#### 2019"
   ]
  },
  {
   "cell_type": "code",
   "execution_count": null,
   "metadata": {},
   "outputs": [],
   "source": [
    "gdl.list_gcp('l8', '225/083/*225083_2019*_T*')"
   ]
  },
  {
   "cell_type": "code",
   "execution_count": null,
   "metadata": {},
   "outputs": [],
   "source": [
    "list(gdl.search_dict.keys())"
   ]
  },
  {
   "cell_type": "code",
   "execution_count": null,
   "metadata": {},
   "outputs": [],
   "source": [
    "# gdl.search_dict['LC08/01/225/083/LC08_L1TP_225083_20190131_20190206_01_T1']"
   ]
  },
  {
   "cell_type": "code",
   "execution_count": null,
   "metadata": {},
   "outputs": [],
   "source": [
    "gdl.search_dict['LC08/01/225/083/LC08_L1TP_225083_20180909_20180912_01_T1']"
   ]
  },
  {
   "cell_type": "code",
   "execution_count": null,
   "metadata": {},
   "outputs": [],
   "source": [
    "file_info = gdl.download_gcp('l8',\n",
    "                             outdir=outdir, \n",
    "                             downloads='LC08/01/225/083/LC08_L1TP_225083_20180909_20180912_01_T1',\n",
    "                             search_wildcards=search_wildcards,\n",
    "                             verbose=1)"
   ]
  },
  {
   "cell_type": "code",
   "execution_count": null,
   "metadata": {},
   "outputs": [],
   "source": [
    "search_wildcards = ['ANG.txt', 'MTL.txt', 'B2.TIF', 'B3.TIF', 'B4.TIF', 'B5.TIF']\n",
    "outdir = '/media/jcgr/data/imagery/google/p225r083/downloads'"
   ]
  },
  {
   "cell_type": "code",
   "execution_count": null,
   "metadata": {},
   "outputs": [],
   "source": [
    "file_info = gdl.download_gcp('l8',\n",
    "                             outdir=outdir, \n",
    "                             search_wildcards=search_wildcards,\n",
    "                             verbose=1)"
   ]
  },
  {
   "cell_type": "code",
   "execution_count": null,
   "metadata": {},
   "outputs": [],
   "source": [
    "# file_info"
   ]
  },
  {
   "cell_type": "markdown",
   "metadata": {},
   "source": [
    "## DN -> SR -> BRDF"
   ]
  },
  {
   "cell_type": "code",
   "execution_count": 5,
   "metadata": {},
   "outputs": [],
   "source": [
    "rt = RadTransforms()\n",
    "br = BRDF()"
   ]
  },
  {
   "cell_type": "code",
   "execution_count": 10,
   "metadata": {},
   "outputs": [],
   "source": [
    "outdir_angles = p.joinpath('angles')\n",
    "outdir_brdf = p.joinpath('brdf')\n",
    "gw_bin = Path('/Users/Admin/Documents/jordan/scripts/Python/geowombat/geowombat/bin')"
   ]
  },
  {
   "cell_type": "code",
   "execution_count": 11,
   "metadata": {},
   "outputs": [],
   "source": [
    "angle_infos = dict()\n",
    "\n",
    "kwargs = dict(readxsize=1024, \n",
    "              readysize=1024,\n",
    "              verbose=1,\n",
    "              separate=False,\n",
    "              n_workers=1, \n",
    "              n_threads=8,\n",
    "              n_chunks=100,\n",
    "              overwrite=False)"
   ]
  },
  {
   "cell_type": "code",
   "execution_count": 20,
   "metadata": {},
   "outputs": [
    {
     "data": {
      "text/plain": [
       "{'LE07/01/225/083/LE07_L1TP_225083_20190208_20190306_01_T1': {'angle': FileInfo(name='/Users/Admin/Documents/jordan/imagery/LE07_L1TP_225083_20190208_20190306_01_T1_ANG.txt', key='angle'),\n",
       "  'meta': FileInfo(name='/Users/Admin/Documents/jordan/imagery/LE07_L1TP_225083_20190208_20190306_01_T1_MTL.txt', key='meta'),\n",
       "  'B8': FileInfo(name='/Users/Admin/Documents/jordan/imagery/LE07_L1TP_225083_20190208_20190306_01_T1_B8.TIF', key='B8')}}"
      ]
     },
     "execution_count": 20,
     "metadata": {},
     "output_type": "execute_result"
    }
   ],
   "source": [
    "file_info"
   ]
  },
  {
   "cell_type": "code",
   "execution_count": 24,
   "metadata": {},
   "outputs": [
    {
     "name": "stderr",
     "output_type": "stream",
     "text": [
      "19:11:29:INFO:487:angles.landsat_pixel_angles:  Generating pixel angles ...\n"
     ]
    },
    {
     "ename": "IndexError",
     "evalue": "list index out of range",
     "output_type": "error",
     "traceback": [
      "\u001b[0;31m---------------------------------------------------------------------------\u001b[0m",
      "\u001b[0;31mIndexError\u001b[0m                                Traceback (most recent call last)",
      "\u001b[0;32m<ipython-input-24-abdbc4b5ae82>\u001b[0m in \u001b[0;36m<module>\u001b[0;34m\u001b[0m\n\u001b[1;32m     12\u001b[0m                                       \u001b[0ml57_angles_path\u001b[0m\u001b[0;34m=\u001b[0m\u001b[0mgw_bin\u001b[0m\u001b[0;34m.\u001b[0m\u001b[0mjoinpath\u001b[0m\u001b[0;34m(\u001b[0m\u001b[0;34m'/ESPA/landsat_angles'\u001b[0m\u001b[0;34m)\u001b[0m\u001b[0;34m.\u001b[0m\u001b[0mas_posix\u001b[0m\u001b[0;34m(\u001b[0m\u001b[0;34m)\u001b[0m\u001b[0;34m,\u001b[0m\u001b[0;34m\u001b[0m\u001b[0;34m\u001b[0m\u001b[0m\n\u001b[1;32m     13\u001b[0m                                       \u001b[0ml8_angles_path\u001b[0m\u001b[0;34m=\u001b[0m\u001b[0mgw_bin\u001b[0m\u001b[0;34m.\u001b[0m\u001b[0mjoinpath\u001b[0m\u001b[0;34m(\u001b[0m\u001b[0;34m'/ESPA/l8_angles'\u001b[0m\u001b[0;34m)\u001b[0m\u001b[0;34m.\u001b[0m\u001b[0mas_posix\u001b[0m\u001b[0;34m(\u001b[0m\u001b[0;34m)\u001b[0m\u001b[0;34m,\u001b[0m\u001b[0;34m\u001b[0m\u001b[0;34m\u001b[0m\u001b[0m\n\u001b[0;32m---> 14\u001b[0;31m                                       verbose=1)\n\u001b[0m\u001b[1;32m     15\u001b[0m \u001b[0;34m\u001b[0m\u001b[0m\n\u001b[1;32m     16\u001b[0m     \u001b[0mout_dn\u001b[0m \u001b[0;34m=\u001b[0m \u001b[0moutdir_brdf\u001b[0m\u001b[0;34m.\u001b[0m\u001b[0mjoinpath\u001b[0m\u001b[0;34m(\u001b[0m\u001b[0mPath\u001b[0m\u001b[0;34m(\u001b[0m\u001b[0mfinfo_key\u001b[0m\u001b[0;34m)\u001b[0m\u001b[0;34m.\u001b[0m\u001b[0mname\u001b[0m \u001b[0;34m+\u001b[0m \u001b[0;34m'_dn.tif'\u001b[0m\u001b[0;34m)\u001b[0m\u001b[0;34m.\u001b[0m\u001b[0mas_posix\u001b[0m\u001b[0;34m(\u001b[0m\u001b[0;34m)\u001b[0m\u001b[0;34m\u001b[0m\u001b[0;34m\u001b[0m\u001b[0m\n",
      "\u001b[0;32m~/Documents/jordan/scripts/Python/venvs/ts3/lib/python3.7/site-packages/GeoWombat-1.0.0b0-py3.7-macosx-10.14-x86_64.egg/geowombat/radiometry/angles.py\u001b[0m in \u001b[0;36mlandsat_pixel_angles\u001b[0;34m(angles_file, ref_file, outdir, sensor, l57_angles_path, l8_angles_path, verbose)\u001b[0m\n\u001b[1;32m    491\u001b[0m \u001b[0;34m\u001b[0m\u001b[0m\n\u001b[1;32m    492\u001b[0m         \u001b[0;31m# Get angle data from 1 band.\u001b[0m\u001b[0;34m\u001b[0m\u001b[0;34m\u001b[0m\u001b[0;34m\u001b[0m\u001b[0m\n\u001b[0;32m--> 493\u001b[0;31m         \u001b[0msensor_angles\u001b[0m \u001b[0;34m=\u001b[0m \u001b[0mfnmatch\u001b[0m\u001b[0;34m.\u001b[0m\u001b[0mfilter\u001b[0m\u001b[0;34m(\u001b[0m\u001b[0mos\u001b[0m\u001b[0;34m.\u001b[0m\u001b[0mlistdir\u001b[0m\u001b[0;34m(\u001b[0m\u001b[0moutdir\u001b[0m\u001b[0;34m)\u001b[0m\u001b[0;34m,\u001b[0m \u001b[0;34m'*sensor_B04.img'\u001b[0m\u001b[0;34m)\u001b[0m\u001b[0;34m[\u001b[0m\u001b[0;36m0\u001b[0m\u001b[0;34m]\u001b[0m\u001b[0;34m\u001b[0m\u001b[0;34m\u001b[0m\u001b[0m\n\u001b[0m\u001b[1;32m    494\u001b[0m         \u001b[0msolar_angles\u001b[0m \u001b[0;34m=\u001b[0m \u001b[0mfnmatch\u001b[0m\u001b[0;34m.\u001b[0m\u001b[0mfilter\u001b[0m\u001b[0;34m(\u001b[0m\u001b[0mos\u001b[0m\u001b[0;34m.\u001b[0m\u001b[0mlistdir\u001b[0m\u001b[0;34m(\u001b[0m\u001b[0moutdir\u001b[0m\u001b[0;34m)\u001b[0m\u001b[0;34m,\u001b[0m \u001b[0;34m'*solar_B04.img'\u001b[0m\u001b[0;34m)\u001b[0m\u001b[0;34m[\u001b[0m\u001b[0;36m0\u001b[0m\u001b[0;34m]\u001b[0m\u001b[0;34m\u001b[0m\u001b[0;34m\u001b[0m\u001b[0m\n\u001b[1;32m    495\u001b[0m \u001b[0;34m\u001b[0m\u001b[0m\n",
      "\u001b[0;31mIndexError\u001b[0m: list index out of range"
     ]
    }
   ],
   "source": [
    "for finfo_key, finfo_dict in file_info.items():\n",
    "    \n",
    "#     if 'LC08_L1TP_225083_20190216_20190222_01_T1' not in finfo_key:\n",
    "#         continue\n",
    "\n",
    "    meta = rt.get_landsat_coefficients(finfo_dict['meta'].name)\n",
    "    \n",
    "    angle_info = landsat_pixel_angles(finfo_dict['angle'].name, \n",
    "                                      finfo_dict['B8'].name, \n",
    "                                      outdir_angles.as_posix(), \n",
    "                                      meta.sensor, \n",
    "                                      l57_angles_path=gw_bin.joinpath('/ESPA/landsat_angles').as_posix(), \n",
    "                                      l8_angles_path=gw_bin.joinpath('/ESPA/l8_angles').as_posix(),\n",
    "                                      verbose=1)\n",
    "    \n",
    "    out_dn = outdir_brdf.joinpath(Path(finfo_key).name + '_dn.tif').as_posix()\n",
    "    out_sr = outdir_brdf.joinpath(Path(finfo_key).name + '_sr.tif').as_posix()\n",
    "    out_brdf = outdir_brdf.joinpath(Path(finfo_key).name + '.tif').as_posix()\n",
    "    break\n",
    "    #with gw.config.update(ref_res=(100, 100)):\n",
    "\n",
    "    with gw.open(angle_info.sza) as sza, gw.open(angle_info.vza) as vza, gw.open(angle_info.saa) as saa, gw.open(angle_info.vaa) as vaa:\n",
    "\n",
    "        with gw.open([finfo_dict['B2'].name, \n",
    "                      finfo_dict['B3'].name, \n",
    "                      finfo_dict['B4'].name, \n",
    "                      finfo_dict['B5'].name], \n",
    "                     band_names=['blue', 'green', 'red', 'nir'],\n",
    "                     stack_dim='band') as dn:\n",
    "\n",
    "            #dn.gw.to_raster(out_dn, **kwargs)    \n",
    "\n",
    "            # Convert DN to surface reflectance\n",
    "            dn_sr = rt.dn_to_sr(dn, \n",
    "                                sza, saa, vza, vaa, \n",
    "                                sensor=meta.sensor, \n",
    "                                meta=meta)\n",
    "\n",
    "            #dn_sr.gw.to_raster(out_sr, **kwargs)\n",
    "\n",
    "            # BRDF normalization\n",
    "            dn_sr_brdf = br.norm_brdf(dn_sr, \n",
    "                                      sza, saa, vza, vaa, \n",
    "                                      sensor=meta.sensor, \n",
    "                                      wavelengths=dn.band.values.tolist(), \n",
    "                                      nodata=0)\n",
    "\n",
    "            dn_sr_brdf.gw.to_raster(out_brdf, **kwargs)    \n",
    "\n",
    "    angle_infos[finfo_key] = angle_info"
   ]
  },
  {
   "cell_type": "code",
   "execution_count": null,
   "metadata": {},
   "outputs": [],
   "source": [
    "for finfo_key, finfo_dict in file_info.items():\n",
    "    \n",
    "    out_brdf = Path(outdir_brdf).joinpath(Path(finfo_key).name + '.tif').as_posix()\n",
    "    \n",
    "    out_brdf_ovr = out_brdf + '.ovr'\n",
    "    \n",
    "    if not Path(out_brdf_ovr).is_file():\n",
    "\n",
    "        print(out_brdf)\n",
    "\n",
    "        com = 'gdaladdo -ro {} 2 4 8 16'.format(out_brdf)\n",
    "        subprocess.call(com, shell=True)"
   ]
  },
  {
   "cell_type": "markdown",
   "metadata": {},
   "source": [
    "## Get coefficients from metadata"
   ]
  },
  {
   "cell_type": "code",
   "execution_count": null,
   "metadata": {},
   "outputs": [],
   "source": [
    "rt = RadTransforms()\n",
    "\n",
    "meta = rt.get_landsat_coefficients('/Users/Admin/Documents/jordan/imagery/LE07_L1GT_225083_20190107_20190204_01_T2_MTL.txt')"
   ]
  },
  {
   "cell_type": "code",
   "execution_count": null,
   "metadata": {},
   "outputs": [],
   "source": [
    "meta"
   ]
  },
  {
   "cell_type": "code",
   "execution_count": null,
   "metadata": {},
   "outputs": [],
   "source": [
    "rt = RadTransforms()\n",
    "\n",
    "# meta = rt.get_coefficients(file_info[1].name)\n",
    "meta = rt.get_landsat_coefficients('/media/jcgr/data/imagery/temp/google/LC08_L1TP_042034_20160121_20170224_01_T1_MTL.txt')"
   ]
  },
  {
   "cell_type": "code",
   "execution_count": null,
   "metadata": {},
   "outputs": [],
   "source": [
    "meta"
   ]
  },
  {
   "cell_type": "markdown",
   "metadata": {},
   "source": [
    "## Check data"
   ]
  },
  {
   "cell_type": "code",
   "execution_count": null,
   "metadata": {},
   "outputs": [],
   "source": [
    "# with gw.open([file_info[2].name, file_info[3].name], \n",
    "#              band_names=['red', 'nir'],\n",
    "#              stack_dim='band') as ds:\n",
    "#     print(ds)\n",
    "# #     ds.sel(band='nir').plot.imshow()"
   ]
  },
  {
   "cell_type": "markdown",
   "metadata": {},
   "source": [
    "## Generate pixel angle files"
   ]
  },
  {
   "cell_type": "code",
   "execution_count": null,
   "metadata": {},
   "outputs": [],
   "source": [
    "# angle_info = gw.gen_pixel_angles(file_info[0].name, \n",
    "#                                  file_info[2].name, \n",
    "#                                  '/media/jcgr/data/imagery/temp/google/angles', \n",
    "#                                  meta.sensor, \n",
    "#                                  l57_angles_path='/home/jcgr/Documents/scripts/Python/git_repos/geowombat/bin/ESPA/landsat_angles', \n",
    "#                                  l8_angles_path='/home/jcgr/Documents/scripts/Python/git_repos/geowombat/bin/ESPA/l8_angles',\n",
    "#                                  verbose=1)"
   ]
  },
  {
   "cell_type": "code",
   "execution_count": null,
   "metadata": {},
   "outputs": [],
   "source": [
    "# angle_info"
   ]
  },
  {
   "cell_type": "code",
   "execution_count": null,
   "metadata": {},
   "outputs": [],
   "source": [
    "# with gw.open(angle_info.senze) as ds:\n",
    "#     ds.sel(band=1).plot.imshow(robust=True)"
   ]
  },
  {
   "cell_type": "code",
   "execution_count": null,
   "metadata": {},
   "outputs": [],
   "source": [
    "with gw.open(angle_info.senaz) as ds:\n",
    "    ds.sel(band=1).plot.imshow(robust=True)"
   ]
  },
  {
   "cell_type": "code",
   "execution_count": null,
   "metadata": {},
   "outputs": [],
   "source": [
    "with gw.open(angle_info.solaz) as solaz:\n",
    "    with gw.open(angle_info.senaz) as senaz:\n",
    "        rel_azimuth_angle = xr.ufuncs.fabs(solaz - senaz - 180.0)\n",
    "        rel_azimuth_angle.sel(band=1).plot.imshow(robust=True)"
   ]
  },
  {
   "cell_type": "markdown",
   "metadata": {},
   "source": [
    "## Convert to surface reflectance"
   ]
  },
  {
   "cell_type": "code",
   "execution_count": null,
   "metadata": {},
   "outputs": [],
   "source": [
    "angle_info"
   ]
  },
  {
   "cell_type": "code",
   "execution_count": null,
   "metadata": {},
   "outputs": [],
   "source": [
    "# with gw.open(angle_info.sze) as sze:\n",
    "#     with gw.open(angle_info.vze) as vze:\n",
    "#         with gw.open(angle_info.saa) as saa:\n",
    "#             with gw.open(angle_info.vaa) as vaa:\n",
    "#                 with gw.open([file_info[2].name, file_info[3].name], \n",
    "#                              band_names=['red', 'nir'],\n",
    "#                              stack_dim='band') as dn:\n",
    "\n",
    "kwargs = dict(readxsize=1024, \n",
    "              readysize=1024, \n",
    "              n_workers=1, \n",
    "              n_threads=4,\n",
    "              n_chunks=100,\n",
    "              overwrite=True)\n",
    "\n",
    "with gw.open('/media/jcgr/data/imagery/temp/google/angles/LC08_L1TP_042034_20160121_20170224_01_T1_solar_zenith.tif', chunks=512) as sze:\n",
    "    with gw.open('/media/jcgr/data/imagery/temp/google/angles/LC08_L1TP_042034_20160121_20170224_01_T1_sensor_zenith.tif', chunks=512) as vze:\n",
    "        with gw.open('/media/jcgr/data/imagery/temp/google/angles/LC08_L1TP_042034_20160121_20170224_01_T1_solar_azimuth.tif', chunks=512) as saa:\n",
    "            with gw.open('/media/jcgr/data/imagery/temp/google/angles/LC08_L1TP_042034_20160121_20170224_01_T1_sensor_azimuth.tif', chunks=512) as vaa:                \n",
    "                \n",
    "                with gw.open(['/media/jcgr/data/imagery/temp/google/LC08_L1TP_042034_20160121_20170224_01_T1_B4.TIF', \n",
    "                              '/media/jcgr/data/imagery/temp/google/LC08_L1TP_042034_20160121_20170224_01_T1_B5.TIF',\n",
    "                              '/media/jcgr/data/imagery/temp/google/LC08_L1TP_042034_20160121_20170224_01_T1_B6.TIF'], \n",
    "                             band_names=['red', 'nir', 'swir1'],\n",
    "                             stack_dim='band',\n",
    "                             chunks=512) as dn:\n",
    "                    \n",
    "#                     dn.gw.to_raster('/media/jcgr/data/imagery/temp/google/dn.tif', **kwargs)\n",
    "\n",
    "                    # Convert DN to surface reflectance\n",
    "                    dn_sr = rt.dn_to_sr(dn, sze, saa, vze, vaa, sensor=meta.sensor, meta=meta)\n",
    "                    \n",
    "#                     dn_sr.gw.to_raster('/media/jcgr/data/imagery/temp/google/dn_sr.tif', **kwargs)\n",
    "                    \n",
    "                    # BRDF normalization\n",
    "                    dn_sr_brdf = BRDF().norm_brdf(dn_sr, sze, saa, vze, vaa, sensor=meta.sensor, wavelengths=dn.band.values.tolist(), nodata=0)\n",
    "                    \n",
    "#                     dn_sr_brdf.gw.to_raster('/media/jcgr/data/imagery/temp/google/dn_sr_brdf.tif', **kwargs)"
   ]
  },
  {
   "cell_type": "code",
   "execution_count": null,
   "metadata": {},
   "outputs": [],
   "source": [
    "dn_sr"
   ]
  },
  {
   "cell_type": "code",
   "execution_count": null,
   "metadata": {},
   "outputs": [],
   "source": [
    "dn_sr_brdf"
   ]
  },
  {
   "cell_type": "code",
   "execution_count": null,
   "metadata": {},
   "outputs": [],
   "source": [
    "dn.sel(band='nir').plot.imshow(robust=True)"
   ]
  },
  {
   "cell_type": "code",
   "execution_count": null,
   "metadata": {},
   "outputs": [],
   "source": [
    "dn_sr.sel(band='nir').plot.imshow(robust=True)"
   ]
  },
  {
   "cell_type": "code",
   "execution_count": null,
   "metadata": {},
   "outputs": [],
   "source": [
    "dn_sr_brdf.sel(band='nir').plot.imshow(robust=True)"
   ]
  },
  {
   "cell_type": "code",
   "execution_count": null,
   "metadata": {},
   "outputs": [],
   "source": []
  }
 ],
 "metadata": {
  "kernelspec": {
   "display_name": "Python 3",
   "language": "python",
   "name": "python3"
  },
  "language_info": {
   "codemirror_mode": {
    "name": "ipython",
    "version": 3
   },
   "file_extension": ".py",
   "mimetype": "text/x-python",
   "name": "python",
   "nbconvert_exporter": "python",
   "pygments_lexer": "ipython3",
   "version": "3.7.5"
  }
 },
 "nbformat": 4,
 "nbformat_minor": 4
}
