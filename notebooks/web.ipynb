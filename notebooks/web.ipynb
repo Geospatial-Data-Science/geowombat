{
 "cells": [
  {
   "cell_type": "code",
   "execution_count": 1,
   "metadata": {},
   "outputs": [
    {
     "name": "stderr",
     "output_type": "stream",
     "text": [
      "Using TensorFlow backend.\n"
     ]
    }
   ],
   "source": [
    "import geowombat as gw\n",
    "from geowombat.util import GeoDownloads\n",
    "from geowombat.radiometry import QAMasker\n",
    "\n",
    "import numpy as np\n",
    "import geopandas as gpd\n",
    "from shapely.geometry import Polygon\n",
    "import xarray as xr\n",
    "import dask.array as da"
   ]
  },
  {
   "cell_type": "code",
   "execution_count": 2,
   "metadata": {},
   "outputs": [],
   "source": [
    "def bounds_from_bounds(bounds, crs):\n",
    "    \n",
    "    poly_bounds = Polygon([(bounds[0], bounds[3]),\n",
    "                           (bounds[2], bounds[3]),\n",
    "                           (bounds[2], bounds[1]),\n",
    "                           (bounds[0], bounds[1])])    \n",
    "    \n",
    "    return gpd.GeoDataFrame([0],\n",
    "                            geometry=[poly_bounds],\n",
    "                            crs=crs)    \n",
    "\n",
    "\n",
    "def df_to_bounds(df):\n",
    "    return df.bounds.values[0].tolist()"
   ]
  },
  {
   "cell_type": "code",
   "execution_count": 3,
   "metadata": {},
   "outputs": [],
   "source": [
    "gdl = GeoDownloads()\n",
    "\n",
    "wgs84_proj4 = '+proj=longlat +datum=WGS84 +no_defs'"
   ]
  },
  {
   "cell_type": "markdown",
   "metadata": {},
   "source": [
    "### South America"
   ]
  },
  {
   "cell_type": "code",
   "execution_count": 4,
   "metadata": {},
   "outputs": [],
   "source": [
    "saaeac_proj4 = \"+proj=aea +lat_1=-5 +lat_2=-42 +lat_0=-32 +lon_0=-60 +x_0=0 +y_0=0 +ellps=aust_SA +units=m +no_defs\""
   ]
  },
  {
   "cell_type": "code",
   "execution_count": 5,
   "metadata": {},
   "outputs": [
    {
     "name": "stdout",
     "output_type": "stream",
     "text": [
      "[-55.55358529860579, -25.195682560081767, -55.445970275789314, -25.107542287745837]\n"
     ]
    }
   ],
   "source": [
    "# left, bottom, right, top\n",
    "bounds = (-55.55, -25.21, -55.41, -25.11)\n",
    "\n",
    "bounds = bounds_from_bounds(bounds, wgs84_proj4)\n",
    "\n",
    "# Re-project to Albers Equal Area\n",
    "bounds = bounds.to_crs(saaeac_proj4)\n",
    "bounds = df_to_bounds(bounds)\n",
    "\n",
    "bounds[2] = bounds[0] + 10000.0\n",
    "bounds[1] = bounds[3] - 10000.0\n",
    "\n",
    "bounds = bounds_from_bounds(bounds, crs=saaeac_proj4)\n",
    "bounds = bounds.to_crs(wgs84_proj4)\n",
    "bounds = df_to_bounds(bounds)\n",
    "\n",
    "print(bounds)"
   ]
  },
  {
   "cell_type": "code",
   "execution_count": 6,
   "metadata": {},
   "outputs": [],
   "source": [
    "# from google.cloud import storage\n",
    "\n",
    "# bucket_name = 'gcp-public-data-landsat'\n",
    "\n",
    "# storage_client = storage.Client()\n",
    "# bucket = storage_client.get_bucket(bucket_name)"
   ]
  },
  {
   "cell_type": "code",
   "execution_count": 7,
   "metadata": {},
   "outputs": [
    {
     "name": "stderr",
     "output_type": "stream",
     "text": [
      "11:28:38:INFO:355:web.download_cube:  Finished downloading files\n",
      "11:28:40:INFO:355:web.download_cube:  Finished downloading files\n",
      "11:28:42:INFO:355:web.download_cube:  Finished downloading files\n",
      "11:28:44:INFO:757:web.download_gcp:  Downloading LC08_L1TP_224077_20180105_20180118_01_T1_ANG.txt ...\n",
      "11:28:47:INFO:757:web.download_gcp:  Downloading LC08_L1TP_224077_20180121_20180206_01_T1_ANG.txt ...\n",
      "11:28:49:INFO:757:web.download_gcp:  Downloading LC08_L1TP_224077_20180105_20180118_01_T1_MTL.txt ...\n",
      "11:28:54:INFO:757:web.download_gcp:  Downloading LC08_L1TP_224077_20180121_20180206_01_T1_MTL.txt ...\n",
      "11:28:56:INFO:757:web.download_gcp:  Downloading LC08_L1TP_224077_20180105_20180118_01_T1_BQA.TIF ...\n",
      "11:28:59:INFO:757:web.download_gcp:  Downloading LC08_L1TP_224077_20180121_20180206_01_T1_BQA.TIF ...\n",
      "11:29:03:INFO:757:web.download_gcp:  Downloading LC08_L1TP_224077_20180105_20180118_01_T1_B8.TIF ...\n",
      "11:30:21:INFO:757:web.download_gcp:  Downloading LC08_L1TP_224077_20180121_20180206_01_T1_B8.TIF ...\n",
      "11:31:49:INFO:355:web.download_cube:  Finished downloading files\n",
      "11:31:49:INFO:363:web.download_cube:  Processing LC08_L1TP_224077_20180121_20180206_01_T1 ...\n",
      "11:31:49:INFO:503:angles.landsat_pixel_angles:  Generating pixel angles ...\n",
      "100%|██████████| 9/9 [00:01<00:00,  5.90it/s]\n",
      "11:32:25:INFO:355:web.download_cube:  Finished downloading files\n",
      "11:32:25:INFO:363:web.download_cube:  Processing LC08_L1TP_224077_20180105_20180118_01_T1 ...\n",
      "11:32:25:INFO:503:angles.landsat_pixel_angles:  Generating pixel angles ...\n",
      "100%|██████████| 9/9 [00:01<00:00,  5.65it/s]\n",
      "11:32:59:INFO:355:web.download_cube:  Finished downloading files\n",
      "11:32:59:INFO:355:web.download_cube:  Finished downloading files\n",
      "11:32:59:INFO:355:web.download_cube:  Finished downloading files\n",
      "11:33:00:INFO:355:web.download_cube:  Finished downloading files\n",
      "11:33:00:INFO:355:web.download_cube:  Finished downloading files\n",
      "11:33:01:INFO:355:web.download_cube:  Finished downloading files\n",
      "11:33:01:INFO:355:web.download_cube:  Finished downloading files\n"
     ]
    }
   ],
   "source": [
    "gdl.download_cube(['l8'], \n",
    "                  ['2018-12-01', '2019-01-01'],\n",
    "                  bounds,\n",
    "                  ['pan'],\n",
    "                  outdir='/media/jcgr/data/projects/global_fields/data/grids/sa',\n",
    "                  crs=saaeac_proj4)"
   ]
  },
  {
   "cell_type": "markdown",
   "metadata": {},
   "source": [
    "### North America"
   ]
  },
  {
   "cell_type": "code",
   "execution_count": null,
   "metadata": {},
   "outputs": [],
   "source": [
    "naaeac_proj4 = '+proj=aea +lat_1=20 +lat_2=60 +lat_0=40 +lon_0=-96 +x_0=0 +y_0=0 +datum=NAD83 +units=m +no_defs'"
   ]
  },
  {
   "cell_type": "code",
   "execution_count": null,
   "metadata": {},
   "outputs": [],
   "source": [
    "# left, bottom, right, top\n",
    "bounds = (-91.57, 40.37, -91.46, 40.42)\n",
    "\n",
    "bounds = bounds_from_bounds(bounds, wgs84_proj4)\n",
    "\n",
    "# Re-project to Albers Equal Area\n",
    "bounds = bounds.to_crs(naaeac_proj4)\n",
    "bounds = df_to_bounds(bounds)\n",
    "\n",
    "bounds[2] = bounds[0] + 10000.0\n",
    "bounds[1] = bounds[3] - 10000.0\n",
    "\n",
    "bounds = bounds_from_bounds(bounds, crs=naaeac_proj4)\n",
    "bounds = bounds.to_crs(wgs84_proj4)\n",
    "bounds = df_to_bounds(bounds)\n",
    "\n",
    "print(bounds)"
   ]
  },
  {
   "cell_type": "code",
   "execution_count": null,
   "metadata": {},
   "outputs": [],
   "source": [
    "# with gw.open('/media/jcgr/data/projects/global_fields/data/grids/LC08_L1TP_025032_20180612_20180615_01_T1_BQA_cp.tif',\n",
    "#              chunks=1024) as ds:\n",
    "#     mask = QAMasker(ds, 'l8-c1', ['clear', 'water', 'snow', 'cloud', 'shadow', 'fill']).to_mask()\n",
    "#     #mask.sel(band='mask').plot.imshow()\n",
    "#     mask.gw.to_raster('/media/jcgr/data/projects/global_fields/data/grids/LC08_L1TP_025032_20180612_20180615_01_T1_BQA_cp_mask.tif',\n",
    "#                       n_workers=8,\n",
    "#                       n_chunks=200,\n",
    "#                       blockxsize=512,\n",
    "#                       blockysize=512,\n",
    "#                       tiled=True)"
   ]
  },
  {
   "cell_type": "code",
   "execution_count": null,
   "metadata": {},
   "outputs": [],
   "source": [
    "gdl.download_cube(['l8'], \n",
    "                  ['2018-06-01', '2018-09-01'],\n",
    "                  bounds,\n",
    "                  ['pan'],\n",
    "                  outdir='/media/jcgr/data/projects/global_fields/data/grids',\n",
    "                  crs=naaeac_proj4)"
   ]
  },
  {
   "cell_type": "markdown",
   "metadata": {},
   "source": [
    "### Queensland"
   ]
  },
  {
   "cell_type": "code",
   "execution_count": null,
   "metadata": {},
   "outputs": [],
   "source": [
    "wgs84_proj4 = '+proj=longlat +datum=WGS84 +no_defs'\n",
    "aaaeac_proj4 = '+proj=aea +lat_1=-18 +lat_2=-36 +lat_0=0 +lon_0=132 +x_0=0 +y_0=0 +ellps=GRS80 +units=m +no_defs'"
   ]
  },
  {
   "cell_type": "code",
   "execution_count": null,
   "metadata": {},
   "outputs": [],
   "source": [
    "# left, bottom, right, top\n",
    "bounds = (151.02, -27.43, 151.22, -27.33)\n",
    "\n",
    "bounds = bounds_from_bounds(bounds, wgs84_proj4)\n",
    "\n",
    "# Re-project to Albers Equal Area\n",
    "bounds = bounds.to_crs(aaaeac_proj4)\n",
    "bounds = df_to_bounds(bounds)\n",
    "\n",
    "bounds[2] = bounds[0] + 10000.0\n",
    "bounds[1] = bounds[3] - 10000.0\n",
    "\n",
    "bounds = bounds_from_bounds(bounds, crs=aaaeac_proj4)\n",
    "bounds = bounds.to_crs(wgs84_proj4)\n",
    "bounds = df_to_bounds(bounds)\n",
    "\n",
    "print(bounds)"
   ]
  },
  {
   "cell_type": "code",
   "execution_count": null,
   "metadata": {},
   "outputs": [],
   "source": [
    "gdl.download_cube(['l8'], \n",
    "                  ['2019-01-01', '2019-03-01'],\n",
    "                  bounds,\n",
    "                  ['nir'],\n",
    "                  outdir='/scratch/rsc4/graesser/temp/l8',\n",
    "                  crs=aaaeac_proj4)"
   ]
  },
  {
   "cell_type": "code",
   "execution_count": null,
   "metadata": {},
   "outputs": [],
   "source": [
    "! gsutil ls -r gs://gcp-public-data-landsat/LC08/01/090/079/"
   ]
  }
 ],
 "metadata": {
  "kernelspec": {
   "display_name": "Python 3",
   "language": "python",
   "name": "python3"
  },
  "language_info": {
   "codemirror_mode": {
    "name": "ipython",
    "version": 3
   },
   "file_extension": ".py",
   "mimetype": "text/x-python",
   "name": "python",
   "nbconvert_exporter": "python",
   "pygments_lexer": "ipython3",
   "version": "3.6.8"
  }
 },
 "nbformat": 4,
 "nbformat_minor": 4
}
