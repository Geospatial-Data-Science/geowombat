{
 "cells": [
  {
   "cell_type": "code",
   "execution_count": 1,
   "metadata": {},
   "outputs": [
    {
     "name": "stderr",
     "output_type": "stream",
     "text": [
      "Using TensorFlow backend.\n"
     ]
    }
   ],
   "source": [
    "import geowombat as gw\n",
    "from geowombat.util import GeoDownloads\n",
    "\n",
    "import numpy as np\n",
    "import geopandas as gpd\n",
    "from shapely.geometry import Polygon\n",
    "import xarray as xr\n",
    "import dask.array as da"
   ]
  },
  {
   "cell_type": "code",
   "execution_count": 2,
   "metadata": {},
   "outputs": [
    {
     "data": {
      "text/plain": [
       "[353636.4791642145, 51924.85195243663, 362693.3570040261, 58234.28090210059]"
      ]
     },
     "execution_count": 2,
     "metadata": {},
     "output_type": "execute_result"
    }
   ],
   "source": [
    "bounds = (-91.57, 40.37, -91.46, 40.42)\n",
    "\n",
    "bounds = Polygon([(bounds[0], bounds[3]),\n",
    "                  (bounds[2], bounds[3]),\n",
    "                  (bounds[2], bounds[1]),\n",
    "                  (bounds[0], bounds[1])])\n",
    "\n",
    "bounds = gpd.GeoDataFrame([0],\n",
    "                          geometry=[bounds],\n",
    "                          crs={'init': 'epsg:4326'})\n",
    "\n",
    "bounds = bounds.to_crs('+proj=aea +lat_1=20 +lat_2=60 +lat_0=40 +lon_0=-96 +x_0=0 +y_0=0 +datum=NAD83 +units=m +no_defs')\n",
    "bounds.bounds.values[0].tolist()"
   ]
  },
  {
   "cell_type": "code",
   "execution_count": 6,
   "metadata": {},
   "outputs": [
    {
     "name": "stdout",
     "output_type": "stream",
     "text": [
      "<xarray.DataArray (band: 1, y: 421, x: 604)>\n",
      "dask.array<open_rasterio-310941a7c257eefc3fb23fa53e9ac694<this-array>, shape=(1, 421, 604), dtype=uint16, chunksize=(1, 256, 256), chunktype=numpy.ndarray>\n",
      "Coordinates:\n",
      "  * band     (band) int64 1\n",
      "  * y        (y) float64 5.824e+04 5.822e+04 5.821e+04 ... 5.195e+04 5.194e+04\n",
      "  * x        (x) float64 3.536e+05 3.536e+05 3.537e+05 ... 3.627e+05 3.627e+05\n",
      "Attributes:\n",
      "    transform:   (15.0, 0.0, 353625.0, 0.0, -15.0, 58245.0)\n",
      "    crs:         +proj=aea +lat_1=20 +lat_2=60 +lat_0=40 +lon_0=-96 +x_0=0 +y...\n",
      "    res:         (15.0, 15.0)\n",
      "    is_tiled:    1\n",
      "    nodatavals:  (nan,)\n",
      "    scales:      (1.0,)\n",
      "    offsets:     (0.0,)\n"
     ]
    },
    {
     "data": {
      "image/png": "[encoded data removed]",
      "text/plain": [
       "<Figure size 432x288 with 2 Axes>"
      ]
     },
     "metadata": {
      "needs_background": "light"
     },
     "output_type": "display_data"
    }
   ],
   "source": [
    "with gw.config.update(ref_bounds=bounds.bounds.values[0].tolist(), \n",
    "                      ref_res=(15, 15),\n",
    "                      ref_crs='+proj=aea +lat_1=20 +lat_2=60 +lat_0=40 +lon_0=-96 +x_0=0 +y_0=0 +datum=NAD83 +units=m +no_defs'):\n",
    "\n",
    "    with gw.open('/media/jcgr/data/projects/global_fields/data/grids/LC08_L1GT_024032_20170109_20170218_01_T2_B8.TIF') as ds:\n",
    "        print(ds)  \n",
    "        \n",
    "        ds.sel(band=1).plot.imshow()\n",
    "    \n",
    "#     with gw.open('/media/jcgr/data/projects/global_fields/data/grids/angles/LC08_L1GT_024032_20170109_20170218_01_T2_sensor_B04.img') as ds:\n",
    "#         print(ds)\n",
    "        \n",
    "#         ds.sel(band=1).plot.imshow()"
   ]
  },
  {
   "cell_type": "code",
   "execution_count": null,
   "metadata": {},
   "outputs": [],
   "source": [
    "gdl = GeoDownloads()"
   ]
  },
  {
   "cell_type": "code",
   "execution_count": null,
   "metadata": {},
   "outputs": [],
   "source": [
    "gdl.download_cube(['l8'], \n",
    "                  ['2017-01-01', '2017-03-01'],\n",
    "                  (-91.57, 40.37, -91.46, 40.42),\n",
    "                  ['pan'],\n",
    "                  outdir='/media/jcgr/data/projects/global_fields/data/grids',\n",
    "                  crs='+proj=aea +lat_1=20 +lat_2=60 +lat_0=40 +lon_0=-96 +x_0=0 +y_0=0 +datum=NAD83 +units=m +no_defs')"
   ]
  },
  {
   "cell_type": "code",
   "execution_count": null,
   "metadata": {},
   "outputs": [],
   "source": [
    "qa = '/media/jcgr/data/projects/global_fields/data/grids/LE07_L1GT_025032_20100121_20160916_01_T2_BQA.TIF'"
   ]
  },
  {
   "cell_type": "code",
   "execution_count": null,
   "metadata": {},
   "outputs": [],
   "source": [
    "mask_item = 'cloud'\n",
    "mask_value = 1"
   ]
  },
  {
   "cell_type": "code",
   "execution_count": null,
   "metadata": {},
   "outputs": [],
   "source": [
    "with gw.open(qa) as ds:\n",
    "    \n",
    "    qai = QAMasker(ds, 'l-c1', ['cloud'])"
   ]
  },
  {
   "cell_type": "code",
   "execution_count": null,
   "metadata": {},
   "outputs": [],
   "source": [
    "mask"
   ]
  },
  {
   "cell_type": "code",
   "execution_count": null,
   "metadata": {},
   "outputs": [],
   "source": [
    "mask[self.get_qa_mask(mask_item) >= mask_value] = self.fmask_dict[mask_item]"
   ]
  }
 ],
 "metadata": {
  "kernelspec": {
   "display_name": "Python 3",
   "language": "python",
   "name": "python3"
  },
  "language_info": {
   "codemirror_mode": {
    "name": "ipython",
    "version": 3
   },
   "file_extension": ".py",
   "mimetype": "text/x-python",
   "name": "python",
   "nbconvert_exporter": "python",
   "pygments_lexer": "ipython3",
   "version": "3.6.8"
  }
 },
 "nbformat": 4,
 "nbformat_minor": 4
}
