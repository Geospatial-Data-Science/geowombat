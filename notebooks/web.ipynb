{
 "cells": [
  {
   "cell_type": "code",
   "execution_count": 1,
   "metadata": {},
   "outputs": [
    {
     "name": "stderr",
     "output_type": "stream",
     "text": [
      "Using TensorFlow backend.\n"
     ]
    }
   ],
   "source": [
    "import geowombat as gw\n",
    "from geowombat.util import GeoDownloads\n",
    "\n",
    "import numpy as np\n",
    "import geopandas as gpd\n",
    "from shapely.geometry import Polygon\n",
    "import xarray as xr\n",
    "import dask.array as da"
   ]
  },
  {
   "cell_type": "code",
   "execution_count": 2,
   "metadata": {},
   "outputs": [],
   "source": [
    "def bounds_from_bounds(bounds, crs):\n",
    "    \n",
    "    poly_bounds = Polygon([(bounds[0], bounds[3]),\n",
    "                           (bounds[2], bounds[3]),\n",
    "                           (bounds[2], bounds[1]),\n",
    "                           (bounds[0], bounds[1])])    \n",
    "    \n",
    "    return gpd.GeoDataFrame([0],\n",
    "                            geometry=[poly_bounds],\n",
    "                            crs=crs)    \n",
    "\n",
    "\n",
    "def df_to_bounds(df):\n",
    "    return df.bounds.values[0].tolist()"
   ]
  },
  {
   "cell_type": "code",
   "execution_count": 3,
   "metadata": {},
   "outputs": [],
   "source": [
    "wgs84_proj4 = '+proj=longlat +datum=WGS84 +no_defs'\n",
    "naaeac_proj4 = '+proj=aea +lat_1=20 +lat_2=60 +lat_0=40 +lon_0=-96 +x_0=0 +y_0=0 +datum=NAD83 +units=m +no_defs'"
   ]
  },
  {
   "cell_type": "code",
   "execution_count": 4,
   "metadata": {},
   "outputs": [
    {
     "name": "stdout",
     "output_type": "stream",
     "text": [
      "[-91.5755995778206, 40.33485871860832, -91.4446703313964, 40.423516432672066]\n"
     ]
    }
   ],
   "source": [
    "# left, bottom, right, top\n",
    "bounds = (-91.57, 40.37, -91.46, 40.42)\n",
    "\n",
    "bounds = bounds_from_bounds(bounds, wgs84_proj4)\n",
    "\n",
    "# Re-project to Albers Equal Area\n",
    "bounds = bounds.to_crs(naaeac_proj4)\n",
    "bounds = df_to_bounds(bounds)\n",
    "\n",
    "bounds[2] = bounds[0] + 10000.0\n",
    "bounds[1] = bounds[3] - 10000.0\n",
    "\n",
    "bounds = bounds_from_bounds(bounds, crs=naaeac_proj4)\n",
    "bounds = bounds.to_crs(wgs84_proj4)\n",
    "bounds = df_to_bounds(bounds)\n",
    "\n",
    "print(bounds)"
   ]
  },
  {
   "cell_type": "code",
   "execution_count": 5,
   "metadata": {},
   "outputs": [],
   "source": [
    "gdl = GeoDownloads()"
   ]
  },
  {
   "cell_type": "code",
   "execution_count": 6,
   "metadata": {},
   "outputs": [
    {
     "name": "stderr",
     "output_type": "stream",
     "text": [
      "06:53:34:INFO:539:web.list_gcp:gsutil ls -r gs://gcp-public-data-landsat/LC08/01/025/032/*025032_201801*_T*\n",
      "06:53:36:INFO:539:web.list_gcp:gsutil ls -r gs://gcp-public-data-landsat/LC08/01/024/032/*024032_201801*_T*\n",
      "06:53:38:INFO:539:web.list_gcp:gsutil ls -r gs://gcp-public-data-landsat/LC08/01/025/032/*025032_201802*_T*\n",
      "06:53:40:INFO:666:web.download_gcp:  Downloading LC08_L1GT_025032_20180204_20180220_01_T2_ANG.txt ...\n",
      "06:53:42:INFO:666:web.download_gcp:  Downloading LC08_L1GT_025032_20180204_20180220_01_T2_MTL.txt ...\n",
      "06:53:44:INFO:666:web.download_gcp:  Downloading LC08_L1GT_025032_20180204_20180220_01_T2_BQA.TIF ...\n",
      "06:53:46:INFO:666:web.download_gcp:  Downloading LC08_L1GT_025032_20180204_20180220_01_T2_B8.TIF ...\n",
      "06:54:34:INFO:539:web.list_gcp:gsutil ls -r gs://gcp-public-data-landsat/LC08/01/024/032/*024032_201802*_T*\n",
      "06:54:35:WARNING:305:web.download_cube:  No results found for l8 at location 024/032, year 2018, month 2.\n",
      "06:54:35:INFO:539:web.list_gcp:gsutil ls -r gs://gcp-public-data-landsat/LC08/01/025/032/*025032_201803*_T*\n",
      "06:54:37:INFO:666:web.download_gcp:  Downloading LC08_L1GT_025032_20180324_20180404_01_T2_ANG.txt ...\n",
      "06:54:39:INFO:666:web.download_gcp:  Downloading LC08_L1GT_025032_20180324_20180404_01_T2_MTL.txt ...\n",
      "06:54:42:INFO:666:web.download_gcp:  Downloading LC08_L1GT_025032_20180324_20180404_01_T2_BQA.TIF ...\n",
      "06:54:44:INFO:666:web.download_gcp:  Downloading LC08_L1GT_025032_20180324_20180404_01_T2_B8.TIF ...\n",
      "06:55:49:INFO:503:angles.landsat_pixel_angles:  Generating pixel angles ...\n",
      "100%|██████████| 9/9 [00:01<00:00,  5.78it/s]\n",
      "06:56:19:INFO:539:web.list_gcp:gsutil ls -r gs://gcp-public-data-landsat/LC08/01/024/032/*024032_201803*_T*\n",
      "06:56:19:WARNING:305:web.download_cube:  No results found for l8 at location 024/032, year 2018, month 3.\n",
      "06:56:19:INFO:539:web.list_gcp:gsutil ls -r gs://gcp-public-data-landsat/LC08/01/025/032/*025032_201804*_T*\n",
      "06:56:20:WARNING:305:web.download_cube:  No results found for l8 at location 025/032, year 2018, month 4.\n",
      "06:56:20:INFO:539:web.list_gcp:gsutil ls -r gs://gcp-public-data-landsat/LC08/01/024/032/*024032_201804*_T*\n",
      "06:56:20:WARNING:305:web.download_cube:  No results found for l8 at location 024/032, year 2018, month 4.\n",
      "06:56:20:INFO:539:web.list_gcp:gsutil ls -r gs://gcp-public-data-landsat/LC08/01/025/032/*025032_201805*_T*\n",
      "06:56:20:WARNING:305:web.download_cube:  No results found for l8 at location 025/032, year 2018, month 5.\n",
      "06:56:20:INFO:539:web.list_gcp:gsutil ls -r gs://gcp-public-data-landsat/LC08/01/024/032/*024032_201805*_T*\n",
      "06:56:21:WARNING:305:web.download_cube:  No results found for l8 at location 024/032, year 2018, month 5.\n",
      "06:56:21:INFO:539:web.list_gcp:gsutil ls -r gs://gcp-public-data-landsat/LC08/01/025/032/*025032_201806*_T*\n",
      "06:56:21:WARNING:305:web.download_cube:  No results found for l8 at location 025/032, year 2018, month 6.\n",
      "06:56:21:INFO:539:web.list_gcp:gsutil ls -r gs://gcp-public-data-landsat/LC08/01/024/032/*024032_201806*_T*\n",
      "06:56:21:WARNING:305:web.download_cube:  No results found for l8 at location 024/032, year 2018, month 6.\n",
      "06:56:21:INFO:539:web.list_gcp:gsutil ls -r gs://gcp-public-data-landsat/LC08/01/025/032/*025032_201807*_T*\n",
      "06:56:21:WARNING:305:web.download_cube:  No results found for l8 at location 025/032, year 2018, month 7.\n",
      "06:56:21:INFO:539:web.list_gcp:gsutil ls -r gs://gcp-public-data-landsat/LC08/01/024/032/*024032_201807*_T*\n",
      "06:56:22:WARNING:305:web.download_cube:  No results found for l8 at location 024/032, year 2018, month 7.\n",
      "06:56:22:INFO:539:web.list_gcp:gsutil ls -r gs://gcp-public-data-landsat/LC08/01/025/032/*025032_201808*_T*\n",
      "06:56:22:WARNING:305:web.download_cube:  No results found for l8 at location 025/032, year 2018, month 8.\n",
      "06:56:22:INFO:539:web.list_gcp:gsutil ls -r gs://gcp-public-data-landsat/LC08/01/024/032/*024032_201808*_T*\n",
      "06:56:22:WARNING:305:web.download_cube:  No results found for l8 at location 024/032, year 2018, month 8.\n",
      "06:56:22:INFO:539:web.list_gcp:gsutil ls -r gs://gcp-public-data-landsat/LC08/01/025/032/*025032_201809*_T*\n",
      "06:56:23:WARNING:305:web.download_cube:  No results found for l8 at location 025/032, year 2018, month 9.\n",
      "06:56:23:INFO:539:web.list_gcp:gsutil ls -r gs://gcp-public-data-landsat/LC08/01/024/032/*024032_201809*_T*\n",
      "06:56:23:WARNING:305:web.download_cube:  No results found for l8 at location 024/032, year 2018, month 9.\n"
     ]
    }
   ],
   "source": [
    "gdl.download_cube(['l8'], \n",
    "                  ['2018-01-01', '2018-09-01'],\n",
    "                  bounds,\n",
    "                  ['pan'],\n",
    "                  outdir='/media/jcgr/data/projects/global_fields/data/grids',\n",
    "                  crs=naaeac_proj4)"
   ]
  },
  {
   "cell_type": "code",
   "execution_count": null,
   "metadata": {},
   "outputs": [],
   "source": []
  }
 ],
 "metadata": {
  "kernelspec": {
   "display_name": "Python 3",
   "language": "python",
   "name": "python3"
  },
  "language_info": {
   "codemirror_mode": {
    "name": "ipython",
    "version": 3
   },
   "file_extension": ".py",
   "mimetype": "text/x-python",
   "name": "python",
   "nbconvert_exporter": "python",
   "pygments_lexer": "ipython3",
   "version": "3.6.8"
  }
 },
 "nbformat": 4,
 "nbformat_minor": 4
}
