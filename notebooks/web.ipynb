{
 "cells": [
  {
   "cell_type": "code",
   "execution_count": 1,
   "metadata": {},
   "outputs": [
    {
     "name": "stderr",
     "output_type": "stream",
     "text": [
      "Using TensorFlow backend.\n"
     ]
    }
   ],
   "source": [
    "import geowombat as gw\n",
    "from geowombat.util import GeoDownloads\n",
    "\n",
    "import numpy as np\n",
    "import geopandas as gpd\n",
    "from shapely.geometry import Polygon\n",
    "import xarray as xr\n",
    "import dask.array as da"
   ]
  },
  {
   "cell_type": "code",
   "execution_count": 2,
   "metadata": {},
   "outputs": [],
   "source": [
    "def bounds_from_bounds(bounds, crs):\n",
    "    \n",
    "    poly_bounds = Polygon([(bounds[0], bounds[3]),\n",
    "                           (bounds[2], bounds[3]),\n",
    "                           (bounds[2], bounds[1]),\n",
    "                           (bounds[0], bounds[1])])    \n",
    "    \n",
    "    return gpd.GeoDataFrame([0],\n",
    "                            geometry=[poly_bounds],\n",
    "                            crs=crs)    \n",
    "\n",
    "\n",
    "def df_to_bounds(df):\n",
    "    return df.bounds.values[0].tolist()"
   ]
  },
  {
   "cell_type": "code",
   "execution_count": 3,
   "metadata": {},
   "outputs": [],
   "source": [
    "wgs84_proj4 = '+proj=longlat +datum=WGS84 +no_defs'\n",
    "naaeac_proj4 = '+proj=aea +lat_1=20 +lat_2=60 +lat_0=40 +lon_0=-96 +x_0=0 +y_0=0 +datum=NAD83 +units=m +no_defs'"
   ]
  },
  {
   "cell_type": "code",
   "execution_count": 4,
   "metadata": {},
   "outputs": [
    {
     "name": "stdout",
     "output_type": "stream",
     "text": [
      "[-91.5755995778206, 40.33485871860832, -91.4446703313964, 40.423516432672066]\n"
     ]
    }
   ],
   "source": [
    "# left, bottom, right, top\n",
    "bounds = (-91.57, 40.37, -91.46, 40.42)\n",
    "\n",
    "bounds = bounds_from_bounds(bounds, wgs84_proj4)\n",
    "\n",
    "# Re-project to Albers Equal Area\n",
    "bounds = bounds.to_crs(naaeac_proj4)\n",
    "bounds = df_to_bounds(bounds)\n",
    "\n",
    "bounds[2] = bounds[0] + 10000.0\n",
    "bounds[1] = bounds[3] - 10000.0\n",
    "\n",
    "bounds = bounds_from_bounds(bounds, crs=naaeac_proj4)\n",
    "bounds = bounds.to_crs(wgs84_proj4)\n",
    "bounds = df_to_bounds(bounds)\n",
    "\n",
    "print(bounds)"
   ]
  },
  {
   "cell_type": "code",
   "execution_count": 5,
   "metadata": {},
   "outputs": [],
   "source": [
    "gdl = GeoDownloads()"
   ]
  },
  {
   "cell_type": "code",
   "execution_count": 6,
   "metadata": {},
   "outputs": [
    {
     "name": "stderr",
     "output_type": "stream",
     "text": [
      "05:51:24:INFO:668:web.download_gcp:  Downloading LC08_L1TP_025032_20180103_20180118_01_T1_ANG.txt ...\n",
      "05:51:25:INFO:668:web.download_gcp:  Downloading LC08_L1TP_025032_20180103_20180118_01_T1_MTL.txt ...\n",
      "05:51:27:INFO:668:web.download_gcp:  Downloading LC08_L1TP_025032_20180103_20180118_01_T1_BQA.TIF ...\n",
      "05:51:32:INFO:668:web.download_gcp:  Downloading LC08_L1TP_025032_20180103_20180118_01_T1_B8.TIF ...\n",
      "05:53:02:INFO:668:web.download_gcp:  Downloading LC08_L1GT_024032_20180112_20180119_01_T2_ANG.txt ...\n",
      "05:53:03:INFO:668:web.download_gcp:  Downloading LC08_L1GT_024032_20180112_20180119_01_T2_MTL.txt ...\n",
      "05:53:05:INFO:668:web.download_gcp:  Downloading LC08_L1GT_024032_20180112_20180119_01_T2_BQA.TIF ...\n",
      "05:53:07:INFO:668:web.download_gcp:  Downloading LC08_L1GT_024032_20180112_20180119_01_T2_B8.TIF ...\n",
      "05:54:13:INFO:668:web.download_gcp:  Downloading LC08_L1GT_025032_20180204_20180220_01_T2_ANG.txt ...\n",
      "05:54:15:INFO:668:web.download_gcp:  Downloading LC08_L1GT_025032_20180204_20180220_01_T2_MTL.txt ...\n",
      "05:54:17:INFO:668:web.download_gcp:  Downloading LC08_L1GT_025032_20180204_20180220_01_T2_BQA.TIF ...\n",
      "05:54:20:INFO:668:web.download_gcp:  Downloading LC08_L1GT_025032_20180204_20180220_01_T2_B8.TIF ...\n",
      "05:55:28:INFO:503:angles.landsat_pixel_angles:  Generating pixel angles ...\n",
      "100%|██████████| 9/9 [00:01<00:00,  5.82it/s]\n",
      "05:55:59:WARNING:307:web.download_cube:  No results found for l8 at location 024/032, year 2018, month 2.\n"
     ]
    },
    {
     "name": "stdout",
     "output_type": "stream",
     "text": [
      "024/032/*024032_201802*_T*\n"
     ]
    },
    {
     "name": "stderr",
     "output_type": "stream",
     "text": [
      "05:55:59:WARNING:307:web.download_cube:  No results found for l8 at location 025/032, year 2018, month 3.\n"
     ]
    },
    {
     "name": "stdout",
     "output_type": "stream",
     "text": [
      "025/032/*025032_201803*_T*\n"
     ]
    },
    {
     "name": "stderr",
     "output_type": "stream",
     "text": [
      "05:56:00:WARNING:307:web.download_cube:  No results found for l8 at location 024/032, year 2018, month 3.\n"
     ]
    },
    {
     "name": "stdout",
     "output_type": "stream",
     "text": [
      "024/032/*024032_201803*_T*\n"
     ]
    },
    {
     "name": "stderr",
     "output_type": "stream",
     "text": [
      "05:56:00:WARNING:307:web.download_cube:  No results found for l8 at location 025/032, year 2018, month 4.\n"
     ]
    },
    {
     "name": "stdout",
     "output_type": "stream",
     "text": [
      "025/032/*025032_201804*_T*\n"
     ]
    },
    {
     "name": "stderr",
     "output_type": "stream",
     "text": [
      "05:56:00:WARNING:307:web.download_cube:  No results found for l8 at location 024/032, year 2018, month 4.\n"
     ]
    },
    {
     "name": "stdout",
     "output_type": "stream",
     "text": [
      "024/032/*024032_201804*_T*\n"
     ]
    },
    {
     "name": "stderr",
     "output_type": "stream",
     "text": [
      "05:56:01:WARNING:307:web.download_cube:  No results found for l8 at location 025/032, year 2018, month 5.\n"
     ]
    },
    {
     "name": "stdout",
     "output_type": "stream",
     "text": [
      "025/032/*025032_201805*_T*\n"
     ]
    },
    {
     "name": "stderr",
     "output_type": "stream",
     "text": [
      "05:56:01:WARNING:307:web.download_cube:  No results found for l8 at location 024/032, year 2018, month 5.\n"
     ]
    },
    {
     "name": "stdout",
     "output_type": "stream",
     "text": [
      "024/032/*024032_201805*_T*\n"
     ]
    },
    {
     "name": "stderr",
     "output_type": "stream",
     "text": [
      "05:56:01:WARNING:307:web.download_cube:  No results found for l8 at location 025/032, year 2018, month 6.\n"
     ]
    },
    {
     "name": "stdout",
     "output_type": "stream",
     "text": [
      "025/032/*025032_201806*_T*\n"
     ]
    },
    {
     "name": "stderr",
     "output_type": "stream",
     "text": [
      "05:56:01:WARNING:307:web.download_cube:  No results found for l8 at location 024/032, year 2018, month 6.\n"
     ]
    },
    {
     "name": "stdout",
     "output_type": "stream",
     "text": [
      "024/032/*024032_201806*_T*\n"
     ]
    },
    {
     "name": "stderr",
     "output_type": "stream",
     "text": [
      "05:56:02:WARNING:307:web.download_cube:  No results found for l8 at location 025/032, year 2018, month 7.\n"
     ]
    },
    {
     "name": "stdout",
     "output_type": "stream",
     "text": [
      "025/032/*025032_201807*_T*\n"
     ]
    },
    {
     "name": "stderr",
     "output_type": "stream",
     "text": [
      "05:56:02:WARNING:307:web.download_cube:  No results found for l8 at location 024/032, year 2018, month 7.\n"
     ]
    },
    {
     "name": "stdout",
     "output_type": "stream",
     "text": [
      "024/032/*024032_201807*_T*\n"
     ]
    },
    {
     "name": "stderr",
     "output_type": "stream",
     "text": [
      "05:56:02:WARNING:307:web.download_cube:  No results found for l8 at location 025/032, year 2018, month 8.\n"
     ]
    },
    {
     "name": "stdout",
     "output_type": "stream",
     "text": [
      "025/032/*025032_201808*_T*\n"
     ]
    },
    {
     "name": "stderr",
     "output_type": "stream",
     "text": [
      "05:56:03:WARNING:307:web.download_cube:  No results found for l8 at location 024/032, year 2018, month 8.\n"
     ]
    },
    {
     "name": "stdout",
     "output_type": "stream",
     "text": [
      "024/032/*024032_201808*_T*\n"
     ]
    },
    {
     "name": "stderr",
     "output_type": "stream",
     "text": [
      "05:56:03:WARNING:307:web.download_cube:  No results found for l8 at location 025/032, year 2018, month 9.\n"
     ]
    },
    {
     "name": "stdout",
     "output_type": "stream",
     "text": [
      "025/032/*025032_201809*_T*\n"
     ]
    },
    {
     "name": "stderr",
     "output_type": "stream",
     "text": [
      "05:56:03:WARNING:307:web.download_cube:  No results found for l8 at location 024/032, year 2018, month 9.\n"
     ]
    },
    {
     "name": "stdout",
     "output_type": "stream",
     "text": [
      "024/032/*024032_201809*_T*\n"
     ]
    }
   ],
   "source": [
    "gdl.download_cube(['l8'], \n",
    "                  ['2018-01-01', '2018-09-01'],\n",
    "                  bounds,\n",
    "                  ['pan'],\n",
    "                  outdir='/media/jcgr/data/projects/global_fields/data/grids',\n",
    "                  crs=naaeac_proj4)"
   ]
  },
  {
   "cell_type": "code",
   "execution_count": null,
   "metadata": {},
   "outputs": [],
   "source": []
  }
 ],
 "metadata": {
  "kernelspec": {
   "display_name": "Python 3",
   "language": "python",
   "name": "python3"
  },
  "language_info": {
   "codemirror_mode": {
    "name": "ipython",
    "version": 3
   },
   "file_extension": ".py",
   "mimetype": "text/x-python",
   "name": "python",
   "nbconvert_exporter": "python",
   "pygments_lexer": "ipython3",
   "version": "3.6.8"
  }
 },
 "nbformat": 4,
 "nbformat_minor": 4
}
