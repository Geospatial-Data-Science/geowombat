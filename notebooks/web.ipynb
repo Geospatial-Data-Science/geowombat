{
 "cells": [
  {
   "cell_type": "code",
   "execution_count": 1,
   "metadata": {},
   "outputs": [
    {
     "name": "stderr",
     "output_type": "stream",
     "text": [
      "Using TensorFlow backend.\n"
     ]
    }
   ],
   "source": [
    "import geowombat as gw\n",
    "from geowombat.util import GeoDownloads\n",
    "\n",
    "import numpy as np\n",
    "import xarray as xr\n",
    "import dask.array as da"
   ]
  },
  {
   "cell_type": "code",
   "execution_count": 2,
   "metadata": {},
   "outputs": [],
   "source": [
    "gdl = GeoDownloads()"
   ]
  },
  {
   "cell_type": "code",
   "execution_count": null,
   "metadata": {},
   "outputs": [
    {
     "name": "stderr",
     "output_type": "stream",
     "text": [
      "05:05:19:WARNING:274:web.download_cube:  No results found for l8 at location 025/032.\n",
      "05:05:31:INFO:417:rasterio_.warp:(15.0, 15.0)\n",
      "05:05:31:INFO:430:rasterio_.warp:(15.0, 15.0)\n",
      "05:05:31:INFO:417:rasterio_.warp:(15.0, 15.0)\n",
      "05:05:31:INFO:430:rasterio_.warp:(15.0, 15.0)\n",
      "05:05:31:INFO:417:rasterio_.warp:(15.0, 15.0)\n",
      "05:05:31:INFO:430:rasterio_.warp:(15.0, 15.0)\n",
      "05:05:31:INFO:417:rasterio_.warp:(15.0, 15.0)\n",
      "05:05:31:INFO:430:rasterio_.warp:(15.0, 15.0)\n",
      "05:05:31:INFO:417:rasterio_.warp:(15.0, 15.0)\n",
      "05:05:31:INFO:430:rasterio_.warp:(15.0, 15.0)\n",
      "05:05:31:INFO:417:rasterio_.warp:(15.0, 15.0)\n",
      "05:05:31:INFO:430:rasterio_.warp:(15.0, 15.0)\n"
     ]
    },
    {
     "name": "stdout",
     "output_type": "stream",
     "text": [
      "> \u001b[0;32m/home/jcgr/.local/lib/python3.6/site-packages/geowombat/util/web.py\u001b[0m(399)\u001b[0;36mdownload_cube\u001b[0;34m()\u001b[0m\n",
      "\u001b[0;32m    398 \u001b[0;31m                                            \u001b[0;31m# Convert DN to surface reflectance\u001b[0m\u001b[0;34m\u001b[0m\u001b[0;34m\u001b[0m\u001b[0;34m\u001b[0m\u001b[0m\n",
      "\u001b[0m\u001b[0;32m--> 399 \u001b[0;31m                                            sr = rt.dn_to_sr(data,\n",
      "\u001b[0m\u001b[0;32m    400 \u001b[0;31m                                                             \u001b[0msza\u001b[0m\u001b[0;34m,\u001b[0m \u001b[0msaa\u001b[0m\u001b[0;34m,\u001b[0m \u001b[0mvza\u001b[0m\u001b[0;34m,\u001b[0m \u001b[0mvaa\u001b[0m\u001b[0;34m,\u001b[0m\u001b[0;34m\u001b[0m\u001b[0;34m\u001b[0m\u001b[0m\n",
      "\u001b[0m\n"
     ]
    },
    {
     "name": "stdin",
     "output_type": "stream",
     "text": [
      "ipdb>  data\n"
     ]
    },
    {
     "name": "stdout",
     "output_type": "stream",
     "text": [
      "<xarray.DataArray (band: 1, y: 15462, x: 15202)>\n",
      "dask.array<open_rasterio-310941a7c257eefc3fb23fa53e9ac694<this-array>, shape=(1, 15462, 15202), dtype=uint16, chunksize=(1, 256, 256), chunktype=numpy.ndarray>\n",
      "Coordinates:\n",
      "  * y        (y) float64 1.777e+05 1.777e+05 1.777e+05 ... -7.395e+04 -7.397e+04\n",
      "  * x        (x) float64 3.412e+05 3.412e+05 3.412e+05 ... 5.638e+05 5.638e+05\n",
      "  * band     (band) <U3 'pan'\n",
      "Attributes:\n",
      "    transform:   (14.6469991241385, 0.0, 341157.90359943395, 0.0, -16.2803564...\n",
      "    crs:         +proj=aea +lat_1=20 +lat_2=60 +lat_0=40 +lon_0=-96 +x_0=0 +y...\n",
      "    res:         (14.6469991241385, 16.280356494867934)\n",
      "    is_tiled:    1\n",
      "    nodatavals:  (nan,)\n",
      "    scales:      (1.0,)\n",
      "    offsets:     (0.0,)\n"
     ]
    },
    {
     "name": "stdin",
     "output_type": "stream",
     "text": [
      "ipdb>  sza\n"
     ]
    },
    {
     "name": "stdout",
     "output_type": "stream",
     "text": [
      "<xarray.DataArray (band: 1, y: 7733, x: 7602)>\n",
      "dask.array<open_rasterio-122207ff1e59ff4818cee5e63f14598b<this-array>, shape=(1, 7733, 7602), dtype=int16, chunksize=(1, 256, 256), chunktype=numpy.ndarray>\n",
      "Coordinates:\n",
      "  * band     (band) <U3 'sza'\n",
      "  * y        (y) float64 1.778e+05 1.777e+05 1.777e+05 ... -7.396e+04 -7.399e+04\n",
      "  * x        (x) float64 3.411e+05 3.412e+05 3.412e+05 ... 5.638e+05 5.638e+05\n",
      "Attributes:\n",
      "    transform:   (29.29405824092275, 0.0, 341129.30821554543, 0.0, -32.560560...\n",
      "    crs:         +proj=aea +lat_1=20 +lat_2=60 +lat_0=40 +lon_0=-96 +x_0=0 +y...\n",
      "    res:         (29.29405824092275, 32.56056040481925)\n",
      "    is_tiled:    1\n",
      "    nodatavals:  (-32768.0,)\n",
      "    scales:      (1.0,)\n",
      "    offsets:     (0.0,)\n"
     ]
    }
   ],
   "source": [
    "gdl.download_cube(['l8'], \n",
    "                  ['2017-01-01', '2017-03-01'],\n",
    "                  (-91.57, 40.37, -91.46, 40.42),\n",
    "                  ['pan'],\n",
    "                  outdir='/media/jcgr/data/projects/global_fields/data/grids',\n",
    "                  crs='+proj=aea +lat_1=20 +lat_2=60 +lat_0=40 +lon_0=-96 +x_0=0 +y_0=0 +datum=NAD83 +units=m +no_defs')"
   ]
  },
  {
   "cell_type": "code",
   "execution_count": null,
   "metadata": {},
   "outputs": [],
   "source": [
    "qa = '/media/jcgr/data/projects/global_fields/data/grids/LE07_L1GT_025032_20100121_20160916_01_T2_BQA.TIF'"
   ]
  },
  {
   "cell_type": "code",
   "execution_count": null,
   "metadata": {},
   "outputs": [],
   "source": [
    "mask_item = 'cloud'\n",
    "mask_value = 1"
   ]
  },
  {
   "cell_type": "code",
   "execution_count": null,
   "metadata": {},
   "outputs": [],
   "source": [
    "with gw.open(qa) as ds:\n",
    "    \n",
    "    qai = QAMasker(ds, 'l-c1', ['cloud'])"
   ]
  },
  {
   "cell_type": "code",
   "execution_count": null,
   "metadata": {},
   "outputs": [],
   "source": [
    "mask"
   ]
  },
  {
   "cell_type": "code",
   "execution_count": null,
   "metadata": {},
   "outputs": [],
   "source": [
    "mask[self.get_qa_mask(mask_item) >= mask_value] = self.fmask_dict[mask_item]"
   ]
  }
 ],
 "metadata": {
  "kernelspec": {
   "display_name": "Python 3",
   "language": "python",
   "name": "python3"
  },
  "language_info": {
   "codemirror_mode": {
    "name": "ipython",
    "version": 3
   },
   "file_extension": ".py",
   "mimetype": "text/x-python",
   "name": "python",
   "nbconvert_exporter": "python",
   "pygments_lexer": "ipython3",
   "version": "3.6.8"
  }
 },
 "nbformat": 4,
 "nbformat_minor": 4
}
