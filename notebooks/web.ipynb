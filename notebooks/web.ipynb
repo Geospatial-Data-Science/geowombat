{
 "cells": [
  {
   "cell_type": "code",
   "execution_count": 1,
   "metadata": {},
   "outputs": [],
   "source": [
    "import geowombat as gw\n",
    "from geowombat.util import GeoDownloads\n",
    "\n",
    "import numpy as np\n",
    "import geopandas as gpd\n",
    "from shapely.geometry import Polygon\n",
    "import xarray as xr\n",
    "import dask.array as da"
   ]
  },
  {
   "cell_type": "code",
   "execution_count": 2,
   "metadata": {},
   "outputs": [],
   "source": [
    "def bounds_from_bounds(bounds, crs):\n",
    "    \n",
    "    poly_bounds = Polygon([(bounds[0], bounds[3]),\n",
    "                           (bounds[2], bounds[3]),\n",
    "                           (bounds[2], bounds[1]),\n",
    "                           (bounds[0], bounds[1])])    \n",
    "    \n",
    "    return gpd.GeoDataFrame([0],\n",
    "                            geometry=[poly_bounds],\n",
    "                            crs=crs)    \n",
    "\n",
    "\n",
    "def df_to_bounds(df):\n",
    "    return df.bounds.values[0].tolist()"
   ]
  },
  {
   "cell_type": "code",
   "execution_count": 3,
   "metadata": {},
   "outputs": [],
   "source": [
    "gdl = GeoDownloads()"
   ]
  },
  {
   "cell_type": "markdown",
   "metadata": {},
   "source": [
    "### North America"
   ]
  },
  {
   "cell_type": "code",
   "execution_count": null,
   "metadata": {},
   "outputs": [],
   "source": [
    "wgs84_proj4 = '+proj=longlat +datum=WGS84 +no_defs'\n",
    "naaeac_proj4 = '+proj=aea +lat_1=20 +lat_2=60 +lat_0=40 +lon_0=-96 +x_0=0 +y_0=0 +datum=NAD83 +units=m +no_defs'"
   ]
  },
  {
   "cell_type": "code",
   "execution_count": null,
   "metadata": {},
   "outputs": [],
   "source": [
    "# left, bottom, right, top\n",
    "bounds = (-91.57, 40.37, -91.46, 40.42)\n",
    "\n",
    "bounds = bounds_from_bounds(bounds, wgs84_proj4)\n",
    "\n",
    "# Re-project to Albers Equal Area\n",
    "bounds = bounds.to_crs(naaeac_proj4)\n",
    "bounds = df_to_bounds(bounds)\n",
    "\n",
    "bounds[2] = bounds[0] + 10000.0\n",
    "bounds[1] = bounds[3] - 10000.0\n",
    "\n",
    "bounds = bounds_from_bounds(bounds, crs=naaeac_proj4)\n",
    "bounds = bounds.to_crs(wgs84_proj4)\n",
    "bounds = df_to_bounds(bounds)\n",
    "\n",
    "print(bounds)"
   ]
  },
  {
   "cell_type": "code",
   "execution_count": null,
   "metadata": {},
   "outputs": [],
   "source": [
    "gdl.download_cube(['l8'], \n",
    "                  ['2018-01-01', '2018-09-01'],\n",
    "                  bounds,\n",
    "                  ['pan'],\n",
    "                  outdir='/media/jcgr/data/projects/global_fields/data/grids',\n",
    "                  crs=naaeac_proj4)"
   ]
  },
  {
   "cell_type": "markdown",
   "metadata": {},
   "source": [
    "### Queensland"
   ]
  },
  {
   "cell_type": "code",
   "execution_count": 4,
   "metadata": {},
   "outputs": [],
   "source": [
    "wgs84_proj4 = '+proj=longlat +datum=WGS84 +no_defs'\n",
    "aaaeac_proj4 = '+proj=aea +lat_1=-18 +lat_2=-36 +lat_0=0 +lon_0=132 +x_0=0 +y_0=0 +ellps=GRS80 +units=m +no_defs'"
   ]
  },
  {
   "cell_type": "code",
   "execution_count": 5,
   "metadata": {},
   "outputs": [
    {
     "name": "stdout",
     "output_type": "stream",
     "text": [
      "[151.00316521902405, -27.420353846255843, 151.11957713732528, -27.318953835981983]\n"
     ]
    }
   ],
   "source": [
    "# left, bottom, right, top\n",
    "bounds = (151.02, -27.43, 151.22, -27.33)\n",
    "\n",
    "bounds = bounds_from_bounds(bounds, wgs84_proj4)\n",
    "\n",
    "# Re-project to Albers Equal Area\n",
    "bounds = bounds.to_crs(aaaeac_proj4)\n",
    "bounds = df_to_bounds(bounds)\n",
    "\n",
    "bounds[2] = bounds[0] + 10000.0\n",
    "bounds[1] = bounds[3] - 10000.0\n",
    "\n",
    "bounds = bounds_from_bounds(bounds, crs=aaaeac_proj4)\n",
    "bounds = bounds.to_crs(wgs84_proj4)\n",
    "bounds = df_to_bounds(bounds)\n",
    "\n",
    "print(bounds)"
   ]
  },
  {
   "cell_type": "code",
   "execution_count": 6,
   "metadata": {},
   "outputs": [
    {
     "name": "stderr",
     "output_type": "stream",
     "text": [
      "09:35:30:WARNING:305:web.download_cube:  No results found for l8 at location 091/079, year 2019, month 1.\n"
     ]
    },
    {
     "name": "stdout",
     "output_type": "stream",
     "text": [
      "gsutil ls -r gs://gcp-public-data-landsat/LC08/01/091/079/*091079_201901*_T*\n"
     ]
    },
    {
     "name": "stderr",
     "output_type": "stream",
     "text": [
      "09:35:31:WARNING:305:web.download_cube:  No results found for l8 at location 090/079, year 2019, month 1.\n"
     ]
    },
    {
     "name": "stdout",
     "output_type": "stream",
     "text": [
      "gsutil ls -r gs://gcp-public-data-landsat/LC08/01/090/079/*090079_201901*_T*\n"
     ]
    },
    {
     "name": "stderr",
     "output_type": "stream",
     "text": [
      "09:35:32:WARNING:305:web.download_cube:  No results found for l8 at location 091/079, year 2019, month 2.\n"
     ]
    },
    {
     "name": "stdout",
     "output_type": "stream",
     "text": [
      "gsutil ls -r gs://gcp-public-data-landsat/LC08/01/091/079/*091079_201902*_T*\n"
     ]
    },
    {
     "name": "stderr",
     "output_type": "stream",
     "text": [
      "09:35:32:WARNING:305:web.download_cube:  No results found for l8 at location 090/079, year 2019, month 2.\n"
     ]
    },
    {
     "name": "stdout",
     "output_type": "stream",
     "text": [
      "gsutil ls -r gs://gcp-public-data-landsat/LC08/01/090/079/*090079_201902*_T*\n"
     ]
    },
    {
     "name": "stderr",
     "output_type": "stream",
     "text": [
      "09:35:33:WARNING:305:web.download_cube:  No results found for l8 at location 091/079, year 2019, month 3.\n"
     ]
    },
    {
     "name": "stdout",
     "output_type": "stream",
     "text": [
      "gsutil ls -r gs://gcp-public-data-landsat/LC08/01/091/079/*091079_201903*_T*\n"
     ]
    },
    {
     "name": "stderr",
     "output_type": "stream",
     "text": [
      "09:35:34:WARNING:305:web.download_cube:  No results found for l8 at location 090/079, year 2019, month 3.\n"
     ]
    },
    {
     "name": "stdout",
     "output_type": "stream",
     "text": [
      "gsutil ls -r gs://gcp-public-data-landsat/LC08/01/090/079/*090079_201903*_T*\n"
     ]
    }
   ],
   "source": [
    "gdl.download_cube(['l8'], \n",
    "                  ['2019-01-01', '2019-03-01'],\n",
    "                  bounds,\n",
    "                  ['nir'],\n",
    "                  outdir='/scratch/rsc4/graesser/temp/l8',\n",
    "                  crs=aaaeac_proj4)"
   ]
  },
  {
   "cell_type": "code",
   "execution_count": 7,
   "metadata": {},
   "outputs": [
    {
     "name": "stdout",
     "output_type": "stream",
     "text": [
      "Traceback (most recent call last):\r\n",
      "  File \"/export/home/graesserj/code/python/envs/ts3/bin/gsutil\", line 11, in <module>\r\n",
      "    load_entry_point('gsutil==4.46', 'console_scripts', 'gsutil')()\r\n",
      "  File \"/export/home/graesserj/code/python/envs/ts3/lib/python3.6/site-packages/gslib/__main__.py\", line 433, in main\r\n",
      "    user_project=user_project)\r\n",
      "  File \"/export/home/graesserj/code/python/envs/ts3/lib/python3.6/site-packages/gslib/__main__.py\", line 762, in _RunNamedCommandAndHandleExceptions\r\n",
      "    _HandleUnknownFailure(e)\r\n",
      "  File \"/export/home/graesserj/code/python/envs/ts3/lib/python3.6/site-packages/gslib/__main__.py\", line 628, in _RunNamedCommandAndHandleExceptions\r\n",
      "    user_project=user_project)\r\n",
      "  File \"/export/home/graesserj/code/python/envs/ts3/lib/python3.6/site-packages/gslib/command_runner.py\", line 411, in RunNamedCommand\r\n",
      "    return_code = command_inst.RunCommand()\r\n",
      "  File \"/export/home/graesserj/code/python/envs/ts3/lib/python3.6/site-packages/gslib/commands/ls.py\", line 640, in RunCommand\r\n",
      "    listing_helper.ExpandUrlAndPrint(storage_url))\r\n",
      "  File \"/export/home/graesserj/code/python/envs/ts3/lib/python3.6/site-packages/gslib/utils/ls_helper.py\", line 369, in ExpandUrlAndPrint\r\n",
      "    print_initial_newline=False)\r\n",
      "  File \"/export/home/graesserj/code/python/envs/ts3/lib/python3.6/site-packages/gslib/utils/ls_helper.py\", line 443, in _RecurseExpandUrlAndPrint\r\n",
      "    bucket_listing_fields=self.bucket_listing_fields):\r\n",
      "  File \"/export/home/graesserj/code/python/envs/ts3/lib/python3.6/site-packages/gslib/wildcard_iterator.py\", line 497, in IterAll\r\n",
      "    expand_top_level_buckets=expand_top_level_buckets):\r\n",
      "  File \"/export/home/graesserj/code/python/envs/ts3/lib/python3.6/site-packages/gslib/wildcard_iterator.py\", line 194, in __iter__\r\n",
      "    fields=get_fields)\r\n",
      "  File \"/export/home/graesserj/code/python/envs/ts3/lib/python3.6/site-packages/gslib/cloud_api_delegator.py\", line 305, in GetObjectMetadata\r\n",
      "    fields=fields)\r\n",
      "  File \"/export/home/graesserj/code/python/envs/ts3/lib/python3.6/site-packages/gslib/gcs_json_api.py\", line 946, in GetObjectMetadata\r\n",
      "    fields=fields)\r\n",
      "  File \"/export/home/graesserj/code/python/envs/ts3/lib/python3.6/site-packages/gslib/gcs_json_api.py\", line 901, in _GetObjectMetadataHelper\r\n",
      "    global_params=global_params)\r\n",
      "  File \"/export/home/graesserj/code/python/envs/ts3/lib/python3.6/site-packages/gslib/third_party/storage_apitools/storage_v1_client.py\", line 1135, in Get\r\n",
      "    download=download)\r\n",
      "  File \"/export/home/graesserj/code/python/envs/ts3/lib/python3.6/site-packages/google_apitools-0.5.30-py3.6.egg/apitools/base/py/base_api.py\", line 729, in _RunMethod\r\n",
      "    http, http_request, **opts)\r\n",
      "  File \"/export/home/graesserj/code/python/envs/ts3/lib/python3.6/site-packages/google_apitools-0.5.30-py3.6.egg/apitools/base/py/http_wrapper.py\", line 356, in MakeRequest\r\n",
      "    max_retry_wait, total_wait_sec))\r\n",
      "  File \"/export/home/graesserj/code/python/envs/ts3/lib/python3.6/site-packages/gslib/utils/retry_util.py\", line 65, in WarnAfterManyRetriesHandler\r\n",
      "    http_wrapper.HandleExceptionsAndRebuildHttpConnections(retry_args)\r\n",
      "  File \"/export/home/graesserj/code/python/envs/ts3/lib/python3.6/site-packages/google_apitools-0.5.30-py3.6.egg/apitools/base/py/http_wrapper.py\", line 304, in HandleExceptionsAndRebuildHttpConnections\r\n",
      "    raise retry_args.exc\r\n",
      "  File \"/export/home/graesserj/code/python/envs/ts3/lib/python3.6/site-packages/google_apitools-0.5.30-py3.6.egg/apitools/base/py/http_wrapper.py\", line 346, in MakeRequest\r\n",
      "    check_response_func=check_response_func)\r\n",
      "  File \"/export/home/graesserj/code/python/envs/ts3/lib/python3.6/site-packages/google_apitools-0.5.30-py3.6.egg/apitools/base/py/http_wrapper.py\", line 396, in _MakeRequestNoRetry\r\n",
      "    redirections=redirections, connection_type=connection_type)\r\n",
      "  File \"/export/home/graesserj/code/python/envs/ts3/lib/python3.6/site-packages/httplib2-0.14.0-py3.6.egg/httplib2/__init__.py\", line 1957, in request\r\n",
      "    cachekey,\r\n",
      "  File \"/export/home/graesserj/code/python/envs/ts3/lib/python3.6/site-packages/httplib2-0.14.0-py3.6.egg/httplib2/__init__.py\", line 1622, in _request\r\n",
      "    conn, request_uri, method, body, headers\r\n",
      "  File \"/export/home/graesserj/code/python/envs/ts3/lib/python3.6/site-packages/httplib2-0.14.0-py3.6.egg/httplib2/__init__.py\", line 1528, in _conn_request\r\n",
      "    conn.connect()\r\n",
      "  File \"/export/home/graesserj/code/python/envs/ts3/lib/python3.6/site-packages/httplib2-0.14.0-py3.6.egg/httplib2/__init__.py\", line 1309, in connect\r\n",
      "    sock.connect((self.host, self.port))\r\n",
      "  File \"/export/home/graesserj/code/python/envs/ts3/lib/python3.6/site-packages/SocksiPy_branch-1.1-py3.6.egg/socks.py\", line 406, in connect\r\n",
      "  File \"/export/home/graesserj/code/python/envs/ts3/lib/python3.6/site-packages/SocksiPy_branch-1.1-py3.6.egg/socks.py\", line 357, in __negotiatehttp\r\n",
      "TypeError: a bytes-like object is required, not 'str'\r\n"
     ]
    }
   ],
   "source": [
    "! gsutil ls -r gs://gcp-public-data-landsat/LC08/01/090/079/"
   ]
  }
 ],
 "metadata": {
  "kernelspec": {
   "display_name": "Python 3",
   "language": "python",
   "name": "python3"
  },
  "language_info": {
   "codemirror_mode": {
    "name": "ipython",
    "version": 3
   },
   "file_extension": ".py",
   "mimetype": "text/x-python",
   "name": "python",
   "nbconvert_exporter": "python",
   "pygments_lexer": "ipython3",
   "version": "3.6.5"
  }
 },
 "nbformat": 4,
 "nbformat_minor": 4
}
