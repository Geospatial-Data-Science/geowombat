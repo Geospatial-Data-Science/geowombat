{
 "cells": [
  {
   "cell_type": "code",
   "execution_count": 1,
   "metadata": {},
   "outputs": [],
   "source": [
    "import os\n",
    "import fnmatch\n",
    "import itertools\n",
    "from datetime import datetime\n",
    "from pathlib import Path\n",
    "\n",
    "import geowombat as gw\n",
    "from geowombat.models import CloudClassifier\n",
    "\n",
    "import satsmooth\n",
    "\n",
    "import geopandas as gpd\n",
    "import numpy as np\n",
    "import cv2\n",
    "import rasterio as rio\n",
    "import numba as nb\n",
    "from skimage.exposure import rescale_intensity\n",
    "import sklearn_crfsuite\n",
    "from sklearn.preprocessing import LabelEncoder\n",
    "from affine import Affine\n",
    "from tqdm import tqdm, trange\n",
    "import matplotlib.pyplot as plt"
   ]
  },
  {
   "cell_type": "markdown",
   "metadata": {},
   "source": [
    "## Functions"
   ]
  },
  {
   "cell_type": "code",
   "execution_count": 2,
   "metadata": {},
   "outputs": [],
   "source": [
    "# str_to_int_dict = dict(n=0, l=1, u=2, w=3, c=4, s=5, h=6)\n",
    "\n",
    "# int_to_str_dict = dict()\n",
    "# for k, v in str_to_int_dict.items():\n",
    "#     int_to_str_dict[v] = k"
   ]
  },
  {
   "cell_type": "code",
   "execution_count": 3,
   "metadata": {},
   "outputs": [],
   "source": [
    "# def pred_to_labels(model_pred):\n",
    "    \n",
    "#     return np.array([[[ps['l'] if 'l' in ps else 0, \n",
    "#                        ps['u'] if 'u' in ps else 0, \n",
    "#                        ps['w'] if 'w' in ps else 0, \n",
    "#                        ps['c'] if 'c' in ps else 0, \n",
    "#                        ps['s'] if 's' in ps else 0] for ps in p] for p in model_pred], dtype='float64')"
   ]
  },
  {
   "cell_type": "code",
   "execution_count": 4,
   "metadata": {},
   "outputs": [],
   "source": [
    "# def label_decoder(label):\n",
    "#     return int_to_str_dict[label]\n",
    "\n",
    "\n",
    "@nb.jit\n",
    "def sample_to_dict(tsp, *args):\n",
    "    \n",
    "    \"\"\"\n",
    "    Args:\n",
    "        tsp (1d)\n",
    "    \"\"\"\n",
    "\n",
    "    nt = len(tsp)\n",
    "    \n",
    "    if args:\n",
    "\n",
    "        n_args = len(args)\n",
    "\n",
    "        tlab = np.empty(nt+n_args, dtype=object)\n",
    "        tval = np.zeros(nt+n_args, dtype='float64')\n",
    "\n",
    "    else:\n",
    "\n",
    "        tlab = np.empty(nt, dtype=object)\n",
    "        tval = np.zeros(nt, dtype='float64')    \n",
    "    \n",
    "    for r in range(0, nt):\n",
    "        \n",
    "        tlab[r] = str(r+1).encode('utf-8')    \n",
    "        tval[r] = tsp[r]\n",
    "    \n",
    "    if args:\n",
    "\n",
    "        for i, (arg_name, arg_value) in enumerate(args):\n",
    "\n",
    "            tlab[r+i+1] = arg_name.encode('utf-8')\n",
    "            tval[r+i+1] = arg_value    \n",
    "    \n",
    "    return dict(zip(tlab.tolist(), tval))\n",
    "\n",
    "\n",
    "\n",
    "def _evi2(red, nir):\n",
    "    \"\"\"Two-band Enhanced Vegetation Index\"\"\"\n",
    "    return 2.5 * ((nir - red) / (nir + 1.0 + (2.4 * red)))\n",
    "\n",
    "\n",
    "def _bsi(blue, red, nir, swir2):\n",
    "    \"\"\"Bare Soil Index\"\"\"\n",
    "    return ((swir2 + red) - (nir - blue)) / ((swir2 + red) + (nir - blue))\n",
    "\n",
    "\n",
    "def _brightness_swir(green, red, nir, swir1):\n",
    "    \"\"\"Brightness Index\"\"\"\n",
    "    return (green**2 + red**2 + nir**2 + swir1**2)**0.5\n",
    "\n",
    "\n",
    "def _nbr(nir, swir2):\n",
    "    \"\"\"Normalized Burn Ratio\"\"\"\n",
    "    return (nir - swir2) / (nir + swir2)\n",
    "\n",
    "\n",
    "def _ndmi(nir, swir1):\n",
    "    \"\"\"Normalized Difference Moisture Index\"\"\"\n",
    "    return (nir - swir1) / (nir + swir1)\n",
    "\n",
    "\n",
    "def _ndvi(red, nir):\n",
    "    \"\"\"Normalized Difference Vegetation Index\"\"\"\n",
    "    return (nir - red) / (nir + red)\n",
    "\n",
    "\n",
    "def _wi(red, swir1):\n",
    "    \"\"\"Woody Index\"\"\"\n",
    "    return 0.0 if red + swir1 > 0.5 else 1.0 - ((red + swir1) / 0.5)\n",
    "\n",
    "    \n",
    "SENSOR_BANDS = dict(l7=dict(blue=0,\n",
    "                            green=1,\n",
    "                            red=2,\n",
    "                            nir=3,\n",
    "                            swir1=4,\n",
    "                            swir2=5),\n",
    "                    l8=dict(blue=0,\n",
    "                            green=1,\n",
    "                            red=2,\n",
    "                            nir=3,\n",
    "                            swir1=4,\n",
    "                            swir2=5),\n",
    "                    s210=dict(blue=0,\n",
    "                              green=1,\n",
    "                              red=2,\n",
    "                              nir=3),\n",
    "                    s2l7=dict(blue=0,\n",
    "                              green=1,\n",
    "                              red=2,\n",
    "                              nir=3,\n",
    "                              swir1=4,\n",
    "                              swir2=5))    \n",
    "\n",
    "# @nb.jit\n",
    "def array_to_dict(sensor, *args):\n",
    "    \n",
    "    \"\"\"\n",
    "    Converts an array sample to a CRF features\n",
    "    \"\"\"\n",
    "    \n",
    "    nargs = len(args)\n",
    "    feas = list()\n",
    "    \n",
    "    if sensor != 'pan':\n",
    "\n",
    "        blue_idx = SENSOR_BANDS[sensor]['blue']\n",
    "        green_idx = SENSOR_BANDS[sensor]['green']\n",
    "        red_idx = SENSOR_BANDS[sensor]['red']\n",
    "        nir_idx = SENSOR_BANDS[sensor]['nir']\n",
    "        swir1_idx = SENSOR_BANDS[sensor]['swir1']\n",
    "        swir2_idx = SENSOR_BANDS[sensor]['swir2']\n",
    "\n",
    "    for si in range(0, nargs):\n",
    "        \n",
    "        tsamp = args[si]*0.0001\n",
    "\n",
    "        if sensor == 'pan':            \n",
    "            feas.append(sample_to_dict(tsamp))            \n",
    "        else:\n",
    "            \n",
    "            evi2 = _evi2(tsamp[red_idx], tsamp[nir_idx])\n",
    "            #bsi = _bsi(tsamp[blue_idx], tsamp[red_idx], tsamp[nir_idx], tsamp[swir2_idx])\n",
    "            brightness = _brightness_swir(tsamp[green_idx], tsamp[red_idx], tsamp[nir_idx], tsamp[swir1_idx])\n",
    "            nbr = _nbr(tsamp[nir_idx], tsamp[swir2_idx])\n",
    "            ndmi = _ndmi(tsamp[nir_idx], tsamp[swir1_idx])\n",
    "            ndvi = _ndvi(tsamp[red_idx], tsamp[nir_idx])                        \n",
    "            wi = _wi(tsamp[red_idx], tsamp[swir1_idx])            \n",
    "        \n",
    "            feas.append(sample_to_dict(tsamp, \n",
    "                                       ('brightness', brightness), \n",
    "                                       ('evi2', evi2), \n",
    "                                       ('nbr', nbr),\n",
    "                                       ('ndmi', ndmi),\n",
    "                                       ('ndvi', ndvi),\n",
    "                                       ('wi', wi)))\n",
    "            \n",
    "    return feas"
   ]
  },
  {
   "cell_type": "markdown",
   "metadata": {},
   "source": [
    "## Extract data"
   ]
  },
  {
   "cell_type": "code",
   "execution_count": 5,
   "metadata": {},
   "outputs": [
    {
     "data": {
      "text/html": [
       "<div>\n",
       "<style scoped>\n",
       "    .dataframe tbody tr th:only-of-type {\n",
       "        vertical-align: middle;\n",
       "    }\n",
       "\n",
       "    .dataframe tbody tr th {\n",
       "        vertical-align: top;\n",
       "    }\n",
       "\n",
       "    .dataframe thead th {\n",
       "        text-align: right;\n",
       "    }\n",
       "</style>\n",
       "<table border=\"1\" class=\"dataframe\">\n",
       "  <thead>\n",
       "    <tr style=\"text-align: right;\">\n",
       "      <th></th>\n",
       "      <th>id</th>\n",
       "      <th>label</th>\n",
       "      <th>image</th>\n",
       "      <th>geometry</th>\n",
       "    </tr>\n",
       "  </thead>\n",
       "  <tbody>\n",
       "    <tr>\n",
       "      <th>0</th>\n",
       "      <td>None</td>\n",
       "      <td>s</td>\n",
       "      <td>t55kdu/cemsre_t55kdu_20171210_abbm5</td>\n",
       "      <td>POLYGON ((507064.648 7815065.614, 507064.648 7...</td>\n",
       "    </tr>\n",
       "    <tr>\n",
       "      <th>1</th>\n",
       "      <td>None</td>\n",
       "      <td>s</td>\n",
       "      <td>t55kdu/cemsre_t55kdu_20171210_abbm5</td>\n",
       "      <td>POLYGON ((506948.752 7814128.218, 506948.752 7...</td>\n",
       "    </tr>\n",
       "    <tr>\n",
       "      <th>2</th>\n",
       "      <td>None</td>\n",
       "      <td>s</td>\n",
       "      <td>t55kdu/cemsre_t55kdu_20171210_abbm5</td>\n",
       "      <td>POLYGON ((504307.000 7812038.678, 504307.000 7...</td>\n",
       "    </tr>\n",
       "    <tr>\n",
       "      <th>3</th>\n",
       "      <td>None</td>\n",
       "      <td>s</td>\n",
       "      <td>t55kdu/cemsre_t55kdu_20171210_abbm5</td>\n",
       "      <td>POLYGON ((504047.938 7814997.439, 504047.938 7...</td>\n",
       "    </tr>\n",
       "    <tr>\n",
       "      <th>4</th>\n",
       "      <td>None</td>\n",
       "      <td>s</td>\n",
       "      <td>t55kdu/cemsre_t55kdu_20171210_abbm5</td>\n",
       "      <td>POLYGON ((504361.540 7816885.866, 504361.540 7...</td>\n",
       "    </tr>\n",
       "  </tbody>\n",
       "</table>\n",
       "</div>"
      ],
      "text/plain": [
       "     id label                                image  \\\n",
       "0  None     s  t55kdu/cemsre_t55kdu_20171210_abbm5   \n",
       "1  None     s  t55kdu/cemsre_t55kdu_20171210_abbm5   \n",
       "2  None     s  t55kdu/cemsre_t55kdu_20171210_abbm5   \n",
       "3  None     s  t55kdu/cemsre_t55kdu_20171210_abbm5   \n",
       "4  None     s  t55kdu/cemsre_t55kdu_20171210_abbm5   \n",
       "\n",
       "                                            geometry  \n",
       "0  POLYGON ((507064.648 7815065.614, 507064.648 7...  \n",
       "1  POLYGON ((506948.752 7814128.218, 506948.752 7...  \n",
       "2  POLYGON ((504307.000 7812038.678, 504307.000 7...  \n",
       "3  POLYGON ((504047.938 7814997.439, 504047.938 7...  \n",
       "4  POLYGON ((504361.540 7816885.866, 504361.540 7...  "
      ]
     },
     "execution_count": 5,
     "metadata": {},
     "output_type": "execute_result"
    }
   ],
   "source": [
    "ref_crs = \"+proj=aea +lat_1=-12 +lat_2=-28 +lat_0=-28 +lon_0=145 +x_0=0 +y_0=0 +ellps=GRS80 +towgs84=0,0,0,0,0,0,0 +units=m +no_defs\"\n",
    "\n",
    "# Landsat 8\n",
    "# rpath = Path('/media/jcgr/data/imagery/google/p225r083/brdf')\n",
    "# vpath = Path('/media/jcgr/data/imagery/google/training/p225r83.shp')\n",
    "\n",
    "# Sentinel 2\n",
    "rpath = Path('/scratch/rsc8/hardtkel/rapidfires/LW')\n",
    "vpath = Path('/scratch/rsc4/graesser/temp/s2/training/s2_training.shp')\n",
    "\n",
    "# Global fields\n",
    "# rpath = Path('/media/jcgr/data/projects/global_fields/data/grids')\n",
    "# vpath = Path('/media/jcgr/data/projects/global_fields/data/training/clouds/sa.shp')\n",
    "\n",
    "df = gpd.read_file(vpath.as_posix())\n",
    "\n",
    "df.head()"
   ]
  },
  {
   "cell_type": "code",
   "execution_count": 6,
   "metadata": {},
   "outputs": [
    {
     "name": "stderr",
     "output_type": "stream",
     "text": [
      "100%|██████████| 322/322 [01:08<00:00,  4.71it/s]\n"
     ]
    }
   ],
   "source": [
    "image_ext = '.img'\n",
    "replace_a = ''  # 'sa/'\n",
    "replace_b = ''  # 'sa_sp/'\n",
    "# ref_crs = \"+proj=aea +lat_1=-5 +lat_2=-42 +lat_0=-32 +lon_0=-60 +x_0=0 +y_0=0 +ellps=aust_SA +units=m +no_defs\"\n",
    "\n",
    "minrow = 1e9\n",
    "mincol = 1e9\n",
    "\n",
    "X_data = list()\n",
    "y_data = list()\n",
    "\n",
    "df = df.replace(to_replace='u', value='l')\n",
    "\n",
    "# le = LabelEncoder()\n",
    "# le.fit(df.label.values)\n",
    "# df['label_value'] = le.transform(df.label.values)\n",
    "\n",
    "with gw.config.update(ref_crs=ref_crs):\n",
    "\n",
    "    for row in tqdm(df.itertuples(index=True, name='Pandas'), total=df.shape[0]):\n",
    "\n",
    "        rimage = rpath.joinpath(row.image.replace(replace_a, replace_b) + image_ext)\n",
    "        \n",
    "        if rimage.is_file():\n",
    "\n",
    "            with gw.open(rimage.as_posix(), chunks=512) as ds:\n",
    "\n",
    "                clip = gw.clip(ds, \n",
    "                               df, \n",
    "                               query=\"index == {:d}\".format(row.Index), \n",
    "                               mask_data=False)\n",
    "\n",
    "                subset = clip.data.compute()\n",
    "                minrow = min(subset.shape[1], minrow)\n",
    "                mincol = min(subset.shape[2], mincol)\n",
    "                X_data.append(subset)\n",
    "                y_data.append(row.label)\n",
    "    \n",
    "X_data = np.array([d[:, :minrow, :mincol] for d in X_data], dtype='float64')"
   ]
  },
  {
   "cell_type": "code",
   "execution_count": 8,
   "metadata": {},
   "outputs": [
    {
     "data": {
      "text/plain": [
       "(322, 6, 7, 8)"
      ]
     },
     "execution_count": 8,
     "metadata": {},
     "output_type": "execute_result"
    }
   ],
   "source": [
    "X_data.shape"
   ]
  },
  {
   "cell_type": "markdown",
   "metadata": {},
   "source": [
    "### Augment the data"
   ]
  },
  {
   "cell_type": "code",
   "execution_count": 9,
   "metadata": {},
   "outputs": [
    {
     "name": "stderr",
     "output_type": "stream",
     "text": [
      "100%|██████████| 10/10 [00:40<00:00,  4.04s/it]\n"
     ]
    }
   ],
   "source": [
    "n_iter = 10\n",
    "sensor = 's2l7'\n",
    "\n",
    "max_rand_length = 10\n",
    "\n",
    "ntime, nbands, nrows, ncols = X_data.shape\n",
    "features = list()\n",
    "\n",
    "X = list()\n",
    "y = list()\n",
    "\n",
    "for iter_ in trange(0, n_iter):\n",
    "\n",
    "    for a in [['u', 'w', 'h'], ['u', 'l', 'h']]:\n",
    "\n",
    "        Xd = list()\n",
    "        yd = list()\n",
    "\n",
    "        idx_null = np.array([ij for ij, cl in enumerate(y_data) if cl not in a], dtype='int64')\n",
    "\n",
    "        ntime_null = idx_null.shape[0]\n",
    "\n",
    "        low = np.random.randint(0, high=int(ntime_null/2))\n",
    "        high = np.random.randint(low+2, high=ntime_null)\n",
    "        idx_random = np.array([i + 1 for i in range(low, high)], dtype='int64')\n",
    "\n",
    "        n_rand = min(len(idx_random), max_rand_length)\n",
    "\n",
    "        for i in range(0, n_rand):\n",
    "\n",
    "            # Get a random subset of temporal indices\n",
    "            idx = idx_null[np.random.choice(idx_random, size=n_rand, replace=False)]\n",
    "\n",
    "            # Transpose each temporal state --> samples x features\n",
    "            Xd_ = [dlayer.transpose(1, 2, 0).reshape(nrows*ncols, nbands) for dlayer in X_data[idx]]\n",
    "\n",
    "            # Flatten the data from [time x features x rows x columns] --> [s1, s2, ..., sn]\n",
    "            # len(Xd_) = n samples\n",
    "            # len(Xd_[0]) = n time\n",
    "            Xd_ = [array_to_dict(sensor, *[Xd_[j][i] for j in range(0, idx.shape[0])]) for i in range(0, nrows*ncols)]\n",
    "\n",
    "            # len(y_) = n samples\n",
    "            # len(y_[0]) = n time        \n",
    "            y_ = [np.array(y_data)[idx].tolist() for i in range(0, nrows*ncols)]\n",
    "\n",
    "            Xd += Xd_\n",
    "            yd += y_\n",
    "\n",
    "        # time series of len(idx) x n_rand x n_rand\n",
    "        #Xd = np.vstack(Xd)\n",
    "        #niter = Xd.shape[0]\n",
    "\n",
    "    #     Xd = [dlayer.transpose(1, 2, 0).reshape(nrows*ncols, nbands) for dlayer in Xd]\n",
    "    #     Xd = [array_to_dict(*[Xd[j][i] for j in range(0, niter)]) for i in range(0, nrows*ncols)]\n",
    "\n",
    "    #     yd = list(itertools.chain(*yd))\n",
    "    #     yd = [[y_ for y_ in yd] for i in range(0, nrows*ncols)]\n",
    "\n",
    "        X += Xd\n",
    "        y += yd"
   ]
  },
  {
   "cell_type": "code",
   "execution_count": 10,
   "metadata": {},
   "outputs": [
    {
     "name": "stdout",
     "output_type": "stream",
     "text": [
      "Number of random arrangements: 10\n",
      "Number of samples: 56\n",
      "Number of random arrangements x n samples: 11144\n",
      "11144\n",
      "11144\n"
     ]
    }
   ],
   "source": [
    "print('Number of random arrangements:', n_iter)\n",
    "print('Number of samples:', nrows*ncols)\n",
    "print('Number of random arrangements x n samples:', len(X))\n",
    "print(len(X))\n",
    "print(len(y))"
   ]
  },
  {
   "cell_type": "markdown",
   "metadata": {},
   "source": [
    "## Model"
   ]
  },
  {
   "cell_type": "code",
   "execution_count": 12,
   "metadata": {},
   "outputs": [],
   "source": [
    "# Gradient descent using the limited-memory BFGS method (with L1 and L2 regularization)\n",
    "model = CloudClassifier(algorithm='lbfgs', \n",
    "                        c1=0.001,\n",
    "                        c2=0.001,\n",
    "                        max_iterations=1000,\n",
    "                        num_memories=20,\n",
    "                        epsilon=0.01,\n",
    "                        delta=0.01,\n",
    "                        period=20,\n",
    "                        linesearch='MoreThuente',  # 'MoreThuente' 'Backtracking' 'StrongBacktracking'\n",
    "                        max_linesearch=20,\n",
    "                        all_possible_states=True,\n",
    "                        all_possible_transitions=True,\n",
    "                        verbose=False)"
   ]
  },
  {
   "cell_type": "code",
   "execution_count": 13,
   "metadata": {},
   "outputs": [
    {
     "name": "stdout",
     "output_type": "stream",
     "text": [
      "CPU times: user 10.9 s, sys: 51.4 ms, total: 11 s\n",
      "Wall time: 11 s\n"
     ]
    },
    {
     "data": {
      "text/plain": [
       "<geowombat.models.model.CloudClassifier at 0x2aac4be90b70>"
      ]
     },
     "execution_count": 13,
     "metadata": {},
     "output_type": "execute_result"
    }
   ],
   "source": [
    "%%time\n",
    "\n",
    "model.fit(X, y)"
   ]
  },
  {
   "cell_type": "code",
   "execution_count": null,
   "metadata": {},
   "outputs": [],
   "source": [
    "model.to_file('/scratch/rsc4/graesser/temp/clouds.model', overwrite=True)"
   ]
  },
  {
   "cell_type": "markdown",
   "metadata": {},
   "source": [
    "### Testing"
   ]
  },
  {
   "cell_type": "code",
   "execution_count": null,
   "metadata": {},
   "outputs": [],
   "source": [
    "X_data.shape"
   ]
  },
  {
   "cell_type": "code",
   "execution_count": null,
   "metadata": {},
   "outputs": [],
   "source": [
    "features = [tlayer.transpose(1, 2, 0).reshape(nrows*ncols, nbands) for tlayer in X_data]\n",
    "features = [array_to_dict(*[features[j][i] for j in range(0, ntime)]) for i in range(0, nrows*ncols)]"
   ]
  },
  {
   "cell_type": "code",
   "execution_count": null,
   "metadata": {},
   "outputs": [],
   "source": [
    "pred = pred_to_labels(model.predict_marginals(features))\n",
    "pred = pred.transpose(1, 2, 0).reshape(ntime, pred.shape[2], nrows, ncols)"
   ]
  },
  {
   "cell_type": "code",
   "execution_count": null,
   "metadata": {},
   "outputs": [],
   "source": [
    "pred.shape"
   ]
  },
  {
   "cell_type": "code",
   "execution_count": null,
   "metadata": {},
   "outputs": [],
   "source": [
    "time_index = 0\n",
    "classes = ['l', 'u', 'c', 's', 'h']\n",
    "\n",
    "print('True:', y_data[time_index])\n",
    "print('')\n",
    "\n",
    "max_proba = 0.0\n",
    "\n",
    "for j in range(0, len(classes)):\n",
    "    \n",
    "    class_proba_mean = pred[time_index][j].mean()\n",
    "    \n",
    "    print('Predicted {}:'.format(classes[j]), class_proba_mean)\n",
    "    \n",
    "    if class_proba_mean > max_proba:\n",
    "        max_proba = class_proba_mean\n",
    "        max_class = classes[j]\n",
    "        \n",
    "print('Max:', max_class, max_proba)"
   ]
  },
  {
   "cell_type": "markdown",
   "metadata": {},
   "source": [
    "## Predict on an image"
   ]
  },
  {
   "cell_type": "code",
   "execution_count": 14,
   "metadata": {},
   "outputs": [
    {
     "data": {
      "text/plain": [
       "PosixPath('/scratch/rsc8/hardtkel/rapidfires/LW')"
      ]
     },
     "execution_count": 14,
     "metadata": {},
     "output_type": "execute_result"
    }
   ],
   "source": [
    "rpath"
   ]
  },
  {
   "cell_type": "code",
   "execution_count": 15,
   "metadata": {},
   "outputs": [
    {
     "data": {
      "text/plain": [
       "PosixPath('/scratch/rsc8/hardtkel/rapidfires/LW/t55kcu')"
      ]
     },
     "execution_count": 15,
     "metadata": {},
     "output_type": "execute_result"
    }
   ],
   "source": [
    "# rpath_pred = rpath.joinpath('sa_sp/brdf')\n",
    "rpath_pred = rpath.joinpath('t55kcu')\n",
    "rpath_pred"
   ]
  },
  {
   "cell_type": "code",
   "execution_count": 16,
   "metadata": {},
   "outputs": [],
   "source": [
    "date_pos = 2\n",
    "wildcard = '*_abbm5.img'\n",
    "\n",
    "# date_pos = 3\n",
    "# wildcard = '*.tif'\n",
    "\n",
    "filenames = fnmatch.filter(os.listdir(rpath_pred.as_posix()), wildcard)\n",
    "\n",
    "filename_dict = dict()\n",
    "for fn in filenames:\n",
    "    filename_dict[fn.split('_')[date_pos]] = fn\n",
    "\n",
    "sorted_names = list(zip(*sorted(filename_dict.items())))\n",
    "filenames = [rpath_pred.joinpath(fn).as_posix() for fn in list(sorted_names[1])]\n",
    "time_names = [datetime.strptime(t, '%Y%m%d') for t in list(sorted_names[0])]"
   ]
  },
  {
   "cell_type": "code",
   "execution_count": 34,
   "metadata": {},
   "outputs": [],
   "source": [
    "sensor = 's2l7' # 'l7pan'\n",
    "s = 512\n",
    "t = 20\n",
    "y = 921703.24\n",
    "x = 92325.81\n",
    "\n",
    "with gw.open(filenames[0]) as ds:\n",
    "    celly = ds.gw.celly\n",
    "\n",
    "with gw.config.update(sensor=sensor,\n",
    "                      ref_crs=ref_crs,\n",
    "                      ref_bounds=(x, y-(celly*s), x+(celly*s), y)):\n",
    "    \n",
    "    with gw.open(filenames[:t], \n",
    "                 time_names=time_names[:t],\n",
    "                 chunks=512,\n",
    "                 num_threads=8) as ds:\n",
    "        \n",
    "        sat_bands = (ds.astype('float64') * 0.0001).clip(0, 1).data.compute(num_workers=8)\n",
    "        \n",
    "for band in range(0, sat_bands.shape[1]):\n",
    "\n",
    "    sat_bands[:, band, :, :] = satsmooth.spatial_temporal(np.ascontiguousarray(sat_bands[:, band, :, :], dtype='float32'),\n",
    "                                          k=3,\n",
    "                                          t=3,\n",
    "                                          sigma_time=0.0,\n",
    "                                          sigma_color=0.1,\n",
    "                                          sigma_space=0.1,\n",
    "                                          n_jobs=8)        "
   ]
  },
  {
   "cell_type": "code",
   "execution_count": 35,
   "metadata": {},
   "outputs": [],
   "source": [
    "model = CloudClassifier()\n",
    "model.from_file('/scratch/rsc4/graesser/temp/clouds.model')\n",
    "pred = model.predict_probas(sat_bands, 's2l7', scale_factor=1.0)"
   ]
  },
  {
   "cell_type": "code",
   "execution_count": null,
   "metadata": {},
   "outputs": [],
   "source": [
    "# def crf_probas_to_pred(probas, tidx):\n",
    "    \n",
    "#     classes = ['l', 'u', 'w', 'c', 's']\n",
    "    \n",
    "#     pred_int = np.where(pred[tidx][classes.index('c')] >= pthresh, classes.index('c'), pred[tidx].argmax(axis=0))\n",
    "    \n",
    "#     pred_int = np.where((pred_int == classes.index('l')) | (pred_int == classes.index('u')), 0, \n",
    "#                         np.where(pred_int == classes.index('w'), 1, \n",
    "#                                  np.where(pred_int == classes.index('s'), 2, 4)))\n",
    "    \n",
    "#     kernel_cross = np.array([[0, 1, 0], [1, 1, 1], [0, 1, 0]], dtype='uint8')\n",
    "#     kernel_square = np.array([[1, 1, 1], [1, 1, 1], [1, 1, 1]], dtype='uint8')\n",
    "#     pred_int = cv2.erode(np.uint8(pred_int), kernel_square, iterations=1)\n",
    "#     pred_int = cv2.dilate(np.uint8(pred_int), kernel_square, iterations=2)\n",
    "    \n",
    "#     return np.uint8(pred_int)"
   ]
  },
  {
   "cell_type": "code",
   "execution_count": null,
   "metadata": {},
   "outputs": [],
   "source": [
    "tidx = 3\n",
    "\n",
    "pred_int = crf_probas_to_pred(pred, tidx)\n",
    "\n",
    "profile = dict(driver='GTiff',\n",
    "               count=1,\n",
    "               dtype='uint8',\n",
    "               crs=crs,\n",
    "               transform=transform,\n",
    "               height=pred_int.shape[0],\n",
    "               width=pred_int.shape[1],\n",
    "               blockxsize=256,\n",
    "               blockysize=256,\n",
    "               tiled=True,\n",
    "               compress='lzw')\n",
    "\n",
    "with rio.open(rpath_pred.joinpath(filenames[tidx].replace('.tif', '_mask.tif')).as_posix(), mode='w', **profile) as dst:\n",
    "    dst.write(pred_int, indexes=1)"
   ]
  },
  {
   "cell_type": "code",
   "execution_count": null,
   "metadata": {},
   "outputs": [],
   "source": [
    "# ntime, nbands, nrows, ncols = test.shape"
   ]
  },
  {
   "cell_type": "code",
   "execution_count": null,
   "metadata": {},
   "outputs": [],
   "source": [
    "# features = np.ascontiguousarray([tlayer.transpose(1, 2, 0).reshape(nrows*ncols, nbands) for tlayer in test], dtype='float64')"
   ]
  },
  {
   "cell_type": "code",
   "execution_count": null,
   "metadata": {},
   "outputs": [],
   "source": [
    "# features = time_to_crffeas(features,\n",
    "#                            's2l7',\n",
    "#                            ntime,\n",
    "#                            nrows,\n",
    "#                            ncols)"
   ]
  },
  {
   "cell_type": "code",
   "execution_count": null,
   "metadata": {},
   "outputs": [],
   "source": [
    "# features = [tlayer.transpose(1, 2, 0).reshape(nrows*ncols, nbands) for tlayer in test]\n",
    "# features = [array_to_dict(*[features[j][i] for j in range(0, ntime)]) for i in range(0, nrows*ncols)]"
   ]
  },
  {
   "cell_type": "code",
   "execution_count": null,
   "metadata": {},
   "outputs": [],
   "source": [
    "# pred = pred_to_labels(model.predict_marginals(features))\n",
    "# pred = pred.transpose(1, 2, 0).reshape(ntime, pred.shape[2], nrows, ncols)"
   ]
  },
  {
   "cell_type": "code",
   "execution_count": 36,
   "metadata": {},
   "outputs": [
    {
     "data": {
      "text/plain": [
       "(20, 5, 65, 65)"
      ]
     },
     "execution_count": 36,
     "metadata": {},
     "output_type": "execute_result"
    }
   ],
   "source": [
    "pred.shape"
   ]
  },
  {
   "cell_type": "markdown",
   "metadata": {},
   "source": [
    "---"
   ]
  },
  {
   "cell_type": "code",
   "execution_count": 37,
   "metadata": {},
   "outputs": [
    {
     "data": {
      "image/png": "[encoded data removed]",
      "text/plain": [
       "<Figure size 720x1200 with 6 Axes>"
      ]
     },
     "metadata": {
      "needs_background": "light"
     },
     "output_type": "display_data"
    }
   ],
   "source": [
    "fig, axes = plt.subplots(3, 2, dpi=120, figsize=(6, 10))\n",
    "\n",
    "pthresh = 0.1\n",
    "\n",
    "tplot = 6\n",
    "# cplot = 4\n",
    "\n",
    "classes = ['l', 'u', 'w', 'c', 's']\n",
    "\n",
    "# Time n, mean over bands\n",
    "# rgb = np.squeeze(test[tplot].copy())\n",
    "# rgb = rescale_intensity(rgb, out_range=(np.percentile(rgb, 5), np.percentile(rgb, 95)))\n",
    "\n",
    "rgb = sat_bands[tplot][:3].copy()\n",
    "for i in range(0, 3):\n",
    "    rgb[i] = rescale_intensity(rgb[i], out_range=(np.percentile(rgb[i], 5), np.percentile(rgb[i], 95)))\n",
    "rgb = rgb.transpose(1, 2, 0)\n",
    "rgb = rgb[..., ::-1]\n",
    "\n",
    "rgb /= rgb.max()\n",
    "\n",
    "axes[0][0].imshow(rgb)\n",
    "axes[0][0].axis('off')\n",
    "\n",
    "# Time n, predicted probabilities for class k\n",
    "axes[0][1].imshow(pred[tplot][classes.index('l')], vmin=0, vmax=1, cmap='plasma')\n",
    "axes[0][1].set_title('P(Land)')\n",
    "axes[0][1].axis('off')\n",
    "\n",
    "axes[1][0].imshow(pred[tplot][classes.index('c')], vmin=0, vmax=1, cmap='plasma')\n",
    "axes[1][0].set_title('P(Cloud)')\n",
    "axes[1][0].axis('off')\n",
    "\n",
    "axes[1][1].imshow(pred[tplot][classes.index('s')], vmin=0, vmax=1, cmap='plasma')\n",
    "axes[1][1].set_title('P(Shadow)')\n",
    "axes[1][1].axis('off')\n",
    "\n",
    "axes[2][0].imshow(pred[tplot][classes.index('w')], vmin=0, vmax=1, cmap='plasma')\n",
    "axes[2][0].set_title('P(Water)')\n",
    "axes[2][0].axis('off')\n",
    "\n",
    "# pred_int = np.where(pred[tplot][classes.index('c')] >= pthresh, 1, \n",
    "#                     np.where(pred[tplot][classes.index('s')] >= pthresh, 2, 0))\n",
    "pred_int = pred[tplot].argmax(axis=0) + 1\n",
    "\n",
    "# pred_int = np.where((amax == classes.index('c')) & (pred[tplot][classes.index('c')] > pthresh), 1, \n",
    "#                     np.where((amax == classes.index('s')) & (pred[tplot][classes.index('s')] > pthresh), 2, 0))\n",
    "\n",
    "kernel_cross = np.array([[0, 1, 0], [1, 1, 1], [0, 1, 0]], dtype='uint8')\n",
    "kernel_square = np.array([[1, 1, 1], [1, 1, 1], [1, 1, 1]], dtype='uint8')\n",
    "# pred_int = cv2.morphologyEx(np.uint8(pred_int), cv2.MORPH_OPEN, kernel)\n",
    "# pred_int = cv2.dilate(np.uint8(pred_int), kernel, iterations=2)\n",
    "# pred_int = cv2.erode(np.uint8(pred_int), kernel_square, iterations=1)\n",
    "pred_int = cv2.dilate(np.uint8(pred_int), kernel_square, iterations=2)\n",
    "\n",
    "axes[2][1].imshow(pred_int, vmin=0, vmax=5, cmap='jet')\n",
    "axes[2][1].set_title('Prediction')\n",
    "axes[2][1].axis('off')\n",
    "\n",
    "plt.tight_layout()\n",
    "\n",
    "plt.show()"
   ]
  },
  {
   "cell_type": "markdown",
   "metadata": {},
   "source": [
    "## Download PlanetScope data"
   ]
  },
  {
   "cell_type": "code",
   "execution_count": null,
   "metadata": {},
   "outputs": [],
   "source": [
    "# download_data('/scratch/rsc4/graesser/temp/planet',\n",
    "#               '/export/home/graesserj/code/python/github/planet/tsplanet/geojson/qld.geojson',\n",
    "#               '2019-08-01', \n",
    "#               '2019-08-10',\n",
    "#               cloud_cover=0.8,\n",
    "#               api_key='des')"
   ]
  },
  {
   "cell_type": "markdown",
   "metadata": {},
   "source": [
    "## Extract samples from training AOIs"
   ]
  },
  {
   "cell_type": "code",
   "execution_count": null,
   "metadata": {},
   "outputs": [],
   "source": [
    "def setup_names(grid, filenames):\n",
    "    \n",
    "    rpath_dict = {'t55jel': '/scratch/rsc8/hardtkel/biocondition/biocondition/layers/sentinel/{}'.format(grid),\n",
    "                  't56jkt': '/scratch/rsc8/hardtkel/biocondition/biocondition/layers/sentinel/{}'.format(grid),\n",
    "                  't55kcu': '/scratch/rsc8/hardtkel/rapidfires/LW/{}'.format(grid),\n",
    "                  'l8': '/media/jcgr/data/imagery/google/p225r083/brdf'}\n",
    "    \n",
    "    NameInfo = namedtuple('NameInfo', 'rasters vector, time_names')\n",
    "    \n",
    "    #vector_dir = Path('/scratch/rsc4/graesser/temp/s2/training')\n",
    "    vector_dir = Path('/media/jcgr/data/imagery/google/training')\n",
    "    \n",
    "    image_dir = Path(rpath_dict[grid])\n",
    "    \n",
    "    filename_dict = dict()\n",
    "    for fn in filenames:\n",
    "        filename_dict[fn.split('_')[2]] = fn\n",
    "\n",
    "    sorted_names = list(zip(*sorted(filename_dict.items())))\n",
    "    \n",
    "    filenames = list(sorted_names[1])\n",
    "    \n",
    "    time_names = [datetime.strptime(t, '%Y%m%d') for t in list(sorted_names[0])]\n",
    "    \n",
    "    rasters = [image_dir.joinpath(fn).as_posix() for fn in filenames]\n",
    "    vector = vector_dir.joinpath('{}.shp'.format(grid)).as_posix()\n",
    "    \n",
    "    return NameInfo(rasters=rasters, vector=vector, time_names=time_names)"
   ]
  },
  {
   "cell_type": "code",
   "execution_count": null,
   "metadata": {},
   "outputs": [],
   "source": [
    "filenames = fnmatch.filter(os.listdir(image_dir.as_posix()), '*.tif')\n",
    "\n",
    "filename_dict = dict()\n",
    "for fn in filenames:\n",
    "    filename_dict[fn.split('_')[3]] = fn"
   ]
  },
  {
   "cell_type": "code",
   "execution_count": null,
   "metadata": {},
   "outputs": [],
   "source": [
    "sorted_names = list(zip(*sorted(filename_dict.items())))"
   ]
  },
  {
   "cell_type": "code",
   "execution_count": null,
   "metadata": {},
   "outputs": [],
   "source": [
    "filenames = list(sorted_names[1])"
   ]
  },
  {
   "cell_type": "code",
   "execution_count": null,
   "metadata": {},
   "outputs": [],
   "source": [
    "time_names = [datetime.strptime(t, '%Y%m%d') for t in list(sorted_names[0])]"
   ]
  },
  {
   "cell_type": "code",
   "execution_count": null,
   "metadata": {},
   "outputs": [],
   "source": [
    "rasters = [image_dir.joinpath(fn).as_posix() for fn in filenames]\n",
    "vector = vector_dir.joinpath('p225r83.shp').as_posix()"
   ]
  },
  {
   "cell_type": "markdown",
   "metadata": {},
   "source": [
    "### Plot the intersection"
   ]
  },
  {
   "cell_type": "code",
   "execution_count": null,
   "metadata": {},
   "outputs": [],
   "source": [
    "# with gw.config.update(ref_image=rasters[0], \n",
    "#                       ref_res=(10, 10), \n",
    "#                       sensor='planetscope'):\n",
    "    \n",
    "#     with gw.open(rasters,\n",
    "#                  time_names=time_names,\n",
    "#                  how='intersection',\n",
    "#                  chunks=512) as ds:\n",
    "        \n",
    "#         dss = ds.mean(dim='time')\n",
    "#         dss.attrs = ds.attrs\n",
    "#         print(ds)\n",
    "        \n",
    "#         #dss.gw.imshow(band_names=['red', 'green', 'blue'], nodata=0, robust=True)"
   ]
  },
  {
   "cell_type": "markdown",
   "metadata": {},
   "source": [
    "### Extract samples"
   ]
  },
  {
   "cell_type": "markdown",
   "metadata": {},
   "source": [
    "#### Split samples"
   ]
  },
  {
   "cell_type": "code",
   "execution_count": null,
   "metadata": {},
   "outputs": [],
   "source": [
    "df = gpd.read_file(vector)\n",
    "\n",
    "df['class_len'] = df['class'].str.len()\n",
    "df['int_class'] = df.apply(str_to_int, axis=1)\n",
    "out = df['int_class'].str.split(',', expand=True)\n",
    "\n",
    "df_list = list()\n",
    "\n",
    "for s in range(0, out.shape[1]):\n",
    "    df_ = df.copy()\n",
    "    df_['id'] = out.iloc[:, s]\n",
    "    df_list.append(df_)"
   ]
  },
  {
   "cell_type": "code",
   "execution_count": null,
   "metadata": {},
   "outputs": [],
   "source": [
    "df_list[1]"
   ]
  },
  {
   "cell_type": "code",
   "execution_count": null,
   "metadata": {},
   "outputs": [],
   "source": [
    "dfs = list()\n",
    "\n",
    "with gw.config.update(sensor='bgrn'):\n",
    "\n",
    "    with gw.open(rasters[0]) as ds:\n",
    "        transform = ds.transform\n",
    "\n",
    "    with gw.open(rasters, time_names=time_names) as ds:    \n",
    "\n",
    "        for ti, time in enumerate(ds.time.values):\n",
    "\n",
    "            dss = ds.sel(time=time)\n",
    "            dss.attrs = ds.attrs\n",
    "            dss.attrs['transform'] = transform\n",
    "\n",
    "            dfs.append(dss.gw.extract(df_list[ti]))"
   ]
  },
  {
   "cell_type": "code",
   "execution_count": null,
   "metadata": {},
   "outputs": [],
   "source": [
    "dfs[0].shape"
   ]
  },
  {
   "cell_type": "markdown",
   "metadata": {},
   "source": [
    "## Convert samples to CRF features"
   ]
  },
  {
   "cell_type": "code",
   "execution_count": null,
   "metadata": {},
   "outputs": [],
   "source": [
    "band_names = ['blue', 'green', 'red', 'nir']\n",
    "label_name = 'poly'"
   ]
  },
  {
   "cell_type": "code",
   "execution_count": null,
   "metadata": {},
   "outputs": [],
   "source": [
    "results = samples_to_features(dfs)"
   ]
  },
  {
   "cell_type": "markdown",
   "metadata": {},
   "source": [
    "### CRF X and y"
   ]
  },
  {
   "cell_type": "code",
   "execution_count": null,
   "metadata": {},
   "outputs": [],
   "source": [
    "X = np.array(list(zip(*results))[0]).T.tolist()\n",
    "print(len(X))"
   ]
  },
  {
   "cell_type": "code",
   "execution_count": null,
   "metadata": {},
   "outputs": [],
   "source": [
    "y = np.array(list(zip(*results))[1]).T.tolist()\n",
    "print(len(y))"
   ]
  },
  {
   "cell_type": "markdown",
   "metadata": {},
   "source": [
    "### Fit the CRF model"
   ]
  },
  {
   "cell_type": "code",
   "execution_count": null,
   "metadata": {},
   "outputs": [],
   "source": [
    "model = sklearn_crfsuite.CRF(algorithm='lbfgs', # Gradient descent using the limited-memory BFGS method (with L1 and L2 regularization)\n",
    "            c1=0.01,\n",
    "            c2=0.01,\n",
    "            max_iterations=2000,\n",
    "            num_memories=10,\n",
    "            period=10,\n",
    "            epsilon=1e-04,\n",
    "            delta=1e-04,\n",
    "            linesearch='StrongBacktracking',  # 'MoreThuente' 'Backtracking' 'StrongBacktracking'\n",
    "            max_linesearch=20,\n",
    "            all_possible_states=True,\n",
    "            all_possible_transitions=True,\n",
    "            verbose=False)"
   ]
  },
  {
   "cell_type": "code",
   "execution_count": null,
   "metadata": {},
   "outputs": [],
   "source": [
    "model.fit(X, y)"
   ]
  },
  {
   "cell_type": "code",
   "execution_count": null,
   "metadata": {},
   "outputs": [],
   "source": [
    "# model.predict_marginals(X)[0]"
   ]
  },
  {
   "cell_type": "code",
   "execution_count": null,
   "metadata": {},
   "outputs": [],
   "source": [
    "# samples x time x n classes\n",
    "# pred = np.array([[[ps['land'], ps['cloud']] for ps in p] for p in model.predict_marginals(X)], dtype='float64')"
   ]
  },
  {
   "cell_type": "code",
   "execution_count": null,
   "metadata": {},
   "outputs": [],
   "source": [
    "# pred.shape"
   ]
  },
  {
   "cell_type": "markdown",
   "metadata": {},
   "source": [
    "### Open the data to predict on "
   ]
  },
  {
   "cell_type": "code",
   "execution_count": null,
   "metadata": {},
   "outputs": [],
   "source": [
    "with gw.config.update(sensor='rgbn'):\n",
    "    \n",
    "    with gw.open(rasters[0]) as ds:\n",
    "        #print(ds.data.max().compute())\n",
    "        transform = ds.transform\n",
    "    \n",
    "    with gw.open(rasters, time_names=time_names) as ds:\n",
    "        \n",
    "        ds.attrs['transform'] = transform\n",
    "        \n",
    "        dss = ds[:, :, 3000:3512, 3000:3512].chunk((1, 256, 256)).fillna(0)\n",
    "        #dss = gw.subset(ds, left=315416.003, top=-3611632.029, rows=500, cols=500).chunk((1, 1, 64, 64))\n",
    "        #print(dss)\n",
    "        #print(dss.data.max().compute())\n",
    "        test = dss.astype('float64').data.compute()"
   ]
  },
  {
   "cell_type": "code",
   "execution_count": null,
   "metadata": {},
   "outputs": [],
   "source": [
    "test.shape"
   ]
  },
  {
   "cell_type": "code",
   "execution_count": null,
   "metadata": {},
   "outputs": [],
   "source": [
    "ntime, nbands, nrows, ncols = test.shape"
   ]
  },
  {
   "cell_type": "markdown",
   "metadata": {},
   "source": [
    "### Convert the array to CRF-compatible features"
   ]
  },
  {
   "cell_type": "code",
   "execution_count": null,
   "metadata": {},
   "outputs": [],
   "source": [
    "features = [tlayer.transpose(1, 2, 0).reshape(nrows*ncols, nbands) for tlayer in test]\n",
    "features = [array_to_dict(*[features[j][i] for j in range(0, ntime)]) for i in range(0, nrows*ncols)]"
   ]
  },
  {
   "cell_type": "code",
   "execution_count": null,
   "metadata": {},
   "outputs": [],
   "source": [
    "# features[0]"
   ]
  },
  {
   "cell_type": "markdown",
   "metadata": {},
   "source": [
    "### Predict on all time steps"
   ]
  },
  {
   "cell_type": "code",
   "execution_count": null,
   "metadata": {},
   "outputs": [],
   "source": [
    "pred = model.predict_marginals(features)"
   ]
  },
  {
   "cell_type": "code",
   "execution_count": null,
   "metadata": {},
   "outputs": [],
   "source": [
    "def pred_to_labels(model_pred):\n",
    "    \n",
    "    # samples x time x n classes\n",
    "    return np.array([[[ps['n'], ps['l'], ps['w'], ps['c'], ps['s'], ps['h']] for ps in p] for p in model_pred], dtype='float64')"
   ]
  },
  {
   "cell_type": "code",
   "execution_count": null,
   "metadata": {},
   "outputs": [],
   "source": [
    "# samples x time x n classes\n",
    "# pred = np.array([[[ps['n'], ps['l'], ps['w'], ps['c'], ps['s'], ps['h']] for ps in p] \n",
    "#                  for p in model.predict_marginals(features)], dtype='float64')"
   ]
  },
  {
   "cell_type": "code",
   "execution_count": null,
   "metadata": {},
   "outputs": [],
   "source": [
    "pred = pred_to_labels(pred)"
   ]
  },
  {
   "cell_type": "code",
   "execution_count": null,
   "metadata": {},
   "outputs": [],
   "source": [
    "pred.shape"
   ]
  },
  {
   "cell_type": "code",
   "execution_count": null,
   "metadata": {},
   "outputs": [],
   "source": [
    "pred = pred.transpose(1, 2, 0).reshape(ntime, pred.shape[2], nrows, ncols)"
   ]
  },
  {
   "cell_type": "code",
   "execution_count": null,
   "metadata": {},
   "outputs": [],
   "source": [
    "pred.shape"
   ]
  },
  {
   "cell_type": "markdown",
   "metadata": {},
   "source": [
    "## Plot cloud probabilities"
   ]
  },
  {
   "cell_type": "code",
   "execution_count": null,
   "metadata": {},
   "outputs": [],
   "source": [
    "%matplotlib inline\n",
    "\n",
    "fig, axes = plt.subplots(pred.shape[0], 2, dpi=400, figsize=(2, 12))\n",
    "\n",
    "bidx = 0 # band index\n",
    "cidx = 3 # class index\n",
    "\n",
    "for pi in range(0, pred.shape[0]):\n",
    "\n",
    "    ip = test[pi, bidx, :, :]\n",
    "    ip[ip == 0] = np.nan\n",
    "    \n",
    "    axes[pi][0].imshow(ip, vmin=np.nanpercentile(ip, 10), vmax=np.nanpercentile(ip, 90), cmap='plasma')\n",
    "    #axes[pi][1].imshow(pred[pi, cidx, :, :], vmin=0, vmax=1, cmap='plasma')\n",
    "    axes[pi][1].imshow(pred[pi, :, :, :].argmax(axis=0), vmin=0, vmax=5)\n",
    "    \n",
    "#     axes[pi][0].set_xlabel('Time {:d}'.format(pi+1))\n",
    "    \n",
    "    axes[pi][0].axis('off')\n",
    "    axes[pi][1].axis('off')\n",
    "\n",
    "plt.show()"
   ]
  },
  {
   "cell_type": "markdown",
   "metadata": {},
   "source": [
    "### Shape testing"
   ]
  },
  {
   "cell_type": "code",
   "execution_count": null,
   "metadata": {},
   "outputs": [],
   "source": [
    "# a = np.arange(8*3*2).reshape(8,3,2)"
   ]
  },
  {
   "cell_type": "code",
   "execution_count": null,
   "metadata": {},
   "outputs": [],
   "source": [
    "# time 1\n",
    "# a[:, 0, :]"
   ]
  },
  {
   "cell_type": "code",
   "execution_count": null,
   "metadata": {},
   "outputs": [],
   "source": [
    "# time 2\n",
    "# a[:, 1, :]"
   ]
  },
  {
   "cell_type": "code",
   "execution_count": null,
   "metadata": {},
   "outputs": [],
   "source": [
    "# a.transpose(1, 2, 0).reshape(3, 2, 2, 4)[1]"
   ]
  },
  {
   "cell_type": "code",
   "execution_count": null,
   "metadata": {},
   "outputs": [],
   "source": []
  }
 ],
 "metadata": {
  "kernelspec": {
   "display_name": "Python 3",
   "language": "python",
   "name": "python3"
  },
  "language_info": {
   "codemirror_mode": {
    "name": "ipython",
    "version": 3
   },
   "file_extension": ".py",
   "mimetype": "text/x-python",
   "name": "python",
   "nbconvert_exporter": "python",
   "pygments_lexer": "ipython3",
   "version": "3.6.5"
  }
 },
 "nbformat": 4,
 "nbformat_minor": 4
}
