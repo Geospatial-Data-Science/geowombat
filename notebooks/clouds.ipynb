{
 "cells": [
  {
   "cell_type": "code",
   "execution_count": 1,
   "metadata": {},
   "outputs": [],
   "source": [
    "%load_ext watermark"
   ]
  },
  {
   "cell_type": "code",
   "execution_count": 2,
   "metadata": {},
   "outputs": [
    {
     "data": {
      "text/html": [
       "<style type='text/css'>\n",
       ".datatable table.frame { margin-bottom: 0; }\n",
       ".datatable table.frame thead { border-bottom: none; }\n",
       ".datatable table.frame tr.coltypes td {  color: #FFFFFF;  line-height: 6px;  padding: 0 0.5em;}\n",
       ".datatable .boolean { background: #DDDD99; }\n",
       ".datatable .object  { background: #565656; }\n",
       ".datatable .integer { background: #5D9E5D; }\n",
       ".datatable .float   { background: #4040CC; }\n",
       ".datatable .string  { background: #CC4040; }\n",
       ".datatable .row_index {  background: var(--jp-border-color3);  border-right: 1px solid var(--jp-border-color0);  color: var(--jp-ui-font-color3);  font-size: 9px;}\n",
       ".datatable .frame tr.coltypes .row_index {  background: var(--jp-border-color0);}\n",
       ".datatable th:nth-child(2) { padding-left: 12px; }\n",
       ".datatable .hellipsis {  color: var(--jp-cell-editor-border-color);}\n",
       ".datatable .vellipsis {  background: var(--jp-layout-color0);  color: var(--jp-cell-editor-border-color);}\n",
       ".datatable .na {  color: var(--jp-cell-editor-border-color);  font-size: 80%;}\n",
       ".datatable .footer { font-size: 9px; }\n",
       ".datatable .frame_dimensions {  background: var(--jp-border-color3);  border-top: 1px solid var(--jp-border-color0);  color: var(--jp-ui-font-color3);  display: inline-block;  opacity: 0.6;  padding: 1px 10px 1px 5px;}\n",
       ".datatable .frame thead tr.colnames {  background-image: url('data:image/png;base64,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');  background-repeat: repeat-x;  background-size: 14px;  height: 28px;}\n",
       "</style>\n"
      ],
      "text/plain": [
       "<IPython.core.display.HTML object>"
      ]
     },
     "metadata": {},
     "output_type": "display_data"
    },
    {
     "name": "stderr",
     "output_type": "stream",
     "text": [
      "Using TensorFlow backend.\n"
     ]
    }
   ],
   "source": [
    "import os\n",
    "import fnmatch\n",
    "import itertools\n",
    "from datetime import datetime\n",
    "from pathlib import Path\n",
    "\n",
    "import geowombat as gw\n",
    "from geowombat.models import CRFClassifier\n",
    "\n",
    "import satsmooth as sm\n",
    "\n",
    "from mpglue.classification._moving_window import moving_window\n",
    "\n",
    "import geopandas as gpd\n",
    "import numpy as np\n",
    "import cv2\n",
    "import rasterio as rio\n",
    "from rasterio.coords import BoundingBox\n",
    "import numba as nb\n",
    "from skimage.exposure import rescale_intensity\n",
    "from sklearn.preprocessing import LabelEncoder\n",
    "from affine import Affine\n",
    "from tqdm import tqdm, trange\n",
    "import pymorph\n",
    "\n",
    "import matplotlib.pyplot as plt"
   ]
  },
  {
   "cell_type": "code",
   "execution_count": 3,
   "metadata": {},
   "outputs": [
    {
     "name": "stdout",
     "output_type": "stream",
     "text": [
      "Clouds 2019-12-23 \n",
      "\n",
      "CPython 3.6.8\n",
      "IPython 7.10.2\n",
      "\n",
      "geowombat 1.1.0b0\n",
      "satsmooth 0.8.18b0\n",
      "geopandas 0.6.2\n",
      "numpy 1.17.4\n",
      "cv2 4.1.2\n",
      "rasterio 1.1.2\n",
      "numba 0.46.0\n",
      "\n",
      "compiler   : GCC 8.3.0\n",
      "system     : Linux\n",
      "release    : 4.15.0-72-generic\n",
      "machine    : x86_64\n",
      "processor  : x86_64\n",
      "CPU cores  : 8\n",
      "interpreter: 64bit\n",
      "Git hash   : fbbc29b39ad11efe44385d290a93cccc196db4ce\n"
     ]
    }
   ],
   "source": [
    "%watermark -a \"Clouds\" -d -v -m -p geowombat,satsmooth,geopandas,numpy,cv2,rasterio,numba -g"
   ]
  },
  {
   "cell_type": "markdown",
   "metadata": {},
   "source": [
    "## Functions"
   ]
  },
  {
   "cell_type": "code",
   "execution_count": 4,
   "metadata": {},
   "outputs": [],
   "source": [
    "@nb.jit\n",
    "def sample_to_dict(tsp, *args):\n",
    "    \n",
    "    \"\"\"\n",
    "    Args:\n",
    "        tsp (1d)\n",
    "    \"\"\"\n",
    "\n",
    "    nt = len(tsp)\n",
    "    \n",
    "    if args:\n",
    "\n",
    "        n_args = len(args)\n",
    "\n",
    "        tlab = np.empty(nt+n_args, dtype=object)\n",
    "        tval = np.zeros(nt+n_args, dtype='float64')\n",
    "\n",
    "    else:\n",
    "\n",
    "        tlab = np.empty(nt, dtype=object)\n",
    "        tval = np.zeros(nt, dtype='float64')    \n",
    "    \n",
    "    for r in range(0, nt):\n",
    "        \n",
    "        tlab[r] = str(r+1).encode('utf-8')    \n",
    "        tval[r] = tsp[r]\n",
    "    \n",
    "    if args:\n",
    "\n",
    "        for i, (arg_name, arg_value) in enumerate(args):\n",
    "\n",
    "            tlab[r+i+1] = arg_name.encode('utf-8')\n",
    "            tval[r+i+1] = arg_value    \n",
    "    \n",
    "    return dict(zip(tlab.tolist(), tval))\n",
    "\n",
    "\n",
    "def _nan_check(value):\n",
    "    return 0.0 if np.isnan(value) else value\n",
    "\n",
    "\n",
    "def _min(a, b):\n",
    "    return a if a < b else b\n",
    "\n",
    "\n",
    "def _max(a, b):\n",
    "    return a if a > b else b\n",
    "\n",
    "\n",
    "def _clip_low(value):\n",
    "    return 0.0 if value < 0 else value\n",
    "\n",
    "\n",
    "def _clip_high(value):\n",
    "    return 1.0 if value > 1 else value\n",
    "\n",
    "\n",
    "def _clip(value):\n",
    "    return _clip_low(value) if value < 1 else _clip_high(value)\n",
    "\n",
    "\n",
    "def _evi(blue, red, nir):\n",
    "    \"\"\"Enhanced Vegetation Index\"\"\"\n",
    "    return 2.5 * ((nir - red) / (nir + 6.0 * red - 7.5 * blue + 1.0))\n",
    "\n",
    "\n",
    "def _evi2(red, nir):\n",
    "    \"\"\"Two-band Enhanced Vegetation Index\"\"\"\n",
    "    return 2.5 * ((nir - red) / (nir + 1.0 + (2.4 * red)))\n",
    "\n",
    "\n",
    "def _bsi(blue, red, nir, swir2):\n",
    "    \"\"\"Bare Soil Index\"\"\"\n",
    "    return ((swir2 + red) - (nir - blue)) / ((swir2 + red) + (nir - blue))\n",
    "\n",
    "\n",
    "def _brightness(green, red, nir):\n",
    "    \"\"\"Brightness Index\"\"\"\n",
    "    return (green**2 + red**2 + nir**2)**0.5\n",
    "\n",
    "\n",
    "def _brightness_swir(green, red, nir, swir1):\n",
    "    \"\"\"Brightness Index\"\"\"\n",
    "    return (green**2 + red**2 + nir**2 + swir1**2)**0.5\n",
    "\n",
    "\n",
    "def _dbsi(green, red, nir, swir1):\n",
    "    \"\"\"Dry Bare Soil Index\"\"\"\n",
    "    return ((swir1 - green) / (swir1 + green)) - _ndvi(red, nir)\n",
    "\n",
    "\n",
    "def _nbr(nir, swir2):\n",
    "    \"\"\"Normalized Burn Ratio\"\"\"\n",
    "    return (nir - swir2) / (nir + swir2)\n",
    "\n",
    "\n",
    "def _ndmi(nir, swir1):\n",
    "    \"\"\"Normalized Difference Moisture Index\"\"\"\n",
    "    return (nir - swir1) / (nir + swir1)\n",
    "\n",
    "\n",
    "def _ndvi(red, nir):\n",
    "    \"\"\"Normalized Difference Vegetation Index\"\"\"\n",
    "    return (nir - red) / (nir + red)\n",
    "\n",
    "\n",
    "def _wi(red, swir1):\n",
    "    \"\"\"Woody Index\"\"\"\n",
    "    return 0.0 if red + swir1 > 0.5 else 1.0 - ((red + swir1) / 0.5)\n",
    "\n",
    "    \n",
    "SENSOR_BANDS = dict(l7=dict(blue=0,\n",
    "                            green=1,\n",
    "                            red=2,\n",
    "                            nir=3,\n",
    "                            swir1=4,\n",
    "                            swir2=5),\n",
    "                    l8=dict(blue=0,\n",
    "                            green=1,\n",
    "                            red=2,\n",
    "                            nir=3,\n",
    "                            swir1=4,\n",
    "                            swir2=5),\n",
    "                    l5bgrn=dict(blue=0,\n",
    "                                green=1,\n",
    "                                red=2,\n",
    "                                nir=3),\n",
    "                    l7bgrn=dict(blue=0,\n",
    "                                green=1,\n",
    "                                red=2,\n",
    "                                nir=3),\n",
    "                    l8bgrn=dict(blue=0,\n",
    "                                green=1,\n",
    "                                red=2,\n",
    "                                nir=3),\n",
    "                    bgrn=dict(blue=0,\n",
    "                              green=1,\n",
    "                              red=2,\n",
    "                              nir=3),\n",
    "                    qb=dict(blue=0,\n",
    "                            green=1,\n",
    "                            red=2,\n",
    "                            nir=3),\n",
    "                    ps=dict(blue=0,\n",
    "                            green=1,\n",
    "                            red=2,\n",
    "                            nir=3),\n",
    "                    s210=dict(blue=0,\n",
    "                              green=1,\n",
    "                              red=2,\n",
    "                              nir=3),\n",
    "                    s220=dict(nir1=0,\n",
    "                              nir2=1,\n",
    "                              nir3=2,\n",
    "                              rededge=3,\n",
    "                              swir1=4,\n",
    "                              swir2=5),\n",
    "                    s2l7=dict(blue=0,\n",
    "                              green=1,\n",
    "                              red=2,\n",
    "                              nir=3,\n",
    "                              swir1=4,\n",
    "                              swir2=5))    \n",
    "\n",
    "# @nb.jit\n",
    "def array_to_dict(sensor, *args):\n",
    "    \n",
    "    \"\"\"\n",
    "    Converts an array sample to a CRF features\n",
    "    \"\"\"\n",
    "    \n",
    "    nargs = len(args)\n",
    "    feas = list()\n",
    "    \n",
    "    if sensor != 'pan':\n",
    "        \n",
    "        if sensor in ['s210', 'l5bgrn', 'l7bgrn', 'l8bgrn', 'bgrn', 'qb', 'ps']:\n",
    "\n",
    "            blue_idx = SENSOR_BANDS[sensor]['blue']\n",
    "            green_idx = SENSOR_BANDS[sensor]['green']\n",
    "            red_idx = SENSOR_BANDS[sensor]['red']\n",
    "            nir_idx = SENSOR_BANDS[sensor]['nir']\n",
    "            \n",
    "        elif sensor == 's220':\n",
    "\n",
    "            nir1_idx = SENSOR_BANDS[sensor]['nir1']\n",
    "            nir2_idx = SENSOR_BANDS[sensor]['nir2']\n",
    "            nir3_idx = SENSOR_BANDS[sensor]['nir3']\n",
    "            rededge_idx = SENSOR_BANDS[sensor]['rededge']\n",
    "            swir1_idx = SENSOR_BANDS[sensor]['swir1']\n",
    "            swir2_idx = SENSOR_BANDS[sensor]['swir2']\n",
    "            \n",
    "        else:\n",
    "\n",
    "            blue_idx = SENSOR_BANDS[sensor]['blue']\n",
    "            green_idx = SENSOR_BANDS[sensor]['green']\n",
    "            red_idx = SENSOR_BANDS[sensor]['red']\n",
    "            nir_idx = SENSOR_BANDS[sensor]['nir']\n",
    "            swir1_idx = SENSOR_BANDS[sensor]['swir1']\n",
    "            swir2_idx = SENSOR_BANDS[sensor]['swir2']\n",
    "\n",
    "    for si in range(0, nargs):\n",
    "        \n",
    "        tsamp = args[si]*0.0001\n",
    "\n",
    "        if sensor == 'pan':            \n",
    "            feas.append(sample_to_dict(tsamp))            \n",
    "        else:\n",
    "            \n",
    "            if sensor in ['s210', 'l5bgrn', 'l7bgrn', 'l8bgrn', 'bgrn', 'qb', 'ps']:\n",
    "            \n",
    "                brightness = _brightness(tsamp[green_idx], tsamp[red_idx], tsamp[nir_idx])\n",
    "                evi = _evi(tsamp[blue_idx], tsamp[red_idx], tsamp[nir_idx])                \n",
    "                evi2 = _evi2(tsamp[red_idx], tsamp[nir_idx])\n",
    "                gndvi = _ndvi(tsamp[green_idx], tsamp[nir_idx])\n",
    "                ndvi = _ndvi(tsamp[red_idx], tsamp[nir_idx])\n",
    "                \n",
    "                indices = [('brightness', _nan_check(brightness)),\n",
    "                           ('evi', _nan_check(evi)),\n",
    "                           ('evi2', _nan_check(evi2)),\n",
    "                           ('gndvi', _nan_check(gndvi)),\n",
    "                           ('ndvi', _nan_check(ndvi))]\n",
    "                \n",
    "            elif sensor == 's220':\n",
    "                \n",
    "                brightness = _brightness(tsamp[nir1_idx], tsamp[rededge_idx], tsamp[swir1_idx])                \n",
    "                nbr = _nbr(tsamp[rededge_idx], tsamp[swir2_idx])\n",
    "                ndvi = _ndvi(tsamp[nir1_idx], tsamp[rededge_idx])                        \n",
    "                wi = _wi(tsamp[nir1_idx], tsamp[swir1_idx])            \n",
    "                \n",
    "                indices = [('bri', _nan_check(brightness)),\n",
    "                           ('nbr', _nan_check(nbr)),\n",
    "                           ('ndvi', _nan_check(ndvi)),\n",
    "                           ('wi', _nan_check(wi))]\n",
    "                \n",
    "            else:\n",
    "\n",
    "                brightness = _brightness_swir(tsamp[green_idx], tsamp[red_idx], tsamp[nir_idx], tsamp[swir1_idx])\n",
    "                #dbsi = _dbsi(tsamp[green_idx], tsamp[red_idx], tsamp[nir_idx], tsamp[swir1_idx])\n",
    "                evi = _evi(tsamp[blue_idx], tsamp[red_idx], tsamp[nir_idx])\n",
    "                evi2 = _evi2(tsamp[red_idx], tsamp[nir_idx])\n",
    "                gndvi = _ndvi(tsamp[green_idx], tsamp[nir_idx])\n",
    "                nbr = _nbr(tsamp[nir_idx], tsamp[swir2_idx])\n",
    "                ndmi = _ndmi(tsamp[nir_idx], tsamp[swir1_idx])\n",
    "                ndvi = _ndvi(tsamp[red_idx], tsamp[nir_idx])                        \n",
    "                wi = _wi(tsamp[red_idx], tsamp[swir1_idx])            \n",
    "                \n",
    "#                 indices = [('bri', _nan_check(brightness)),\n",
    "#                            ('evi', _clip(_nan_check(evi))),\n",
    "#                            ('evi2', _clip(_nan_check(evi2))),\n",
    "#                            ('wi', _clip(_nan_check(wi)))]\n",
    "                \n",
    "                indices = [('bri', _nan_check(brightness)),\n",
    "                           ('evi', _clip(_nan_check(evi))),\n",
    "                           ('evi2', _clip(_nan_check(evi2))),\n",
    "                           ('gndvi', _nan_check(gndvi)),\n",
    "                           ('nbr', _nan_check(nbr)),\n",
    "                           ('ndmi', _nan_check(ndmi)),\n",
    "                           ('ndvi', _nan_check(ndvi)),\n",
    "                           ('wi', _clip(_nan_check(wi)))]\n",
    "\n",
    "            feas.append(sample_to_dict(tsamp, *indices))\n",
    "\n",
    "    return feas"
   ]
  },
  {
   "cell_type": "markdown",
   "metadata": {},
   "source": [
    "## Extract data"
   ]
  },
  {
   "cell_type": "code",
   "execution_count": 5,
   "metadata": {},
   "outputs": [
    {
     "name": "stdout",
     "output_type": "stream",
     "text": [
      "     id label                                              image  \\\n",
      "0  None     c  na/ca/brdf/L1C_T10SFH_A007146_20180719T185932_...   \n",
      "1  None     c  na/ca/brdf/L1C_T10SFH_A007146_20180719T185932_...   \n",
      "2  None     c  na/ca/brdf/L1C_T10SFH_A007146_20180719T185932_...   \n",
      "\n",
      "                                            geometry  \n",
      "0  POLYGON ((-2055860.752 52462.792, -2055860.752...  \n",
      "1  POLYGON ((-2058787.329 51671.032, -2058787.329...  \n",
      "2  POLYGON ((-2056253.821 55985.850, -2056253.821...  \n",
      "(179, 4)\n"
     ]
    }
   ],
   "source": [
    "region = 'na'\n",
    "\n",
    "ref_res = (20, 20)\n",
    "\n",
    "# North America\n",
    "naaeac_proj = \"+proj=aea +lat_1=20 +lat_2=60 +lat_0=40 +lon_0=-96 +x_0=0 +y_0=0 +datum=NAD83 +units=m +no_defs\"\n",
    "\n",
    "# South America\n",
    "saaeac_proj = \"+proj=aea +lat_1=-5 +lat_2=-42 +lat_0=-32 +lon_0=-60 +x_0=0 +y_0=0 +ellps=aust_SA +units=m +no_defs\"\n",
    "\n",
    "# Queensland\n",
    "aus_proj = \"+proj=aea +lat_1=-12 +lat_2=-28 +lat_0=-28 +lon_0=145 +x_0=0 +y_0=0 +ellps=GRS80 +towgs84=0,0,0,0,0,0,0 +units=m +no_defs\"\n",
    "\n",
    "proj_dict = dict(na=naaeac_proj,\n",
    "                 sa=saaeac_proj,\n",
    "                 aus=aus_proj)\n",
    "\n",
    "ref_crs = proj_dict[region]\n",
    "\n",
    "if region == 'aus':\n",
    "\n",
    "    # Sentinel 2\n",
    "    rpath = Path('/scratch/rsc4/graesser/temp/s2/grids')\n",
    "    vpath = Path('/scratch/rsc4/graesser/temp/s2/training/s2_training.shp')\n",
    "\n",
    "else:\n",
    "\n",
    "    # RGBN cubes\n",
    "    rpath = Path('/media/jcgr/data/projects/global_fields/data/grids')\n",
    "    vpath = Path('/media/jcgr/data/projects/global_fields/data/training/clouds/{}.shp'.format(region))\n",
    "\n",
    "df = gpd.read_file(vpath.as_posix())\n",
    "\n",
    "print(df.head(3))\n",
    "print(df.shape)"
   ]
  },
  {
   "cell_type": "code",
   "execution_count": 6,
   "metadata": {},
   "outputs": [
    {
     "name": "stderr",
     "output_type": "stream",
     "text": [
      "100%|██████████| 179/179 [00:22<00:00,  7.79it/s]\n"
     ]
    }
   ],
   "source": [
    "# image_ext = '.img'\n",
    "# replace_a = ''  # 'sa/'\n",
    "# replace_b = ''  # 'sa_sp/'\n",
    "\n",
    "image_ext = ''\n",
    "replace_a = '{}/'.format(region)\n",
    "replace_b = '{}_sp/'.format(region)\n",
    "\n",
    "minrow = 1e9\n",
    "mincol = 1e9\n",
    "\n",
    "X_data = list()\n",
    "y_data = list()\n",
    "\n",
    "#df = df.replace(to_replace='u', value='l')\n",
    "\n",
    "# le = LabelEncoder()\n",
    "# le.fit(df.label.values)\n",
    "# df['label_value'] = le.transform(df.label.values)\n",
    "\n",
    "with gw.config.update(ref_crs=ref_crs):\n",
    "\n",
    "    for row in tqdm(df.itertuples(index=True, name='Pandas'), total=df.shape[0]):\n",
    "\n",
    "        rimage = rpath.joinpath(row.image.replace(replace_a, replace_b) + image_ext)\n",
    "        \n",
    "        if rimage.is_file():\n",
    "\n",
    "            with gw.open(rimage.as_posix(), chunks=512) as ds:\n",
    "\n",
    "                clip = gw.clip(ds, \n",
    "                               df, \n",
    "                               query=\"index == {:d}\".format(row.Index), \n",
    "                               mask_data=False)\n",
    "\n",
    "                subset = clip.clip(0, 10000).data.compute()\n",
    "                minrow = min(subset.shape[1], minrow)\n",
    "                mincol = min(subset.shape[2], mincol)\n",
    "                X_data.append(subset)\n",
    "                y_data.append(row.label)\n",
    "    \n",
    "X_data = np.array([d[:, :minrow, :mincol] for d in X_data], dtype='float64')"
   ]
  },
  {
   "cell_type": "code",
   "execution_count": 7,
   "metadata": {},
   "outputs": [
    {
     "data": {
      "text/plain": [
       "(179, 6, 7, 9)"
      ]
     },
     "execution_count": 7,
     "metadata": {},
     "output_type": "execute_result"
    }
   ],
   "source": [
    "X_data.shape"
   ]
  },
  {
   "cell_type": "code",
   "execution_count": 8,
   "metadata": {},
   "outputs": [],
   "source": [
    "# X_data[0]"
   ]
  },
  {
   "cell_type": "markdown",
   "metadata": {},
   "source": [
    "### Augment the data"
   ]
  },
  {
   "cell_type": "code",
   "execution_count": 9,
   "metadata": {},
   "outputs": [
    {
     "name": "stderr",
     "output_type": "stream",
     "text": [
      "100%|██████████| 50/50 [05:21<00:00,  6.44s/it]\n"
     ]
    }
   ],
   "source": [
    "n_iter = 50\n",
    "sensor = 'l7'\n",
    "\n",
    "max_rand_length = 10\n",
    "\n",
    "ntime, nbands, nrows, ncols = X_data.shape\n",
    "features = list()\n",
    "\n",
    "X = list()\n",
    "y = list()\n",
    "\n",
    "for iter_ in trange(0, n_iter):\n",
    "\n",
    "    for a in [['l', 'u'], ['u', 'w'], ['l', 'w']]:\n",
    "\n",
    "        Xd = list()\n",
    "        yd = list()\n",
    "\n",
    "        idx_null = np.array([ij for ij, cl in enumerate(y_data) if cl not in a], dtype='int64')\n",
    "\n",
    "        ntime_null = idx_null.shape[0]\n",
    "\n",
    "        low = np.random.randint(0, high=int(ntime_null/2))\n",
    "        high = np.random.randint(low+2, high=ntime_null)\n",
    "        idx_random = np.array([i + 1 for i in range(low, high)], dtype='int64')\n",
    "\n",
    "        n_rand = min(len(idx_random), max_rand_length)\n",
    "\n",
    "        for i in range(0, n_rand):\n",
    "\n",
    "            # Get a random subset of temporal indices\n",
    "            idx = idx_null[np.random.choice(idx_random, size=n_rand, replace=False)]\n",
    "\n",
    "            # Transpose each temporal state --> samples x features\n",
    "            Xd_ = [dlayer.transpose(1, 2, 0).reshape(nrows*ncols, nbands) for dlayer in X_data[idx]]\n",
    "\n",
    "            # Flatten the data from [time x features x rows x columns] --> [s1, s2, ..., sn]\n",
    "            # len(Xd_) = n samples\n",
    "            # len(Xd_[0]) = n time\n",
    "            Xd_ = [array_to_dict(sensor, *[Xd_[j][i] for j in range(0, idx.shape[0])]) for i in range(0, nrows*ncols)]\n",
    "\n",
    "            # len(y_) = n samples\n",
    "            # len(y_[0]) = n time        \n",
    "            y_ = [np.array(y_data)[idx].tolist() for i in range(0, nrows*ncols)]\n",
    "\n",
    "            Xd += Xd_\n",
    "            yd += y_\n",
    "\n",
    "        # time series of len(idx) x n_rand x n_rand\n",
    "        #Xd = np.vstack(Xd)\n",
    "        #niter = Xd.shape[0]\n",
    "\n",
    "    #     Xd = [dlayer.transpose(1, 2, 0).reshape(nrows*ncols, nbands) for dlayer in Xd]\n",
    "    #     Xd = [array_to_dict(*[Xd[j][i] for j in range(0, niter)]) for i in range(0, nrows*ncols)]\n",
    "\n",
    "    #     yd = list(itertools.chain(*yd))\n",
    "    #     yd = [[y_ for y_ in yd] for i in range(0, nrows*ncols)]\n",
    "\n",
    "        X += Xd\n",
    "        y += yd"
   ]
  },
  {
   "cell_type": "code",
   "execution_count": 10,
   "metadata": {},
   "outputs": [
    {
     "name": "stdout",
     "output_type": "stream",
     "text": [
      "Number of random arrangements: 50\n",
      "Number of samples: 63\n",
      "Number of random arrangements x n samples: 90657\n",
      "90657\n",
      "90657\n"
     ]
    }
   ],
   "source": [
    "print('Number of random arrangements:', n_iter)\n",
    "print('Number of samples:', nrows*ncols)\n",
    "print('Number of random arrangements x n samples:', len(X))\n",
    "print(len(X))\n",
    "print(len(y))"
   ]
  },
  {
   "cell_type": "code",
   "execution_count": 11,
   "metadata": {},
   "outputs": [
    {
     "data": {
      "text/plain": [
       "{b'1': 0.056400000000000006,\n",
       " b'2': 0.0587,\n",
       " b'3': 0.0708,\n",
       " b'4': 0.1046,\n",
       " b'5': 0.13090000000000002,\n",
       " b'6': 0.1149,\n",
       " b'bri': 0.19113947786891122,\n",
       " b'evi': 0.07637382501807664,\n",
       " b'evi2': 0.06629946960424316,\n",
       " b'gndvi': 0.2810777709736681,\n",
       " b'nbr': -0.04692482915717541,\n",
       " b'ndmi': -0.11167728237791939,\n",
       " b'ndvi': 0.19270239452679588,\n",
       " b'wi': 0.5966}"
      ]
     },
     "execution_count": 11,
     "metadata": {},
     "output_type": "execute_result"
    }
   ],
   "source": [
    "X[0][0]"
   ]
  },
  {
   "cell_type": "code",
   "execution_count": 12,
   "metadata": {},
   "outputs": [
    {
     "data": {
      "text/plain": [
       "['h', 'c', 'w', 'c', 'c', 'c', 'c', 'c', 'w', 'c']"
      ]
     },
     "execution_count": 12,
     "metadata": {},
     "output_type": "execute_result"
    }
   ],
   "source": [
    "y[0]"
   ]
  },
  {
   "cell_type": "markdown",
   "metadata": {},
   "source": [
    "# Model"
   ]
  },
  {
   "cell_type": "code",
   "execution_count": 13,
   "metadata": {},
   "outputs": [],
   "source": [
    "# Gradient descent using the limited-memory BFGS method (with L1 and L2 regularization)\n",
    "model = CRFClassifier(algorithm='lbfgs', \n",
    "                      c1=0.01,\n",
    "                      c2=0.01,\n",
    "                      max_iterations=2000,\n",
    "                      num_memories=20,\n",
    "                      epsilon=0.01,\n",
    "                      delta=0.01,\n",
    "                      period=20,\n",
    "                      linesearch='MoreThuente',  # 'MoreThuente' 'Backtracking' 'StrongBacktracking'\n",
    "                      max_linesearch=20,\n",
    "                      all_possible_states=True,\n",
    "                      all_possible_transitions=True,\n",
    "                      verbose=False)"
   ]
  },
  {
   "cell_type": "code",
   "execution_count": 14,
   "metadata": {},
   "outputs": [
    {
     "name": "stdout",
     "output_type": "stream",
     "text": [
      "CPU times: user 2min 53s, sys: 374 ms, total: 2min 53s\n",
      "Wall time: 2min 53s\n"
     ]
    },
    {
     "data": {
      "text/plain": [
       "<geowombat.models.model.CRFClassifier at 0x7ff2077c2cc0>"
      ]
     },
     "execution_count": 14,
     "metadata": {},
     "output_type": "execute_result"
    }
   ],
   "source": [
    "%%time\n",
    "\n",
    "model.fit(X, y)"
   ]
  },
  {
   "cell_type": "code",
   "execution_count": 15,
   "metadata": {},
   "outputs": [],
   "source": [
    "model.to_file('/media/jcgr/data/projects/global_fields/data/grids/models/clouds_brgnss.model', overwrite=True)\n",
    "# model.to_file('/scratch/rsc4/graesser/temp/clouds.model', overwrite=True)"
   ]
  },
  {
   "cell_type": "markdown",
   "metadata": {},
   "source": [
    "# Image prediction\n",
    "---"
   ]
  },
  {
   "cell_type": "code",
   "execution_count": 16,
   "metadata": {},
   "outputs": [],
   "source": [
    "# Sentinel 2\n",
    "# rpath = Path('/scratch/rsc4/graesser/temp/s2/grids')"
   ]
  },
  {
   "cell_type": "code",
   "execution_count": 17,
   "metadata": {},
   "outputs": [
    {
     "data": {
      "text/plain": [
       "PosixPath('/media/jcgr/data/projects/global_fields/data/grids/na_sp')"
      ]
     },
     "execution_count": 17,
     "metadata": {},
     "output_type": "execute_result"
    }
   ],
   "source": [
    "rpath_pred = rpath.joinpath('na_sp')\n",
    "# rpath_pred = rpath.joinpath('t56jmq')\n",
    "rpath_pred"
   ]
  },
  {
   "cell_type": "markdown",
   "metadata": {},
   "source": [
    "### Load the classifier"
   ]
  },
  {
   "cell_type": "code",
   "execution_count": 25,
   "metadata": {},
   "outputs": [],
   "source": [
    "model = CRFClassifier()\n",
    "# model.from_file('/media/jcgr/data/projects/global_fields/data/grids/models/clouds_bgrn.model')\n",
    "model.from_file('/scratch/rsc4/graesser/temp/clouds_v2.model')"
   ]
  },
  {
   "cell_type": "markdown",
   "metadata": {},
   "source": [
    "### Get the image dates"
   ]
  },
  {
   "cell_type": "code",
   "execution_count": 18,
   "metadata": {},
   "outputs": [],
   "source": [
    "# date_pos = 2\n",
    "# wildcard = '*_abbm*.img'\n",
    "\n",
    "# filenames = list()\n",
    "# time_names = list()\n",
    "\n",
    "# for root, dirs, files in os.walk(rpath_pred.as_posix()):\n",
    "    \n",
    "#     tif_files = fnmatch.filter(files, wildcard)\n",
    "\n",
    "#     filename_dict = dict()\n",
    "#     for fn in tif_files:\n",
    "#         filename_dict[fn.split('_')[date_pos]] = fn\n",
    "\n",
    "#     sorted_names = list(zip(*sorted(filename_dict.items())))\n",
    "\n",
    "#     filenames += [Path(root).joinpath(fn).as_posix() for fn in list(sorted_names[1])]\n",
    "#     time_names += [datetime.strptime(t[:8], '%Y%m%d') for t in list(sorted_names[0])]"
   ]
  },
  {
   "cell_type": "code",
   "execution_count": 34,
   "metadata": {},
   "outputs": [],
   "source": [
    "location = 'la'\n",
    "date_pos = 3\n",
    "wildcard = '*.tif'\n",
    "\n",
    "filenames = list()\n",
    "time_names = list()\n",
    "\n",
    "for root, dirs, files in os.walk(rpath_pred.as_posix()):\n",
    "    \n",
    "    tif_files = fnmatch.filter(files, wildcard)\n",
    "    \n",
    "    if tif_files and ('/{}/'.format(location) in root) and ('nocoreg' not in root):\n",
    "        \n",
    "        filename_dict = dict()\n",
    "        for fn in tif_files:\n",
    "            filename_dict[fn.split('_')[date_pos]] = fn\n",
    "        \n",
    "        sorted_names = list(zip(*sorted(filename_dict.items())))\n",
    "        \n",
    "        filenames += [Path(root).joinpath(fn).as_posix() for fn in list(sorted_names[1])]\n",
    "        time_names += [datetime.strptime(t[:8], '%Y%m%d') for t in list(sorted_names[0])]"
   ]
  },
  {
   "cell_type": "code",
   "execution_count": 35,
   "metadata": {},
   "outputs": [
    {
     "data": {
      "text/plain": [
       "['/media/jcgr/data/projects/global_fields/data/grids/na_sp/la/brdf/LC08_L1TP_025038_20180103_20180118_01_T1.tif',\n",
       " '/media/jcgr/data/projects/global_fields/data/grids/na_sp/la/brdf/L1C_T15RVQ_A004342_20180104T165657_MTD.tif',\n",
       " '/media/jcgr/data/projects/global_fields/data/grids/na_sp/la/brdf/L1C_T15RVQ_A013322_20180109T165940_MTD.tif',\n",
       " '/media/jcgr/data/projects/global_fields/data/grids/na_sp/la/brdf/LC08_L1TP_024038_20180112_20180119_01_T1.tif',\n",
       " '/media/jcgr/data/projects/global_fields/data/grids/na_sp/la/brdf/L1C_T15RVQ_A004485_20180114T165633_MTD.tif',\n",
       " '/media/jcgr/data/projects/global_fields/data/grids/na_sp/la/brdf/LC08_L1GT_025038_20180119_20180206_01_T2.tif',\n",
       " '/media/jcgr/data/projects/global_fields/data/grids/na_sp/la/brdf/L1C_T15RVQ_A004628_20180124T165556_MTD.tif',\n",
       " '/media/jcgr/data/projects/global_fields/data/grids/na_sp/la/brdf/LC08_L1TP_024038_20180128_20180207_01_T1.tif',\n",
       " '/media/jcgr/data/projects/global_fields/data/grids/na_sp/la/brdf/L1C_T15RVQ_A013608_20180129T170309_MTD.tif',\n",
       " '/media/jcgr/data/projects/global_fields/data/grids/na_sp/la/brdf/L1C_T15RVQ_A004771_20180203T170320_MTD.tif',\n",
       " '/media/jcgr/data/projects/global_fields/data/grids/na_sp/la/brdf/L1C_T15RVQ_A013751_20180208T170147_MTD.tif',\n",
       " '/media/jcgr/data/projects/global_fields/data/grids/na_sp/la/brdf/L1C_T15RVQ_A013894_20180218T170024_MTD.tif',\n",
       " '/media/jcgr/data/projects/global_fields/data/grids/na_sp/la/brdf/L1C_T15RVQ_A005057_20180223T170118_MTD.tif',\n",
       " '/media/jcgr/data/projects/global_fields/data/grids/na_sp/la/brdf/L1C_T15RVQ_A014037_20180228T165944_MTD.tif',\n",
       " '/media/jcgr/data/projects/global_fields/data/grids/na_sp/la/brdf/L1C_T15RVQ_A005200_20180305T170319_MTD.tif',\n",
       " '/media/jcgr/data/projects/global_fields/data/grids/na_sp/la/brdf/L1C_T15RVQ_A014180_20180310T170207_MTD.tif',\n",
       " '/media/jcgr/data/projects/global_fields/data/grids/na_sp/la/brdf/L1C_T15RVQ_A005343_20180315T165424_MTD.tif',\n",
       " '/media/jcgr/data/projects/global_fields/data/grids/na_sp/la/brdf/L1C_T15RVQ_A014323_20180320T165647_MTD.tif',\n",
       " '/media/jcgr/data/projects/global_fields/data/grids/na_sp/la/brdf/L1C_T15RVQ_A005486_20180325T165746_MTD.tif',\n",
       " '/media/jcgr/data/projects/global_fields/data/grids/na_sp/la/brdf/L1C_T15RVQ_A014466_20180330T170023_MTD.tif',\n",
       " '/media/jcgr/data/projects/global_fields/data/grids/na_sp/la/brdf/L1C_T15RVQ_A005629_20180404T170325_MTD.tif',\n",
       " '/media/jcgr/data/projects/global_fields/data/grids/na_sp/la/brdf/L1C_T15RVQ_A014609_20180409T165500_MTD.tif',\n",
       " '/media/jcgr/data/projects/global_fields/data/grids/na_sp/la/brdf/L1C_T15RVQ_A005772_20180414T165953_MTD.tif',\n",
       " '/media/jcgr/data/projects/global_fields/data/grids/na_sp/la/brdf/L1C_T15RVQ_A014752_20180419T170012_MTD.tif',\n",
       " '/media/jcgr/data/projects/global_fields/data/grids/na_sp/la/brdf/L1C_T15RVQ_A005915_20180424T165534_MTD.tif',\n",
       " '/media/jcgr/data/projects/global_fields/data/grids/na_sp/la/brdf/L1C_T15RVQ_A014895_20180429T165958_MTD.tif']"
      ]
     },
     "execution_count": 35,
     "metadata": {},
     "output_type": "execute_result"
    }
   ],
   "source": [
    "filenames"
   ]
  },
  {
   "cell_type": "markdown",
   "metadata": {},
   "source": [
    "### Load the data"
   ]
  },
  {
   "cell_type": "code",
   "execution_count": 38,
   "metadata": {},
   "outputs": [],
   "source": [
    "sensor = 'l7' # 's220'\n",
    "s = 256\n",
    "t = 20\n",
    "\n",
    "y = -1015699.77\n",
    "x = 201686.99\n",
    "\n",
    "cell_size = 20.0\n",
    "\n",
    "ref_bounds = BoundingBox(left=x, bottom=y-(cell_size*s), right=x+(cell_size*s), top=y)\n",
    "\n",
    "pred_kwargs = dict(count=1,\n",
    "                   dtype='uint8',\n",
    "                   nodata=0,\n",
    "                   driver='GTiff',\n",
    "                   blockxsize=256,\n",
    "                   blockysize=256,\n",
    "                   tiled=True,\n",
    "                   compress='lzw')\n",
    "\n",
    "with gw.config.update(sensor=sensor,\n",
    "                      ref_crs=ref_crs,\n",
    "                      ref_res=(cell_size, cell_size),\n",
    "                      ref_bounds=ref_bounds):\n",
    "    \n",
    "    with gw.open(filenames[:t], \n",
    "                 time_names=time_names[:t],\n",
    "                 chunks=512,\n",
    "                 num_threads=8) as ds:\n",
    "        \n",
    "        pred_kwargs['crs'] = ds.crs\n",
    "        pred_kwargs['transform'] = ds.transform\n",
    "        \n",
    "        sat_bands = (ds.astype('float64') * 0.0001).clip(0, 1).data.compute(num_workers=8)\n",
    "        \n",
    "for band in range(0, sat_bands.shape[1]):\n",
    "\n",
    "    sat_bands[:, band, :, :] = sm.spatial_temporal(np.ascontiguousarray(sat_bands[:, band, :, :], dtype='float32'),\n",
    "                                                   k=3,\n",
    "                                                   t=3,\n",
    "                                                   sigma_time=0.0,\n",
    "                                                   sigma_color=0.1,\n",
    "                                                   sigma_space=0.1,\n",
    "                                                   n_jobs=8)        "
   ]
  },
  {
   "cell_type": "code",
   "execution_count": 39,
   "metadata": {},
   "outputs": [
    {
     "data": {
      "text/html": [
       "<pre>&lt;xarray.DataArray (time: 20, band: 6, y: 256, x: 256)&gt;\n",
       "dask.array&lt;concatenate, shape=(20, 6, 256, 256), dtype=uint16, chunksize=(1, 6, 256, 256), chunktype=numpy.ndarray&gt;\n",
       "Coordinates:\n",
       "  * band     (band) &lt;U5 &#x27;blue&#x27; &#x27;green&#x27; &#x27;red&#x27; &#x27;nir&#x27; &#x27;swir1&#x27; &#x27;swir2&#x27;\n",
       "  * x        (x) float64 2.017e+05 2.017e+05 2.017e+05 ... 2.068e+05 2.068e+05\n",
       "  * y        (y) float64 -1.016e+06 -1.016e+06 ... -1.021e+06 -1.021e+06\n",
       "  * time     (time) datetime64[ns] 2018-01-03 2018-01-04 ... 2018-03-30\n",
       "Attributes:\n",
       "    transform:   (20.0, 0.0, 201686.99, 0.0, -20.0, -1015699.77)\n",
       "    crs:         +proj=aea +lat_1=20 +lat_2=60 +lat_0=40 +lon_0=-96 +x_0=0 +y...\n",
       "    res:         (20.0, 20.0)\n",
       "    is_tiled:    0\n",
       "    nodatavals:  (nan, nan, nan, nan, nan, nan)\n",
       "    scales:      (1.0, 1.0, 1.0, 1.0, 1.0, 1.0)\n",
       "    offsets:     (0.0, 0.0, 0.0, 0.0, 0.0, 0.0)\n",
       "    sensor:      Landsat 7 Enhanced Thematic Mapper Plus (ETM+) without panch...</pre>"
      ],
      "text/plain": [
       "<xarray.DataArray (time: 20, band: 6, y: 256, x: 256)>\n",
       "dask.array<concatenate, shape=(20, 6, 256, 256), dtype=uint16, chunksize=(1, 6, 256, 256), chunktype=numpy.ndarray>\n",
       "Coordinates:\n",
       "  * band     (band) <U5 'blue' 'green' 'red' 'nir' 'swir1' 'swir2'\n",
       "  * x        (x) float64 2.017e+05 2.017e+05 2.017e+05 ... 2.068e+05 2.068e+05\n",
       "  * y        (y) float64 -1.016e+06 -1.016e+06 ... -1.021e+06 -1.021e+06\n",
       "  * time     (time) datetime64[ns] 2018-01-03 2018-01-04 ... 2018-03-30\n",
       "Attributes:\n",
       "    transform:   (20.0, 0.0, 201686.99, 0.0, -20.0, -1015699.77)\n",
       "    crs:         +proj=aea +lat_1=20 +lat_2=60 +lat_0=40 +lon_0=-96 +x_0=0 +y...\n",
       "    res:         (20.0, 20.0)\n",
       "    is_tiled:    0\n",
       "    nodatavals:  (nan, nan, nan, nan, nan, nan)\n",
       "    scales:      (1.0, 1.0, 1.0, 1.0, 1.0, 1.0)\n",
       "    offsets:     (0.0, 0.0, 0.0, 0.0, 0.0, 0.0)\n",
       "    sensor:      Landsat 7 Enhanced Thematic Mapper Plus (ETM+) without panch..."
      ]
     },
     "execution_count": 39,
     "metadata": {},
     "output_type": "execute_result"
    }
   ],
   "source": [
    "ds"
   ]
  },
  {
   "cell_type": "markdown",
   "metadata": {},
   "source": [
    "### Predict clouds and shadows"
   ]
  },
  {
   "cell_type": "code",
   "execution_count": 40,
   "metadata": {},
   "outputs": [],
   "source": [
    "# from geowombat.models.model import time_to_crffeas\n",
    "\n",
    "# ntime, nbands, nrows, ncols = sat_bands.shape\n",
    "\n",
    "# features = np.ascontiguousarray([tlayer.transpose(1, 2, 0).reshape(nrows * ncols,\n",
    "#                                                                    nbands)\n",
    "#                                  for tlayer in sat_bands], dtype='float64')\n",
    "\n",
    "# features = time_to_crffeas(features,\n",
    "#                            b'l7',\n",
    "#                            ntime,\n",
    "#                            nrows,\n",
    "#                            ncols,\n",
    "#                            scale_factor=1.0)"
   ]
  },
  {
   "cell_type": "code",
   "execution_count": 41,
   "metadata": {},
   "outputs": [],
   "source": [
    "class_labels = ['l', 'u', 'w', 'c', 'h', 's', 'i']"
   ]
  },
  {
   "cell_type": "code",
   "execution_count": 42,
   "metadata": {},
   "outputs": [],
   "source": [
    "pred = model.predict_probas(sat_bands, 'l7', scale_factor=1.0, class_labels=class_labels)"
   ]
  },
  {
   "cell_type": "code",
   "execution_count": 43,
   "metadata": {},
   "outputs": [],
   "source": [
    "ntime, nbands, nrows, ncols = pred.shape"
   ]
  },
  {
   "cell_type": "code",
   "execution_count": 44,
   "metadata": {},
   "outputs": [],
   "source": [
    "pred_kwargs['width'] = ncols\n",
    "pred_kwargs['height'] = nrows"
   ]
  },
  {
   "cell_type": "markdown",
   "metadata": {},
   "source": [
    "### Probability label relaxation"
   ]
  },
  {
   "cell_type": "code",
   "execution_count": 45,
   "metadata": {},
   "outputs": [],
   "source": [
    "pred_c = pred.copy()\n",
    "# for pidx, pred_layer in enumerate(pred):\n",
    "# #     pred_layer = moving_window(pred_layer,\n",
    "# #                                statistic='plr',\n",
    "# #                                window_size=5,\n",
    "# #                                weights=None,\n",
    "# #                                iterations=1)    \n",
    "#     for pidxs, pred_layer_sub in enumerate(pred_layer):\n",
    "#         pred_layer[pidxs] = cv2.bilateralFilter(np.float32(pred_layer_sub), 3, 1.0, 1.0)\n",
    "#     pred_c[pidx] = pred_layer"
   ]
  },
  {
   "cell_type": "code",
   "execution_count": 72,
   "metadata": {},
   "outputs": [
    {
     "data": {
      "image/png": "[encoded data removed]",
      "text/plain": [
       "<Figure size 720x1200 with 6 Axes>"
      ]
     },
     "metadata": {
      "needs_background": "light"
     },
     "output_type": "display_data"
    }
   ],
   "source": [
    "##### %matplotlib inline\n",
    "\n",
    "fig, axes = plt.subplots(3, 2, dpi=120, figsize=(6, 10))\n",
    "\n",
    "tplot = 17\n",
    "\n",
    "# Time n, mean over bands\n",
    "# rgb = np.squeeze(test[tplot].copy())\n",
    "# rgb = rescale_intensity(rgb, out_range=(np.percentile(rgb, 5), np.percentile(rgb, 95)))\n",
    "\n",
    "rgb = sat_bands[tplot][:3].copy()\n",
    "for i in range(0, 3):\n",
    "    rgb[i] = rescale_intensity(rgb[i], out_range=(np.percentile(rgb[i], 10), np.percentile(rgb[i], 90)))\n",
    "rgb = rgb.transpose(1, 2, 0)\n",
    "rgb = rgb[..., ::-1]\n",
    "\n",
    "rgb /= rgb.max()\n",
    "\n",
    "axes[0][0].imshow(rgb)\n",
    "axes[0][0].axis('off')\n",
    "\n",
    "# Time n, predicted probabilities for class k\n",
    "axes[0][1].imshow(pred_c[tplot][class_labels.index('l')], vmin=0, vmax=1, cmap='plasma')\n",
    "axes[0][1].set_title('P(Land)')\n",
    "axes[0][1].axis('off')\n",
    "\n",
    "axes[1][0].imshow(pred_c[tplot][class_labels.index('c')], vmin=0, vmax=1, cmap='plasma')\n",
    "axes[1][0].set_title('P(Cloud)')\n",
    "axes[1][0].axis('off')\n",
    "\n",
    "axes[1][1].imshow(pred_c[tplot][class_labels.index('s')], vmin=0, vmax=1, cmap='plasma')\n",
    "axes[1][1].set_title('P(Shadow)')\n",
    "axes[1][1].axis('off')\n",
    "\n",
    "axes[2][0].imshow(pred_c[tplot][class_labels.index('w')], vmin=0, vmax=1, cmap='plasma')\n",
    "axes[2][0].set_title('P(Water)')\n",
    "axes[2][0].axis('off')\n",
    "\n",
    "# pred_int = np.where(pred[tplot][classes.index('c')] >= pthresh, 1, \n",
    "#                     np.where(pred[tplot][classes.index('s')] >= pthresh, 2, 0))\n",
    "\n",
    "pred_int = pred_c[tplot].argmax(axis=0) + 1\n",
    "\n",
    "# pred_int = np.where((amax == classes.index('c')) & (pred[tplot][classes.index('c')] > pthresh), 1, \n",
    "#                     np.where((amax == classes.index('s')) & (pred[tplot][classes.index('s')] > pthresh), 2, 0))\n",
    "\n",
    "kernel_cross = np.array([[0, 1, 0], [1, 1, 1], [0, 1, 0]], dtype='uint8')\n",
    "kernel_square = np.array([[1, 1, 1], [1, 1, 1], [1, 1, 1]], dtype='uint8')\n",
    "\n",
    "pred_int = pymorph.closerec(pymorph.closerec(pred_int,\n",
    "                                             Bdil=pymorph.secross(r=3),\n",
    "                                             Bc=pymorph.secross(r=1)),\n",
    "                            Bdil=pymorph.secross(r=2),\n",
    "                            Bc=pymorph.secross(r=1))\n",
    "\n",
    "# pred_int = cv2.erode(np.uint8(pred_int), kernel_square, iterations=1)\n",
    "# pred_int = cv2.dilate(np.uint8(pred_int), kernel_square, iterations=3)\n",
    "\n",
    "axes[2][1].imshow(pred_int, vmin=0, vmax=5, cmap='jet')\n",
    "axes[2][1].set_title('Prediction')\n",
    "axes[2][1].axis('off')\n",
    "\n",
    "plt.tight_layout()\n",
    "\n",
    "plt.show()"
   ]
  },
  {
   "cell_type": "markdown",
   "metadata": {},
   "source": [
    "### Save the predictions to file"
   ]
  },
  {
   "cell_type": "code",
   "execution_count": null,
   "metadata": {},
   "outputs": [],
   "source": [
    "cloud_file = '/scratch/rsc4/graesser/temp/clouds_{}_x{:.3f}_y{:.3f}.tif'.format(Path(filenames[tplot]).name.replace('.img', ''), x, y)\n",
    "\n",
    "print(cloud_file)\n",
    "\n",
    "if Path(cloud_file).is_file():\n",
    "    os.remove(cloud_file)\n",
    "\n",
    "with rio.open(cloud_file, mode='w', **pred_kwargs) as dst:\n",
    "    dst.write(np.uint8(pred_int), indexes=1)"
   ]
  },
  {
   "cell_type": "markdown",
   "metadata": {},
   "source": [
    "## Download PlanetScope data"
   ]
  },
  {
   "cell_type": "code",
   "execution_count": null,
   "metadata": {},
   "outputs": [],
   "source": [
    "# download_data('/scratch/rsc4/graesser/temp/planet',\n",
    "#               '/export/home/graesserj/code/python/github/planet/tsplanet/geojson/qld.geojson',\n",
    "#               '2019-08-01', \n",
    "#               '2019-08-10',\n",
    "#               cloud_cover=0.8,\n",
    "#               api_key='des')"
   ]
  },
  {
   "cell_type": "markdown",
   "metadata": {},
   "source": [
    "## Extract samples from training AOIs"
   ]
  },
  {
   "cell_type": "code",
   "execution_count": null,
   "metadata": {},
   "outputs": [],
   "source": [
    "def setup_names(grid, filenames):\n",
    "    \n",
    "    rpath_dict = {'t55jel': '/scratch/rsc8/hardtkel/biocondition/biocondition/layers/sentinel/{}'.format(grid),\n",
    "                  't56jkt': '/scratch/rsc8/hardtkel/biocondition/biocondition/layers/sentinel/{}'.format(grid),\n",
    "                  't55kcu': '/scratch/rsc8/hardtkel/rapidfires/LW/{}'.format(grid),\n",
    "                  'l8': '/media/jcgr/data/imagery/google/p225r083/brdf'}\n",
    "    \n",
    "    NameInfo = namedtuple('NameInfo', 'rasters vector, time_names')\n",
    "    \n",
    "    #vector_dir = Path('/scratch/rsc4/graesser/temp/s2/training')\n",
    "    vector_dir = Path('/media/jcgr/data/imagery/google/training')\n",
    "    \n",
    "    image_dir = Path(rpath_dict[grid])\n",
    "    \n",
    "    filename_dict = dict()\n",
    "    for fn in filenames:\n",
    "        filename_dict[fn.split('_')[2]] = fn\n",
    "\n",
    "    sorted_names = list(zip(*sorted(filename_dict.items())))\n",
    "    \n",
    "    filenames = list(sorted_names[1])\n",
    "    \n",
    "    time_names = [datetime.strptime(t, '%Y%m%d') for t in list(sorted_names[0])]\n",
    "    \n",
    "    rasters = [image_dir.joinpath(fn).as_posix() for fn in filenames]\n",
    "    vector = vector_dir.joinpath('{}.shp'.format(grid)).as_posix()\n",
    "    \n",
    "    return NameInfo(rasters=rasters, vector=vector, time_names=time_names)"
   ]
  },
  {
   "cell_type": "code",
   "execution_count": null,
   "metadata": {},
   "outputs": [],
   "source": [
    "filenames = fnmatch.filter(os.listdir(image_dir.as_posix()), '*.tif')\n",
    "\n",
    "filename_dict = dict()\n",
    "for fn in filenames:\n",
    "    filename_dict[fn.split('_')[3]] = fn"
   ]
  },
  {
   "cell_type": "code",
   "execution_count": null,
   "metadata": {},
   "outputs": [],
   "source": [
    "sorted_names = list(zip(*sorted(filename_dict.items())))"
   ]
  },
  {
   "cell_type": "code",
   "execution_count": null,
   "metadata": {},
   "outputs": [],
   "source": [
    "filenames = list(sorted_names[1])"
   ]
  },
  {
   "cell_type": "code",
   "execution_count": null,
   "metadata": {},
   "outputs": [],
   "source": [
    "time_names = [datetime.strptime(t, '%Y%m%d') for t in list(sorted_names[0])]"
   ]
  },
  {
   "cell_type": "code",
   "execution_count": null,
   "metadata": {},
   "outputs": [],
   "source": [
    "rasters = [image_dir.joinpath(fn).as_posix() for fn in filenames]\n",
    "vector = vector_dir.joinpath('p225r83.shp').as_posix()"
   ]
  },
  {
   "cell_type": "markdown",
   "metadata": {},
   "source": [
    "### Plot the intersection"
   ]
  },
  {
   "cell_type": "code",
   "execution_count": null,
   "metadata": {},
   "outputs": [],
   "source": [
    "# with gw.config.update(ref_image=rasters[0], \n",
    "#                       ref_res=(10, 10), \n",
    "#                       sensor='planetscope'):\n",
    "    \n",
    "#     with gw.open(rasters,\n",
    "#                  time_names=time_names,\n",
    "#                  how='intersection',\n",
    "#                  chunks=512) as ds:\n",
    "        \n",
    "#         dss = ds.mean(dim='time')\n",
    "#         dss.attrs = ds.attrs\n",
    "#         print(ds)\n",
    "        \n",
    "#         #dss.gw.imshow(band_names=['red', 'green', 'blue'], nodata=0, robust=True)"
   ]
  },
  {
   "cell_type": "markdown",
   "metadata": {},
   "source": [
    "### Extract samples"
   ]
  },
  {
   "cell_type": "markdown",
   "metadata": {},
   "source": [
    "#### Split samples"
   ]
  },
  {
   "cell_type": "code",
   "execution_count": null,
   "metadata": {},
   "outputs": [],
   "source": [
    "df = gpd.read_file(vector)\n",
    "\n",
    "df['class_len'] = df['class'].str.len()\n",
    "df['int_class'] = df.apply(str_to_int, axis=1)\n",
    "out = df['int_class'].str.split(',', expand=True)\n",
    "\n",
    "df_list = list()\n",
    "\n",
    "for s in range(0, out.shape[1]):\n",
    "    df_ = df.copy()\n",
    "    df_['id'] = out.iloc[:, s]\n",
    "    df_list.append(df_)"
   ]
  },
  {
   "cell_type": "code",
   "execution_count": null,
   "metadata": {},
   "outputs": [],
   "source": [
    "df_list[1]"
   ]
  },
  {
   "cell_type": "code",
   "execution_count": null,
   "metadata": {},
   "outputs": [],
   "source": [
    "dfs = list()\n",
    "\n",
    "with gw.config.update(sensor='bgrn'):\n",
    "\n",
    "    with gw.open(rasters[0]) as ds:\n",
    "        transform = ds.transform\n",
    "\n",
    "    with gw.open(rasters, time_names=time_names) as ds:    \n",
    "\n",
    "        for ti, time in enumerate(ds.time.values):\n",
    "\n",
    "            dss = ds.sel(time=time)\n",
    "            dss.attrs = ds.attrs\n",
    "            dss.attrs['transform'] = transform\n",
    "\n",
    "            dfs.append(dss.gw.extract(df_list[ti]))"
   ]
  },
  {
   "cell_type": "code",
   "execution_count": null,
   "metadata": {},
   "outputs": [],
   "source": [
    "dfs[0].shape"
   ]
  },
  {
   "cell_type": "markdown",
   "metadata": {},
   "source": [
    "## Convert samples to CRF features"
   ]
  },
  {
   "cell_type": "code",
   "execution_count": null,
   "metadata": {},
   "outputs": [],
   "source": [
    "band_names = ['blue', 'green', 'red', 'nir']\n",
    "label_name = 'poly'"
   ]
  },
  {
   "cell_type": "code",
   "execution_count": null,
   "metadata": {},
   "outputs": [],
   "source": [
    "results = samples_to_features(dfs)"
   ]
  },
  {
   "cell_type": "markdown",
   "metadata": {},
   "source": [
    "### CRF X and y"
   ]
  },
  {
   "cell_type": "code",
   "execution_count": null,
   "metadata": {},
   "outputs": [],
   "source": [
    "X = np.array(list(zip(*results))[0]).T.tolist()\n",
    "print(len(X))"
   ]
  },
  {
   "cell_type": "code",
   "execution_count": null,
   "metadata": {},
   "outputs": [],
   "source": [
    "y = np.array(list(zip(*results))[1]).T.tolist()\n",
    "print(len(y))"
   ]
  },
  {
   "cell_type": "markdown",
   "metadata": {},
   "source": [
    "### Fit the CRF model"
   ]
  },
  {
   "cell_type": "code",
   "execution_count": null,
   "metadata": {},
   "outputs": [],
   "source": [
    "model = sklearn_crfsuite.CRF(algorithm='lbfgs', # Gradient descent using the limited-memory BFGS method (with L1 and L2 regularization)\n",
    "            c1=0.01,\n",
    "            c2=0.01,\n",
    "            max_iterations=2000,\n",
    "            num_memories=10,\n",
    "            period=10,\n",
    "            epsilon=1e-04,\n",
    "            delta=1e-04,\n",
    "            linesearch='StrongBacktracking',  # 'MoreThuente' 'Backtracking' 'StrongBacktracking'\n",
    "            max_linesearch=20,\n",
    "            all_possible_states=True,\n",
    "            all_possible_transitions=True,\n",
    "            verbose=False)"
   ]
  },
  {
   "cell_type": "code",
   "execution_count": null,
   "metadata": {},
   "outputs": [],
   "source": [
    "model.fit(X, y)"
   ]
  },
  {
   "cell_type": "code",
   "execution_count": null,
   "metadata": {},
   "outputs": [],
   "source": [
    "# model.predict_marginals(X)[0]"
   ]
  },
  {
   "cell_type": "code",
   "execution_count": null,
   "metadata": {},
   "outputs": [],
   "source": [
    "# samples x time x n classes\n",
    "# pred = np.array([[[ps['land'], ps['cloud']] for ps in p] for p in model.predict_marginals(X)], dtype='float64')"
   ]
  },
  {
   "cell_type": "code",
   "execution_count": null,
   "metadata": {},
   "outputs": [],
   "source": [
    "# pred.shape"
   ]
  },
  {
   "cell_type": "markdown",
   "metadata": {},
   "source": [
    "### Open the data to predict on "
   ]
  },
  {
   "cell_type": "code",
   "execution_count": null,
   "metadata": {},
   "outputs": [],
   "source": [
    "with gw.config.update(sensor='rgbn'):\n",
    "    \n",
    "    with gw.open(rasters[0]) as ds:\n",
    "        #print(ds.data.max().compute())\n",
    "        transform = ds.transform\n",
    "    \n",
    "    with gw.open(rasters, time_names=time_names) as ds:\n",
    "        \n",
    "        ds.attrs['transform'] = transform\n",
    "        \n",
    "        dss = ds[:, :, 3000:3512, 3000:3512].chunk((1, 256, 256)).fillna(0)\n",
    "        #dss = gw.subset(ds, left=315416.003, top=-3611632.029, rows=500, cols=500).chunk((1, 1, 64, 64))\n",
    "        #print(dss)\n",
    "        #print(dss.data.max().compute())\n",
    "        test = dss.astype('float64').data.compute()"
   ]
  },
  {
   "cell_type": "code",
   "execution_count": null,
   "metadata": {},
   "outputs": [],
   "source": [
    "test.shape"
   ]
  },
  {
   "cell_type": "code",
   "execution_count": null,
   "metadata": {},
   "outputs": [],
   "source": [
    "ntime, nbands, nrows, ncols = test.shape"
   ]
  },
  {
   "cell_type": "markdown",
   "metadata": {},
   "source": [
    "### Convert the array to CRF-compatible features"
   ]
  },
  {
   "cell_type": "code",
   "execution_count": null,
   "metadata": {},
   "outputs": [],
   "source": [
    "features = [tlayer.transpose(1, 2, 0).reshape(nrows*ncols, nbands) for tlayer in test]\n",
    "features = [array_to_dict(*[features[j][i] for j in range(0, ntime)]) for i in range(0, nrows*ncols)]"
   ]
  },
  {
   "cell_type": "code",
   "execution_count": null,
   "metadata": {},
   "outputs": [],
   "source": [
    "# features[0]"
   ]
  },
  {
   "cell_type": "markdown",
   "metadata": {},
   "source": [
    "### Predict on all time steps"
   ]
  },
  {
   "cell_type": "code",
   "execution_count": null,
   "metadata": {},
   "outputs": [],
   "source": [
    "pred = model.predict_marginals(features)"
   ]
  },
  {
   "cell_type": "code",
   "execution_count": null,
   "metadata": {},
   "outputs": [],
   "source": [
    "def pred_to_labels(model_pred):\n",
    "    \n",
    "    # samples x time x n classes\n",
    "    return np.array([[[ps['n'], ps['l'], ps['w'], ps['c'], ps['s'], ps['h']] for ps in p] for p in model_pred], dtype='float64')"
   ]
  },
  {
   "cell_type": "code",
   "execution_count": null,
   "metadata": {},
   "outputs": [],
   "source": [
    "# samples x time x n classes\n",
    "# pred = np.array([[[ps['n'], ps['l'], ps['w'], ps['c'], ps['s'], ps['h']] for ps in p] \n",
    "#                  for p in model.predict_marginals(features)], dtype='float64')"
   ]
  },
  {
   "cell_type": "code",
   "execution_count": null,
   "metadata": {},
   "outputs": [],
   "source": [
    "pred = pred_to_labels(pred)"
   ]
  },
  {
   "cell_type": "code",
   "execution_count": null,
   "metadata": {},
   "outputs": [],
   "source": [
    "pred.shape"
   ]
  },
  {
   "cell_type": "code",
   "execution_count": null,
   "metadata": {},
   "outputs": [],
   "source": [
    "pred = pred.transpose(1, 2, 0).reshape(ntime, pred.shape[2], nrows, ncols)"
   ]
  },
  {
   "cell_type": "code",
   "execution_count": null,
   "metadata": {},
   "outputs": [],
   "source": [
    "pred.shape"
   ]
  },
  {
   "cell_type": "markdown",
   "metadata": {},
   "source": [
    "## Plot cloud probabilities"
   ]
  },
  {
   "cell_type": "code",
   "execution_count": null,
   "metadata": {},
   "outputs": [],
   "source": [
    "%matplotlib inline\n",
    "\n",
    "fig, axes = plt.subplots(pred.shape[0], 2, dpi=400, figsize=(2, 12))\n",
    "\n",
    "bidx = 0 # band index\n",
    "cidx = 3 # class index\n",
    "\n",
    "for pi in range(0, pred.shape[0]):\n",
    "\n",
    "    ip = test[pi, bidx, :, :]\n",
    "    ip[ip == 0] = np.nan\n",
    "    \n",
    "    axes[pi][0].imshow(ip, vmin=np.nanpercentile(ip, 10), vmax=np.nanpercentile(ip, 90), cmap='plasma')\n",
    "    #axes[pi][1].imshow(pred[pi, cidx, :, :], vmin=0, vmax=1, cmap='plasma')\n",
    "    axes[pi][1].imshow(pred[pi, :, :, :].argmax(axis=0), vmin=0, vmax=5)\n",
    "    \n",
    "#     axes[pi][0].set_xlabel('Time {:d}'.format(pi+1))\n",
    "    \n",
    "    axes[pi][0].axis('off')\n",
    "    axes[pi][1].axis('off')\n",
    "\n",
    "plt.show()"
   ]
  },
  {
   "cell_type": "markdown",
   "metadata": {},
   "source": [
    "### Shape testing"
   ]
  },
  {
   "cell_type": "code",
   "execution_count": null,
   "metadata": {},
   "outputs": [],
   "source": [
    "# a = np.arange(8*3*2).reshape(8,3,2)"
   ]
  },
  {
   "cell_type": "code",
   "execution_count": null,
   "metadata": {},
   "outputs": [],
   "source": [
    "# time 1\n",
    "# a[:, 0, :]"
   ]
  },
  {
   "cell_type": "code",
   "execution_count": null,
   "metadata": {},
   "outputs": [],
   "source": [
    "# time 2\n",
    "# a[:, 1, :]"
   ]
  },
  {
   "cell_type": "code",
   "execution_count": null,
   "metadata": {},
   "outputs": [],
   "source": [
    "# a.transpose(1, 2, 0).reshape(3, 2, 2, 4)[1]"
   ]
  },
  {
   "cell_type": "code",
   "execution_count": null,
   "metadata": {},
   "outputs": [],
   "source": []
  }
 ],
 "metadata": {
  "kernelspec": {
   "display_name": "Python 3",
   "language": "python",
   "name": "python3"
  },
  "language_info": {
   "codemirror_mode": {
    "name": "ipython",
    "version": 3
   },
   "file_extension": ".py",
   "mimetype": "text/x-python",
   "name": "python",
   "nbconvert_exporter": "python",
   "pygments_lexer": "ipython3",
   "version": "3.6.8"
  }
 },
 "nbformat": 4,
 "nbformat_minor": 4
}
