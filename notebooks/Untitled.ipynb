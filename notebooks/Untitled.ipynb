{
 "cells": [
  {
   "cell_type": "code",
   "execution_count": 8,
   "metadata": {},
   "outputs": [],
   "source": [
    "import geowombat as gw\n",
    "from geowombat.util import Cluster\n",
    "import dask\n",
    "import rasterio as rio\n",
    "from rasterio.windows import Window\n",
    "# from dask.distributed import Client, LocalCluster"
   ]
  },
  {
   "cell_type": "code",
   "execution_count": 3,
   "metadata": {},
   "outputs": [],
   "source": [
    "from geowombat.data import rgbn, rgbn_suba, rgbn_subb"
   ]
  },
  {
   "cell_type": "code",
   "execution_count": 5,
   "metadata": {},
   "outputs": [],
   "source": [
    "def dummy_func(block, dummy):\n",
    "    return block * 10.0 / 2.0"
   ]
  },
  {
   "cell_type": "code",
   "execution_count": 73,
   "metadata": {},
   "outputs": [
    {
     "data": {
      "text/html": [
       "<table style=\"border: 2px solid white;\">\n",
       "<tr>\n",
       "<td style=\"vertical-align: top; border: 0px solid white\">\n",
       "<h3 style=\"text-align: left;\">Client</h3>\n",
       "<ul style=\"text-align: left; list-style: none; margin: 0; padding: 0;\">\n",
       "  <li><b>Scheduler: </b>inproc://172.16.11.249/30495/136</li>\n",
       "  <li><b>Dashboard: </b><a href='http://localhost:8787/status' target='_blank'>http://localhost:8787/status</a>\n",
       "</ul>\n",
       "</td>\n",
       "<td style=\"vertical-align: top; border: 0px solid white\">\n",
       "<h3 style=\"text-align: left;\">Cluster</h3>\n",
       "<ul style=\"text-align: left; list-style:none; margin: 0; padding: 0;\">\n",
       "  <li><b>Workers: </b>4</li>\n",
       "  <li><b>Cores: </b>16</li>\n",
       "  <li><b>Memory: </b>16.54 GB</li>\n",
       "</ul>\n",
       "</td>\n",
       "</tr>\n",
       "</table>"
      ],
      "text/plain": [
       "<Client: 'inproc://172.16.11.249/30495/136' processes=4 threads=16, memory=16.54 GB>"
      ]
     },
     "execution_count": 73,
     "metadata": {},
     "output_type": "execute_result"
    }
   ],
   "source": [
    "cluster = Cluster(n_workers=2,\n",
    "                  threads_per_worker=4,\n",
    "                  scheduler_port=0,\n",
    "                  processes=False)\n",
    "\n",
    "cluster.start()\n",
    "\n",
    "cluster.client"
   ]
  },
  {
   "cell_type": "code",
   "execution_count": 74,
   "metadata": {},
   "outputs": [],
   "source": [
    "def n_rows_cols(pixel_index, block_size, rows_cols):\n",
    "    return block_size if (pixel_index + block_size) < rows_cols else rows_cols - pixel_index"
   ]
  },
  {
   "cell_type": "code",
   "execution_count": 75,
   "metadata": {},
   "outputs": [],
   "source": [
    "chunksize = 64\n",
    "\n",
    "@dask.delayed\n",
    "def write_func(output, out_window, out_indexes, last_write=None):\n",
    "    \n",
    "    del last_write\n",
    "    \n",
    "    with rio.open('/home/jcgr/Documents/scripts/Python/git_repos/geowombat/data/test2.tif',\n",
    "                  mode='r+', height=dss.shape[0], width=dss.shape[1],\n",
    "                  count=1, dtype='float64', driver='GTiff',\n",
    "                  crs=ds.crs, transform=ds.transform, \n",
    "                  sharing=False) as dst:    \n",
    "    \n",
    "        dst.write(output, window=out_window, indexes=out_indexes)  \n",
    "\n",
    "    \n",
    "with gw.open(rgbn_suba, chunks=chunksize) as ds:\n",
    "    \n",
    "    dss = ds.sel(band=4).astype('float64')\n",
    "    dss.attrs = ds.attrs\n",
    "    \n",
    "    with rio.open('/home/jcgr/Documents/scripts/Python/git_repos/geowombat/data/test2.tif',\n",
    "                  mode='w', height=dss.shape[0], width=dss.shape[1],\n",
    "                  count=1, dtype='float64', driver='GTiff',\n",
    "                  crs=ds.crs, transform=ds.transform, \n",
    "                  sharing=False) as dst:\n",
    "        pass\n",
    "\n",
    "    writer = None\n",
    "    for i in range(0, dss.shape[0], chunksize):\n",
    "        nrows = n_rows_cols(i, chunksize, dss.shape[0])\n",
    "        for j in range(0, dss.shape[1], chunksize):\n",
    "            ncols = n_rows_cols(j, chunksize, dss.shape[1])\n",
    "            w = Window(row_off=i, col_off=j, height=nrows, width=ncols)\n",
    "            writer = write_func(dss[i:i+chunksize, j:j+chunksize].squeeze().data, \n",
    "                                w, 1, writer)\n",
    "\n",
    "    res = cluster.client.persist(writer)"
   ]
  },
  {
   "cell_type": "code",
   "execution_count": 77,
   "metadata": {},
   "outputs": [
    {
     "ename": "AttributeError",
     "evalue": "'NoneType' object has no attribute 'close'",
     "output_type": "error",
     "traceback": [
      "\u001b[0;31m---------------------------------------------------------------------------\u001b[0m",
      "\u001b[0;31mAttributeError\u001b[0m                            Traceback (most recent call last)",
      "\u001b[0;32m<ipython-input-77-73ca9349675f>\u001b[0m in \u001b[0;36m<module>\u001b[0;34m\u001b[0m\n\u001b[0;32m----> 1\u001b[0;31m \u001b[0mcluster\u001b[0m\u001b[0;34m.\u001b[0m\u001b[0mstop\u001b[0m\u001b[0;34m(\u001b[0m\u001b[0;34m)\u001b[0m\u001b[0;34m\u001b[0m\u001b[0;34m\u001b[0m\u001b[0m\n\u001b[0m",
      "\u001b[0;32m~/.local/lib/python3.6/site-packages/geowombat/util/dask_.py\u001b[0m in \u001b[0;36mstop\u001b[0;34m(self)\u001b[0m\n\u001b[1;32m     17\u001b[0m     \u001b[0;32mdef\u001b[0m \u001b[0mstop\u001b[0m\u001b[0;34m(\u001b[0m\u001b[0mself\u001b[0m\u001b[0;34m)\u001b[0m\u001b[0;34m:\u001b[0m\u001b[0;34m\u001b[0m\u001b[0;34m\u001b[0m\u001b[0m\n\u001b[1;32m     18\u001b[0m \u001b[0;34m\u001b[0m\u001b[0m\n\u001b[0;32m---> 19\u001b[0;31m         \u001b[0mself\u001b[0m\u001b[0;34m.\u001b[0m\u001b[0mclient\u001b[0m\u001b[0;34m.\u001b[0m\u001b[0mclose\u001b[0m\u001b[0;34m(\u001b[0m\u001b[0;34m)\u001b[0m\u001b[0;34m\u001b[0m\u001b[0;34m\u001b[0m\u001b[0m\n\u001b[0m\u001b[1;32m     20\u001b[0m         \u001b[0mself\u001b[0m\u001b[0;34m.\u001b[0m\u001b[0mcluster\u001b[0m\u001b[0;34m.\u001b[0m\u001b[0mclose\u001b[0m\u001b[0;34m(\u001b[0m\u001b[0;34m)\u001b[0m\u001b[0;34m\u001b[0m\u001b[0;34m\u001b[0m\u001b[0m\n\u001b[1;32m     21\u001b[0m \u001b[0;34m\u001b[0m\u001b[0m\n",
      "\u001b[0;31mAttributeError\u001b[0m: 'NoneType' object has no attribute 'close'"
     ]
    }
   ],
   "source": [
    "cluster.stop()"
   ]
  },
  {
   "cell_type": "code",
   "execution_count": 6,
   "metadata": {},
   "outputs": [
    {
     "name": "stderr",
     "output_type": "stream",
     "text": [
      "100%|██████████| 99/99 [00:00<00:00, 10311.30it/s]\n"
     ]
    }
   ],
   "source": [
    "chunksize = 64\n",
    "\n",
    "gw.apply(rgbn_suba,\n",
    "         '/home/jcgr/Documents/scripts/Python/git_repos/geowombat/data/test.tif',\n",
    "         dummy_func,\n",
    "         args=(None,),\n",
    "         n_jobs=4,\n",
    "         count=4,\n",
    "         blockxsize=chunksize,\n",
    "         blockysize=chunksize)\n",
    "\n",
    "# with gw.open(rgbn_suba, chunks=chunksize) as ds:\n",
    "#     ds.gw.to_raster('/home/jcgr/Documents/scripts/Python/git_repos/geowombat/data/test.tif',\n",
    "#                     n_jobs=4,\n",
    "#                     tiled=True)"
   ]
  },
  {
   "cell_type": "code",
   "execution_count": null,
   "metadata": {},
   "outputs": [],
   "source": [
    "writer.compute()"
   ]
  },
  {
   "cell_type": "code",
   "execution_count": null,
   "metadata": {},
   "outputs": [],
   "source": [
    "res = cluster.client.persist(writer)"
   ]
  },
  {
   "cell_type": "code",
   "execution_count": null,
   "metadata": {},
   "outputs": [],
   "source": [
    "# res.compute()"
   ]
  },
  {
   "cell_type": "code",
   "execution_count": 40,
   "metadata": {},
   "outputs": [],
   "source": [
    "cluster.stop()"
   ]
  },
  {
   "cell_type": "code",
   "execution_count": null,
   "metadata": {},
   "outputs": [],
   "source": [
    "# writer.visualize()"
   ]
  },
  {
   "cell_type": "code",
   "execution_count": null,
   "metadata": {},
   "outputs": [],
   "source": [
    "dss.data.visualize()"
   ]
  },
  {
   "cell_type": "code",
   "execution_count": null,
   "metadata": {},
   "outputs": [],
   "source": [
    "with gw.open(rgbn_suba, band_names=['b', 'g', 'r', 'n']) as ds:\n",
    "    ds.gw.imshow(band_names=['b', 'g', 'r'], flip=True, mask=True, nodata=0, robust=True)"
   ]
  },
  {
   "cell_type": "code",
   "execution_count": null,
   "metadata": {},
   "outputs": [],
   "source": [
    "with gw.open(rgbn_subb, band_names=['b', 'g', 'r', 'n']) as ds:\n",
    "    ds.gw.imshow(band_names=['b', 'g', 'r'], flip=True, mask=True, nodata=0, robust=True)"
   ]
  },
  {
   "cell_type": "code",
   "execution_count": null,
   "metadata": {},
   "outputs": [],
   "source": [
    "with gw.open([rgbn_suba, rgbn_subb], band_names=['b', 'g', 'r', 'n'], mosaic=True) as ds:\n",
    "    ds.gw.imshow(band_names=['b', 'g', 'r'], flip=True, mask=True, nodata=0, robust=True)"
   ]
  },
  {
   "cell_type": "code",
   "execution_count": null,
   "metadata": {},
   "outputs": [],
   "source": [
    "with gw.open([rgbn_suba, rgbn_subb, rgbn_subb], \n",
    "             time_names=[1, 1, 2], \n",
    "             band_names=['b', 'g', 'r', 'n']) as ds:\n",
    "    \n",
    "    ds.sel(time=1).gw.imshow(band_names=['b', 'g', 'r'], flip=True, mask=True, nodata=0, robust=True)"
   ]
  },
  {
   "cell_type": "code",
   "execution_count": null,
   "metadata": {},
   "outputs": [],
   "source": [
    "import rasterio\n",
    "from rasterio.warp import calculate_default_transform, aligned_target\n",
    "from rasterio.crs import CRS"
   ]
  },
  {
   "cell_type": "code",
   "execution_count": null,
   "metadata": {},
   "outputs": [],
   "source": [
    "with rasterio.open(rgbn) as src:\n",
    "    \n",
    "    transform, width, height = calculate_default_transform(src.crs,\n",
    "                                                           CRS.from_epsg(4326),\n",
    "                                                           src.width,\n",
    "                                                           src.height,\n",
    "                                                           *src.bounds,\n",
    "                                                           dst_width=src.width,\n",
    "                                                           dst_height=src.height)\n",
    "    \n",
    "    print(width, height)\n",
    "    res = (transform[0], -transform[4])\n",
    "    \n",
    "    print(res)\n",
    "    \n",
    "    dst_transform, dst_width, dst_height = aligned_target(transform, width, height, res)\n",
    "    \n",
    "    print(dst_transform)\n",
    "    print(dst_width, dst_height)"
   ]
  },
  {
   "cell_type": "code",
   "execution_count": null,
   "metadata": {},
   "outputs": [],
   "source": [
    "with gw.config.update(sensor='rgbn', ref_res=(5, 5)):\n",
    "\n",
    "    with gw.open(rgbn, band_names=['b', 'g', 'r', 'n'], resampling='cubic') as ds:\n",
    "\n",
    "        dss = ds.gw.moving(stat='max', n_jobs=8)\n",
    "\n",
    "        dss.gw.imshow(band_names=['g', 'r', 'n'], flip=True, mask=True, nodata=0, robust=True)"
   ]
  },
  {
   "cell_type": "code",
   "execution_count": null,
   "metadata": {},
   "outputs": [],
   "source": [
    "with gw.config.update(sensor='rgbn', ref_res=(5, 5)):\n",
    "\n",
    "    with gw.open(rgbn, \n",
    "                 band_names=['b', 'g', 'r', 'n'],\n",
    "                 resampling='cubic') as ds:\n",
    "        \n",
    "        print(ds)\n",
    "        ds.gw.imshow(band_names=['b', 'g', 'r'], flip=True, mask=True, nodata=0, robust=True)"
   ]
  },
  {
   "cell_type": "code",
   "execution_count": null,
   "metadata": {},
   "outputs": [],
   "source": []
  }
 ],
 "metadata": {
  "kernelspec": {
   "display_name": "Python 3",
   "language": "python",
   "name": "python3"
  },
  "language_info": {
   "codemirror_mode": {
    "name": "ipython",
    "version": 3
   },
   "file_extension": ".py",
   "mimetype": "text/x-python",
   "name": "python",
   "nbconvert_exporter": "python",
   "pygments_lexer": "ipython3",
   "version": "3.6.8"
  }
 },
 "nbformat": 4,
 "nbformat_minor": 4
}
