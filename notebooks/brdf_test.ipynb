{
 "cells": [
  {
   "cell_type": "code",
   "execution_count": null,
   "metadata": {},
   "outputs": [],
   "source": [
    "import geowombat as gw\n",
    "from geowombat.data import rgbn"
   ]
  },
  {
   "cell_type": "code",
   "execution_count": null,
   "metadata": {},
   "outputs": [],
   "source": [
    "with gw.config.update(sensor='quickbird', scale_factor=0.0001):\n",
    "    \n",
    "    with gw.open(rgbn, chunks=512) as ds:\n",
    "        \n",
    "        solar_za = ds.sel(band='blue')\n",
    "        solar_za.coords['band'] = 'solar_za'\n",
    "        \n",
    "        solar_az = ds.sel(band='red')\n",
    "        solar_az.coords['red'] = 'solar_az'\n",
    "        \n",
    "        sensor_za = ds.sel(band='green')\n",
    "        sensor_za.coords['green'] = 'sensor_za'\n",
    "        \n",
    "        sensor_az = ds.sel(band='nir')\n",
    "        sensor_az.coords['nir'] = 'sensor_az'        \n",
    "        \n",
    "        res = ds.gw.norm_brdf(solar_za,\n",
    "                              solar_az,\n",
    "                              sensor_za,\n",
    "                              sensor_az)"
   ]
  },
  {
   "cell_type": "code",
   "execution_count": null,
   "metadata": {},
   "outputs": [],
   "source": [
    "res"
   ]
  },
  {
   "cell_type": "code",
   "execution_count": null,
   "metadata": {},
   "outputs": [],
   "source": [
    "brdf = res.compute(num_workers=4)"
   ]
  },
  {
   "cell_type": "code",
   "execution_count": null,
   "metadata": {},
   "outputs": [],
   "source": [
    "res.data.visualize()"
   ]
  },
  {
   "cell_type": "code",
   "execution_count": null,
   "metadata": {},
   "outputs": [],
   "source": []
  }
 ],
 "metadata": {
  "kernelspec": {
   "display_name": "Python 3",
   "language": "python",
   "name": "python3"
  },
  "language_info": {
   "codemirror_mode": {
    "name": "ipython",
    "version": 3
   },
   "file_extension": ".py",
   "mimetype": "text/x-python",
   "name": "python",
   "nbconvert_exporter": "python",
   "pygments_lexer": "ipython3",
   "version": "3.6.8"
  }
 },
 "nbformat": 4,
 "nbformat_minor": 4
}
