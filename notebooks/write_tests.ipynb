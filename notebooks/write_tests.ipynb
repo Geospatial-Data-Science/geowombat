{
 "cells": [
  {
   "cell_type": "code",
   "execution_count": 1,
   "metadata": {},
   "outputs": [],
   "source": [
    "import netCDF4\n",
    "import h5netcdf"
   ]
  },
  {
   "cell_type": "code",
   "execution_count": 2,
   "metadata": {},
   "outputs": [
    {
     "name": "stderr",
     "output_type": "stream",
     "text": [
      "Using TensorFlow backend.\n"
     ]
    }
   ],
   "source": [
    "import os\n",
    "\n",
    "import geowombat as gw\n",
    "from geowombat.errors import logger\n",
    "from geowombat.backends import Cluster\n",
    "\n",
    "import numpy as np\n",
    "\n",
    "import distributed\n",
    "import dask\n",
    "import dask.array as da\n",
    "from dask import is_dask_collection\n",
    "from dask.base import tokenize\n",
    "from dask.distributed import progress, Client\n",
    "\n",
    "import xarray as xr\n",
    "\n",
    "import rasterio as rio\n",
    "from rasterio.windows import Window\n",
    "from rasterio.warp import calculate_default_transform, aligned_target\n",
    "from rasterio.crs import CRS\n",
    "# from dask.distributed import Client, LocalCluster"
   ]
  },
  {
   "cell_type": "code",
   "execution_count": 3,
   "metadata": {},
   "outputs": [],
   "source": [
    "from geowombat.data import rgbn, rgbn_suba, rgbn_subb"
   ]
  },
  {
   "cell_type": "markdown",
   "metadata": {},
   "source": [
    "# Quickbird test"
   ]
  },
  {
   "cell_type": "code",
   "execution_count": 4,
   "metadata": {},
   "outputs": [],
   "source": [
    "chunksize = 512\n",
    "out_chunksize = 512\n",
    "outfile = '/media/jcgr/data/imagery/temp/write_test.tif'"
   ]
  },
  {
   "cell_type": "code",
   "execution_count": 40,
   "metadata": {},
   "outputs": [],
   "source": [
    "# from dask.distributed import LocalCluster\n",
    "# LocalCluster?"
   ]
  },
  {
   "cell_type": "code",
   "execution_count": 41,
   "metadata": {},
   "outputs": [
    {
     "data": {
      "text/html": [
       "<table style=\"border: 2px solid white;\">\n",
       "<tr>\n",
       "<td style=\"vertical-align: top; border: 0px solid white\">\n",
       "<h3 style=\"text-align: left;\">Client</h3>\n",
       "<ul style=\"text-align: left; list-style: none; margin: 0; padding: 0;\">\n",
       "  <li><b>Scheduler: </b>inproc://172.16.11.249/7396/124</li>\n",
       "  <li><b>Dashboard: </b><a href='http://172.16.11.249/7396/124:8787/status' target='_blank'>http://172.16.11.249/7396/124:8787/status</a>\n",
       "</ul>\n",
       "</td>\n",
       "<td style=\"vertical-align: top; border: 0px solid white\">\n",
       "<h3 style=\"text-align: left;\">Cluster</h3>\n",
       "<ul style=\"text-align: left; list-style:none; margin: 0; padding: 0;\">\n",
       "  <li><b>Workers: </b>2</li>\n",
       "  <li><b>Cores: </b>16</li>\n",
       "  <li><b>Memory: </b>16.54 GB</li>\n",
       "</ul>\n",
       "</td>\n",
       "</tr>\n",
       "</table>"
      ],
      "text/plain": [
       "<Client: 'inproc://172.16.11.249/7396/124' processes=2 threads=16, memory=16.54 GB>"
      ]
     },
     "execution_count": 41,
     "metadata": {},
     "output_type": "execute_result"
    }
   ],
   "source": [
    "cluster = Cluster(n_workers=2,\n",
    "                  threads_per_worker=8,\n",
    "                  scheduler_port=0,\n",
    "                  processes=False)\n",
    "\n",
    "cluster.start()\n",
    "\n",
    "cluster.client"
   ]
  },
  {
   "cell_type": "code",
   "execution_count": 42,
   "metadata": {},
   "outputs": [
    {
     "name": "stderr",
     "output_type": "stream",
     "text": [
      "15:41:17:INFO:638:io.to_raster:  Writing data to file ...\n",
      "15:41:17:INFO:658:io.to_raster:  Finished writing data to file.\n"
     ]
    },
    {
     "name": "stdout",
     "output_type": "stream",
     "text": [
      "CPU times: user 485 ms, sys: 89.1 ms, total: 574 ms\n",
      "Wall time: 565 ms\n"
     ]
    }
   ],
   "source": [
    "%%time\n",
    "\n",
    "if os.path.isfile(outfile):\n",
    "    os.remove(outfile)\n",
    "    \n",
    "with gw.config.update(sensor='quickbird', scale_factor=0.0001):        \n",
    "\n",
    "    with gw.open(rgbn, \n",
    "                 band_names=['blue', 'green', 'red', 'nir'], \n",
    "                 chunks=chunksize) as ds:\n",
    "        \n",
    "        ndvi = ds.gw.norm_diff('red', 'nir')\n",
    "        evi2 = ds.gw.evi2()\n",
    "        dss = ndvi.sel(band='norm-diff') / evi2.sel(band='evi2')\n",
    "        dss = dss.expand_dims(dim='band')\n",
    "        dss.attrs = ds.attrs\n",
    "        #dss = ds.gw.tasseled_cap()\n",
    "        \n",
    "        dss.gw.to_raster(outfile,\n",
    "                         verbose=1,\n",
    "                         overwrite=True,\n",
    "                         n_jobs=4)\n",
    "\n",
    "#         res = to_raster(dss,\n",
    "#                   outfile,\n",
    "#                   overwrite=True,\n",
    "#                   verbose=1,\n",
    "#                   scheduler_address=cluster.cluster.scheduler_address,\n",
    "#                   crs=dss.crs,\n",
    "#                   transform=dss.transform,\n",
    "#                   width=dss.gw.ncols,\n",
    "#                   height=dss.gw.nrows,\n",
    "#                   count=dss.gw.nbands,\n",
    "#                   driver='GTiff',\n",
    "#                   sharing=False,\n",
    "#                   dtype=dss.data.dtype,\n",
    "#                   nodata=None,\n",
    "#                   tiled=True,\n",
    "#                   blockxsize=512,\n",
    "#                   blockysize=512)\n",
    "\n",
    "#         dss = dss.to_dataset(dim='band')\n",
    "\n",
    "        #print(dss)\n",
    "\n",
    "#         print(dss[['brightness', 'greenness', 'wetness']])\n",
    "\n",
    "#         encoding_dict = {'brightness': {'zlib': True, 'complevel': 5, 'chunksizes': (512, 512), 'dtype': 'float64'},\n",
    "#                          'greenness': {'zlib': True, 'complevel': 5, 'chunksizes': (512, 512), 'dtype': 'float64'},\n",
    "#                          'wetness': {'zlib': True, 'complevel': 5, 'chunksizes': (512, 512), 'dtype': 'float64'}}\n",
    "\n",
    "#         dss.to_netcdf(path=outfile.replace('.tif', '.nc'),\n",
    "#                       mode='w',\n",
    "#                       format='NETCDF4',\n",
    "#                       encoding=encoding_dict,\n",
    "#                       engine='netcdf4',\n",
    "#                       compute=False)\n",
    "\n",
    "#         dss.gw.to_raster(outfile,\n",
    "#                          client=cluster.client,\n",
    "#                          n_jobs=8,\n",
    "#                          verbose=1,\n",
    "#                          overwrite=True,\n",
    "#                          dtype='uint8',\n",
    "#                          nodata=None,\n",
    "#                          tiled=True,\n",
    "#                          blockxsize=out_chunksize,\n",
    "#                          blockysize=out_chunksize)"
   ]
  },
  {
   "cell_type": "code",
   "execution_count": 43,
   "metadata": {},
   "outputs": [],
   "source": [
    "cluster.stop()"
   ]
  },
  {
   "cell_type": "markdown",
   "metadata": {},
   "source": [
    "# Southern Cone test"
   ]
  },
  {
   "cell_type": "code",
   "execution_count": 48,
   "metadata": {},
   "outputs": [
    {
     "data": {
      "text/html": [
       "<table style=\"border: 2px solid white;\">\n",
       "<tr>\n",
       "<td style=\"vertical-align: top; border: 0px solid white\">\n",
       "<h3 style=\"text-align: left;\">Client</h3>\n",
       "<ul style=\"text-align: left; list-style: none; margin: 0; padding: 0;\">\n",
       "  <li><b>Scheduler: </b>inproc://172.16.11.249/12214/185</li>\n",
       "  <li><b>Dashboard: </b><a href='http://172.16.11.249/12214/185:8787/status' target='_blank'>http://172.16.11.249/12214/185:8787/status</a>\n",
       "</ul>\n",
       "</td>\n",
       "<td style=\"vertical-align: top; border: 0px solid white\">\n",
       "<h3 style=\"text-align: left;\">Cluster</h3>\n",
       "<ul style=\"text-align: left; list-style:none; margin: 0; padding: 0;\">\n",
       "  <li><b>Workers: </b>4</li>\n",
       "  <li><b>Cores: </b>16</li>\n",
       "  <li><b>Memory: </b>16.54 GB</li>\n",
       "</ul>\n",
       "</td>\n",
       "</tr>\n",
       "</table>"
      ],
      "text/plain": [
       "<Client: 'inproc://172.16.11.249/12214/185' processes=4 threads=16, memory=16.54 GB>"
      ]
     },
     "execution_count": 48,
     "metadata": {},
     "output_type": "execute_result"
    }
   ],
   "source": [
    "cluster = Cluster(n_workers=4,\n",
    "                  threads_per_worker=4,\n",
    "                  scheduler_port=0,\n",
    "                  processes=False)\n",
    "                  #scheduler_port=8787,\n",
    "                  #dashboard_address='localhost:8787',\n",
    "                  #diagnostics_port='localhost:8787')\n",
    "\n",
    "cluster.start()\n",
    "\n",
    "cluster.client\n",
    "\n",
    "# print(cluster.cluster.scheduler)"
   ]
  },
  {
   "cell_type": "code",
   "execution_count": 49,
   "metadata": {},
   "outputs": [],
   "source": [
    "chunksize = 2048\n",
    "out_chunksize = 512"
   ]
  },
  {
   "cell_type": "code",
   "execution_count": 50,
   "metadata": {},
   "outputs": [],
   "source": [
    "# def get_coeffs():\n",
    "    \n",
    "#     coeffs = xr.DataArray(data=np.array([1.1, 1.3, 2.1], dtype='float64'),\n",
    "#                           coords={'band': ['blue', 'green', 'red']},\n",
    "#                           dims='band')\n",
    "    \n",
    "#     return coeffs"
   ]
  },
  {
   "cell_type": "code",
   "execution_count": 53,
   "metadata": {},
   "outputs": [
    {
     "name": "stderr",
     "output_type": "stream",
     "text": [
      "16:48:39:INFO:638:io.to_raster:  Writing data to file ...\n",
      "16:48:42:INFO:658:io.to_raster:  Finished writing data to file.\n"
     ]
    },
    {
     "name": "stdout",
     "output_type": "stream",
     "text": [
      "CPU times: user 3.64 s, sys: 2.36 s, total: 6 s\n",
      "Wall time: 3.27 s\n"
     ]
    }
   ],
   "source": [
    "%%time\n",
    "\n",
    "if os.path.isfile(outfile):\n",
    "    os.remove(outfile)\n",
    "    \n",
    "#with gw.config.update(ref_res=(1000, 1000)):\n",
    "\n",
    "# with dask.config.set(scheduler='threads', num_workers=1):\n",
    "\n",
    "filename = '/media/jcgr/data/imagery/temp/sc_stack.tif'\n",
    "\n",
    "with gw.open(filename,\n",
    "             band_names=['blue', 'green', 'red'], \n",
    "             chunks=chunksize) as ds:\n",
    "    \n",
    "    dss = gw.subset(ds,\n",
    "                    left=-427088.869,\n",
    "                    top=-73746.850,\n",
    "                    rows=4096,\n",
    "                    cols=4096)    \n",
    "    \n",
    "    dss = dss.to_dataset(dim='band')\n",
    "    \n",
    "    #coeffs = get_coeffs()\n",
    "    #dss = (ds.sel(band='blue')*1.1 + ds.sel(band='green')*1.3 + ds.sel(band='red')*2.1).expand_dims(dim='band')\n",
    "    \n",
    "    dss_blue = dss['blue']*1.1 + 1.1\n",
    "    dss_green = dss['green']*1.3 + 0.3\n",
    "    dss_red = dss['red']*2.1 + 0.8\n",
    "    #dss_blue = ds.sel(band='blue')*1.1 + 1.1\n",
    "    #dss_green = ds.sel(band='green')*1.3 + 0.3\n",
    "    #dss_red = ds.sel(band='red')*2.1 + 0.7\n",
    "    \n",
    "    dss = dss_blue + dss_green + dss_red\n",
    "    \n",
    "    #dss = dss.where(dss == 1).astype('uint8')\n",
    "    \n",
    "    dss.attrs = ds.attrs\n",
    "    \n",
    "    #dss = ds.sel(time=1).where(ds.sel(time=1) == 1).astype('uint8')    \n",
    "\n",
    "    dss.gw.to_raster(outfile,\n",
    "                     verbose=1,\n",
    "                     overwrite=True,\n",
    "                     n_jobs=16)\n",
    "    \n",
    "#     res = to_raster(dss,\n",
    "#                   outfile,\n",
    "#                   overwrite=True,\n",
    "#                   verbose=1,\n",
    "#                   scheduler_address=cluster.cluster.scheduler_address,\n",
    "#                   crs=dss.crs,\n",
    "#                   transform=dss.transform,\n",
    "#                   width=dss.gw.ncols,\n",
    "#                   height=dss.gw.nrows,\n",
    "#                   count=dss.gw.nbands,\n",
    "#                   driver='GTiff',\n",
    "#                   sharing=False,\n",
    "#                   dtype=dss.data.dtype,\n",
    "#                   nodata=None,\n",
    "#                   tiled=True,\n",
    "#                   blockxsize=out_chunksize,\n",
    "#                   blockysize=out_chunksize) \n",
    "\n",
    "#         dss = dss.to_dataset(dim='band')\n",
    "\n",
    "#         encoding_dict = {'class': {'zlib': True, 'complevel': 5, 'chunksizes': (1024, 1024), 'dtype': 'uint8'}}\n",
    "\n",
    "#         dss.to_netcdf(path=outfile.replace('.tif', '.nc'),\n",
    "#                       mode='w',\n",
    "#                       format='NETCDF4',\n",
    "#                       encoding=encoding_dict,\n",
    "#                       engine='netcdf4',\n",
    "#                       compute=False)\n",
    "\n",
    "#     dss.gw.to_raster(outfile,\n",
    "#                      client=cluster.client,\n",
    "#                      n_jobs=8,\n",
    "#                      verbose=1,\n",
    "#                      overwrite=True,\n",
    "#                      dtype='uint8',\n",
    "#                      nodata=None,\n",
    "#                      tiled=True,\n",
    "#                      blockxsize=out_chunksize,\n",
    "#                      blockysize=out_chunksize)"
   ]
  },
  {
   "cell_type": "code",
   "execution_count": 33,
   "metadata": {},
   "outputs": [],
   "source": [
    "# x = cluster.client.persist(res)\n",
    "# progress(x)"
   ]
  },
  {
   "cell_type": "code",
   "execution_count": null,
   "metadata": {},
   "outputs": [],
   "source": [
    "cluster.stop()"
   ]
  },
  {
   "cell_type": "markdown",
   "metadata": {},
   "source": [
    "---"
   ]
  },
  {
   "cell_type": "code",
   "execution_count": null,
   "metadata": {},
   "outputs": [],
   "source": [
    "def n_rows_cols(pixel_index, block_size, rows_cols):\n",
    "    return block_size if (pixel_index + block_size) < rows_cols else rows_cols - pixel_index"
   ]
  },
  {
   "cell_type": "code",
   "execution_count": null,
   "metadata": {},
   "outputs": [],
   "source": [
    "@dask.delayed\n",
    "def write_func(output, outfile, out_window, n_bands):\n",
    "    \n",
    "    out_indexes = 1 if n_bands == 1 else np.arange(1, n_bands + 1)\n",
    "    \n",
    "    with rio.Env(gdal_cache=512):\n",
    "\n",
    "        with rio.open(outfile,\n",
    "                      mode='r+', \n",
    "                      sharing=False) as dst:    \n",
    "\n",
    "            dst.write(np.squeeze(output), window=out_window, indexes=out_indexes)  "
   ]
  },
  {
   "cell_type": "code",
   "execution_count": null,
   "metadata": {},
   "outputs": [],
   "source": [
    "def gen_windows(rows, cols, chunksize):\n",
    "\n",
    "    windows = list()\n",
    "    \n",
    "    for i in range(0, rows, chunksize):\n",
    "        nrows = n_rows_cols(i, chunksize, rows)\n",
    "        for j in range(0, cols, chunksize):\n",
    "            ncols = n_rows_cols(j, chunksize, cols)\n",
    "\n",
    "            windows.append(Window(row_off=i, col_off=j, height=nrows, width=ncols))\n",
    "            \n",
    "    return windows"
   ]
  },
  {
   "cell_type": "code",
   "execution_count": null,
   "metadata": {},
   "outputs": [],
   "source": [
    "def create_file(outfile, ds, out_dtype, out_count, out_chunksize):\n",
    "    \n",
    "    if os.path.isfile(outfile):\n",
    "        os.remove(outfile)\n",
    "        \n",
    "    with rio.Env(gdal_cache=512):\n",
    "\n",
    "        with rio.open(outfile,\n",
    "                      mode='w', \n",
    "                      height=ds.gw.nrows, \n",
    "                      width=ds.gw.ncols,\n",
    "                      count=out_count, \n",
    "                      dtype=out_dtype, \n",
    "                      driver='GTiff',\n",
    "                      crs=ds.crs, \n",
    "                      transform=ds.transform, \n",
    "                      sharing=False, \n",
    "                      tiled=True,\n",
    "                      blockxsize=out_chunksize, \n",
    "                      blockysize=out_chunksize) as dst:\n",
    "            pass            "
   ]
  },
  {
   "cell_type": "code",
   "execution_count": null,
   "metadata": {},
   "outputs": [],
   "source": [
    "# def feature_gen(feature):\n",
    "#     yield features"
   ]
  },
  {
   "cell_type": "code",
   "execution_count": null,
   "metadata": {},
   "outputs": [],
   "source": [
    "def gen_futures(windows, data, n_bands):\n",
    "    \n",
    "    futures = list()\n",
    "    \n",
    "    for w in windows:\n",
    "        \n",
    "        futures.append(write_func(data[:, \n",
    "                                       w.row_off:w.row_off+w.height,\n",
    "                                       w.col_off:w.col_off+w.width].data, \n",
    "                                  outfile, \n",
    "                                  w, \n",
    "                                  n_bands))\n",
    "        \n",
    "    return futures"
   ]
  },
  {
   "cell_type": "code",
   "execution_count": null,
   "metadata": {},
   "outputs": [],
   "source": [
    "cluster = Cluster(n_workers=8,\n",
    "                  threads_per_worker=2,\n",
    "                  scheduler_port=0,\n",
    "                  processes=False)\n",
    "\n",
    "cluster.start()\n",
    "\n",
    "cluster.client"
   ]
  },
  {
   "cell_type": "code",
   "execution_count": null,
   "metadata": {},
   "outputs": [],
   "source": [
    "# def my_func(block, dummy):\n",
    "#     return np.uint8(np.where(np.squeeze(block) == 1, 1, 0))"
   ]
  },
  {
   "cell_type": "code",
   "execution_count": null,
   "metadata": {},
   "outputs": [],
   "source": [
    "chunksize = 1024\n",
    "out_chunksize = 512\n",
    "out_count = 1\n",
    "out_indexes = 1\n",
    "outfile = '/home/jcgr/Documents/scripts/Python/git_repos/geowombat/data/test_sc.tif'"
   ]
  },
  {
   "cell_type": "code",
   "execution_count": null,
   "metadata": {},
   "outputs": [],
   "source": [
    "# gw.apply('/media/jcgr/data/imagery/southern_cone/predictions/mosaics/sch1_2017_2018.tif',\n",
    "#          '/home/jcgr/Documents/scripts/Python/git_repos/geowombat/data/test_sc.tif',\n",
    "#          my_func,\n",
    "#          args=(None,),\n",
    "#          n_jobs=8,\n",
    "#          overwrite=False,\n",
    "#          count=1,\n",
    "#          dtype='uint8',\n",
    "#          nodata=0,\n",
    "#          compress='lzw',\n",
    "#          tiled=True,\n",
    "#          blockxsize=512,\n",
    "#          blockysize=512)"
   ]
  },
  {
   "cell_type": "code",
   "execution_count": null,
   "metadata": {},
   "outputs": [],
   "source": [
    "# with gw.open('/media/jcgr/data/imagery/southern_cone/predictions/mosaics/sch1_2017_2018.tif', chunks=chunkszie) as ds:\n",
    "    \n",
    "#     dss = ds.where(ds == 1).astype('uint8')\n",
    "#     dss.attrs = ds.attrs\n",
    "    \n",
    "#     dss.gw.to_raster(outfile,\n",
    "#                      n_jobs=8,\n",
    "#                      verbose=1,\n",
    "#                      overwrite=True,\n",
    "#                      row_chunks=1024,\n",
    "#                      col_chunks=1024,\n",
    "#                      dtype='uint8',\n",
    "#                      nodata=0,\n",
    "#                      compress='lzw',\n",
    "#                      tiled=True,\n",
    "#                      blockxsize=512,\n",
    "#                      blockysize=512)"
   ]
  },
  {
   "cell_type": "code",
   "execution_count": null,
   "metadata": {},
   "outputs": [],
   "source": [
    "out_count = 1\n",
    "out_indexes = 1\n",
    "\n",
    "with gw.open('/media/jcgr/data/imagery/southern_cone/predictions/mosaics/sch1_2017_2018.tif', chunks=chunksize) as ds:\n",
    "    \n",
    "    #dss = ds.where(ds == 1).astype('uint8')\n",
    "    \n",
    "    windows = gen_windows(ds.gw.nrows, ds.gw.ncols, chunksize)\n",
    "    \n",
    "    create_file(outfile, ds, 'uint8', out_count, out_chunksize)\n",
    "    \n",
    "    futures = gen_futures(windows, ds, out_count)"
   ]
  },
  {
   "cell_type": "code",
   "execution_count": null,
   "metadata": {},
   "outputs": [],
   "source": [
    "x = cluster.client.persist(futures)\n",
    "progress(x)"
   ]
  },
  {
   "cell_type": "code",
   "execution_count": null,
   "metadata": {},
   "outputs": [],
   "source": [
    "cluster.stop()"
   ]
  },
  {
   "cell_type": "code",
   "execution_count": null,
   "metadata": {},
   "outputs": [],
   "source": [
    "chunksize = 256\n",
    "out_count = 1\n",
    "out_indexes = 1#np.arange(1, 5)\n",
    "\n",
    "outfile = '/home/jcgr/Documents/scripts/Python/git_repos/geowombat/data/test2.tif'\n",
    "\n",
    "if os.path.isfile(outfile):\n",
    "    os.remove(outfile)\n",
    "\n",
    "        \n",
    "with gw.config.update(sensor='quickbird', scale_factor=0.0001):        \n",
    "\n",
    "    with gw.open([rgbn, rgbn, rgbn, rgbn, rgbn, rgbn, rgbn, rgbn], \n",
    "                 band_names=['blue', 'green', 'red', 'nir'], \n",
    "                 chunks=chunksize) as ds:\n",
    "\n",
    "        #ndvi = ds.gw.ndvi()\n",
    "        evi2 = ds.gw.evi2()\n",
    "        dss = evi2.mean(dim='time')\n",
    "        #dss = ndvi / evi2\n",
    "#         dss = ds.gw.tasseled_cap()\n",
    "#         dss = dss.mean(dim='band')\n",
    "#         dss = dss * 10.0\n",
    "#         dss = dss / 2.3\n",
    "        dss.attrs = ds.attrs\n",
    "        print(dss)\n",
    "\n",
    "        with rio.open(outfile,\n",
    "                      mode='w', \n",
    "                      height=ds.gw.nrows, width=ds.gw.ncols,\n",
    "                      count=out_count, dtype='float64', driver='GTiff',\n",
    "                      crs=ds.crs, transform=ds.transform, \n",
    "                      sharing=False, \n",
    "                      tiled=True,\n",
    "                      blockxsize=chunksize, \n",
    "                      blockysize=chunksize) as dst:\n",
    "            pass\n",
    "\n",
    "\n",
    "\n",
    "                futures.append(write_func(dss[:, i:i+chunksize, j:j+chunksize].squeeze().data, \n",
    "                                          outfile, w, out_indexes))"
   ]
  },
  {
   "cell_type": "code",
   "execution_count": null,
   "metadata": {},
   "outputs": [],
   "source": [
    "# dss.data.visualize()"
   ]
  },
  {
   "cell_type": "code",
   "execution_count": null,
   "metadata": {},
   "outputs": [],
   "source": [
    "x = cluster.client.persist(futures)\n",
    "progress(x)"
   ]
  },
  {
   "cell_type": "code",
   "execution_count": null,
   "metadata": {},
   "outputs": [],
   "source": [
    "cluster.stop()"
   ]
  },
  {
   "cell_type": "code",
   "execution_count": null,
   "metadata": {},
   "outputs": [],
   "source": [
    "chunksize = 64\n",
    "\n",
    "gw.apply(rgbn_suba,\n",
    "         '/home/jcgr/Documents/scripts/Python/git_repos/geowombat/data/test.tif',\n",
    "         dummy_func,\n",
    "         args=(None,),\n",
    "         n_jobs=4,\n",
    "         count=4,\n",
    "         blockxsize=chunksize,\n",
    "         blockysize=chunksize)\n",
    "\n",
    "# with gw.open(rgbn_suba, chunks=chunksize) as ds:\n",
    "#     ds.gw.to_raster('/home/jcgr/Documents/scripts/Python/git_repos/geowombat/data/test.tif',\n",
    "#                     n_jobs=4,\n",
    "#                     tiled=True)"
   ]
  },
  {
   "cell_type": "code",
   "execution_count": null,
   "metadata": {},
   "outputs": [],
   "source": [
    "writer.compute()"
   ]
  },
  {
   "cell_type": "code",
   "execution_count": null,
   "metadata": {},
   "outputs": [],
   "source": [
    "res = cluster.client.persist(writer)"
   ]
  },
  {
   "cell_type": "code",
   "execution_count": null,
   "metadata": {},
   "outputs": [],
   "source": [
    "# res.compute()"
   ]
  },
  {
   "cell_type": "code",
   "execution_count": null,
   "metadata": {},
   "outputs": [],
   "source": [
    "cluster.stop()"
   ]
  },
  {
   "cell_type": "code",
   "execution_count": null,
   "metadata": {},
   "outputs": [],
   "source": [
    "# writer.visualize()"
   ]
  },
  {
   "cell_type": "code",
   "execution_count": null,
   "metadata": {},
   "outputs": [],
   "source": [
    "dss.data.visualize()"
   ]
  },
  {
   "cell_type": "code",
   "execution_count": null,
   "metadata": {},
   "outputs": [],
   "source": [
    "with gw.open(rgbn_suba, band_names=['b', 'g', 'r', 'n']) as ds:\n",
    "    ds.gw.imshow(band_names=['b', 'g', 'r'], flip=True, mask=True, nodata=0, robust=True)"
   ]
  },
  {
   "cell_type": "code",
   "execution_count": null,
   "metadata": {},
   "outputs": [],
   "source": [
    "with gw.open(rgbn_subb, band_names=['b', 'g', 'r', 'n']) as ds:\n",
    "    ds.gw.imshow(band_names=['b', 'g', 'r'], flip=True, mask=True, nodata=0, robust=True)"
   ]
  },
  {
   "cell_type": "code",
   "execution_count": null,
   "metadata": {},
   "outputs": [],
   "source": [
    "with gw.open([rgbn_suba, rgbn_subb], band_names=['b', 'g', 'r', 'n'], mosaic=True) as ds:\n",
    "    ds.gw.imshow(band_names=['b', 'g', 'r'], flip=True, mask=True, nodata=0, robust=True)"
   ]
  },
  {
   "cell_type": "code",
   "execution_count": null,
   "metadata": {},
   "outputs": [],
   "source": [
    "with gw.open([rgbn_suba, rgbn_subb, rgbn_subb], \n",
    "             time_names=[1, 1, 2], \n",
    "             band_names=['b', 'g', 'r', 'n']) as ds:\n",
    "    \n",
    "    ds.sel(time=1).gw.imshow(band_names=['b', 'g', 'r'], flip=True, mask=True, nodata=0, robust=True)"
   ]
  },
  {
   "cell_type": "code",
   "execution_count": null,
   "metadata": {},
   "outputs": [],
   "source": [
    "with rio.open(rgbn) as src:\n",
    "    \n",
    "    transform, width, height = calculate_default_transform(src.crs,\n",
    "                                                           CRS.from_epsg(4326),\n",
    "                                                           src.width,\n",
    "                                                           src.height,\n",
    "                                                           *src.bounds,\n",
    "                                                           dst_width=src.width,\n",
    "                                                           dst_height=src.height)\n",
    "    \n",
    "    print(width, height)\n",
    "    res = (transform[0], -transform[4])\n",
    "    \n",
    "    print(res)\n",
    "    \n",
    "    dst_transform, dst_width, dst_height = aligned_target(transform, width, height, res)\n",
    "    \n",
    "    print(dst_transform)\n",
    "    print(dst_width, dst_height)"
   ]
  },
  {
   "cell_type": "code",
   "execution_count": null,
   "metadata": {},
   "outputs": [],
   "source": [
    "with gw.config.update(sensor='rgbn', ref_res=(5, 5)):\n",
    "\n",
    "    with gw.open(rgbn, band_names=['b', 'g', 'r', 'n'], resampling='cubic') as ds:\n",
    "\n",
    "        dss = ds.gw.moving(stat='max', n_jobs=8)\n",
    "\n",
    "        dss.gw.imshow(band_names=['g', 'r', 'n'], flip=True, mask=True, nodata=0, robust=True)"
   ]
  },
  {
   "cell_type": "code",
   "execution_count": null,
   "metadata": {},
   "outputs": [],
   "source": [
    "with gw.config.update(sensor='rgbn', ref_res=(5, 5)):\n",
    "\n",
    "    with gw.open(rgbn, \n",
    "                 band_names=['b', 'g', 'r', 'n'],\n",
    "                 resampling='cubic') as ds:\n",
    "        \n",
    "        print(ds)\n",
    "        ds.gw.imshow(band_names=['b', 'g', 'r'], flip=True, mask=True, nodata=0, robust=True)"
   ]
  },
  {
   "cell_type": "code",
   "execution_count": null,
   "metadata": {},
   "outputs": [],
   "source": []
  }
 ],
 "metadata": {
  "kernelspec": {
   "display_name": "Python 3",
   "language": "python",
   "name": "python3"
  },
  "language_info": {
   "codemirror_mode": {
    "name": "ipython",
    "version": 3
   },
   "file_extension": ".py",
   "mimetype": "text/x-python",
   "name": "python",
   "nbconvert_exporter": "python",
   "pygments_lexer": "ipython3",
   "version": "3.6.8"
  }
 },
 "nbformat": 4,
 "nbformat_minor": 4
}
