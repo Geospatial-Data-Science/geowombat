{
 "cells": [
  {
   "cell_type": "code",
   "execution_count": 1,
   "metadata": {},
   "outputs": [
    {
     "name": "stderr",
     "output_type": "stream",
     "text": [
      "Using TensorFlow backend.\n"
     ]
    }
   ],
   "source": [
    "import geowombat as gw\n",
    "from geowombat.radiometry import BRDF, RadTransforms, sentinel_pixel_angles\n",
    "from geowombat.util import GeoDownloads"
   ]
  },
  {
   "cell_type": "markdown",
   "metadata": {},
   "source": [
    "## Download data"
   ]
  },
  {
   "cell_type": "code",
   "execution_count": 2,
   "metadata": {},
   "outputs": [],
   "source": [
    "gdl = GeoDownloads()"
   ]
  },
  {
   "cell_type": "code",
   "execution_count": 3,
   "metadata": {},
   "outputs": [],
   "source": [
    "gdl.list_gcp('s2', '21/H/UD/*2019*.SAFE/GRANULE/*')"
   ]
  },
  {
   "cell_type": "code",
   "execution_count": 4,
   "metadata": {},
   "outputs": [
    {
     "data": {
      "text/plain": [
       "['tiles/21/H/UD/S2A_MSIL1C_20190104T135111_N0207_R024_T21HUD_20190104T153406.SAFE/GRANULE/L1C_T21HUD_A018468_20190104T135107',\n",
       " 'tiles/21/H/UD/S2A_MSIL1C_20190104T135111_N0207_R024_T21HUD_20190104T153406.SAFE/GRANULE/L1C_T21HUD_A018468_20190104T135107/AUX_DATA',\n",
       " 'tiles/21/H/UD/S2A_MSIL1C_20190104T135111_N0207_R024_T21HUD_20190104T153406.SAFE/GRANULE/L1C_T21HUD_A018468_20190104T135107/IMG_DATA',\n",
       " 'tiles/21/H/UD/S2A_MSIL1C_20190104T135111_N0207_R024_T21HUD_20190104T153406.SAFE/GRANULE/L1C_T21HUD_A018468_20190104T135107/QI_DATA',\n",
       " 'tiles/21/H/UD/S2A_MSIL1C_20190114T135111_N0207_R024_T21HUD_20190114T153240.SAFE/GRANULE/L1C_T21HUD_A018611_20190114T135108',\n",
       " 'tiles/21/H/UD/S2A_MSIL1C_20190114T135111_N0207_R024_T21HUD_20190114T153240.SAFE/GRANULE/L1C_T21HUD_A018611_20190114T135108/AUX_DATA',\n",
       " 'tiles/21/H/UD/S2A_MSIL1C_20190114T135111_N0207_R024_T21HUD_20190114T153240.SAFE/GRANULE/L1C_T21HUD_A018611_20190114T135108/IMG_DATA',\n",
       " 'tiles/21/H/UD/S2A_MSIL1C_20190114T135111_N0207_R024_T21HUD_20190114T153240.SAFE/GRANULE/L1C_T21HUD_A018611_20190114T135108/QI_DATA',\n",
       " 'tiles/21/H/UD/S2A_MSIL1C_20190124T135111_N0207_R024_T21HUD_20190124T153140.SAFE/GRANULE/L1C_T21HUD_A018754_20190124T135109',\n",
       " 'tiles/21/H/UD/S2A_MSIL1C_20190124T135111_N0207_R024_T21HUD_20190124T153140.SAFE/GRANULE/L1C_T21HUD_A018754_20190124T135109/AUX_DATA']"
      ]
     },
     "execution_count": 4,
     "metadata": {},
     "output_type": "execute_result"
    }
   ],
   "source": [
    "list(gdl.search_dict.keys())[:10]"
   ]
  },
  {
   "cell_type": "code",
   "execution_count": 5,
   "metadata": {},
   "outputs": [
    {
     "data": {
      "text/plain": [
       "['gs://gcp-public-data-sentinel-2/tiles/21/H/UD/S2A_MSIL1C_20190104T135111_N0207_R024_T21HUD_20190104T153406.SAFE/GRANULE/L1C_T21HUD_A018468_20190104T135107/MTD_TL.xml']"
      ]
     },
     "execution_count": 5,
     "metadata": {},
     "output_type": "execute_result"
    }
   ],
   "source": [
    "list(gdl.search_dict['tiles/21/H/UD/S2A_MSIL1C_20190104T135111_N0207_R024_T21HUD_20190104T153406.SAFE/GRANULE/L1C_T21HUD_A018468_20190104T135107'])"
   ]
  },
  {
   "cell_type": "code",
   "execution_count": 6,
   "metadata": {},
   "outputs": [
    {
     "data": {
      "text/plain": [
       "['gs://gcp-public-data-sentinel-2/tiles/21/H/UD/S2A_MSIL1C_20190104T135111_N0207_R024_T21HUD_20190104T153406.SAFE/GRANULE/L1C_T21HUD_A018468_20190104T135107/IMG_DATA/T21HUD_20190104T135111_B01.jp2',\n",
       " 'gs://gcp-public-data-sentinel-2/tiles/21/H/UD/S2A_MSIL1C_20190104T135111_N0207_R024_T21HUD_20190104T153406.SAFE/GRANULE/L1C_T21HUD_A018468_20190104T135107/IMG_DATA/T21HUD_20190104T135111_B02.jp2',\n",
       " 'gs://gcp-public-data-sentinel-2/tiles/21/H/UD/S2A_MSIL1C_20190104T135111_N0207_R024_T21HUD_20190104T153406.SAFE/GRANULE/L1C_T21HUD_A018468_20190104T135107/IMG_DATA/T21HUD_20190104T135111_B03.jp2',\n",
       " 'gs://gcp-public-data-sentinel-2/tiles/21/H/UD/S2A_MSIL1C_20190104T135111_N0207_R024_T21HUD_20190104T153406.SAFE/GRANULE/L1C_T21HUD_A018468_20190104T135107/IMG_DATA/T21HUD_20190104T135111_B04.jp2',\n",
       " 'gs://gcp-public-data-sentinel-2/tiles/21/H/UD/S2A_MSIL1C_20190104T135111_N0207_R024_T21HUD_20190104T153406.SAFE/GRANULE/L1C_T21HUD_A018468_20190104T135107/IMG_DATA/T21HUD_20190104T135111_B05.jp2',\n",
       " 'gs://gcp-public-data-sentinel-2/tiles/21/H/UD/S2A_MSIL1C_20190104T135111_N0207_R024_T21HUD_20190104T153406.SAFE/GRANULE/L1C_T21HUD_A018468_20190104T135107/IMG_DATA/T21HUD_20190104T135111_B06.jp2',\n",
       " 'gs://gcp-public-data-sentinel-2/tiles/21/H/UD/S2A_MSIL1C_20190104T135111_N0207_R024_T21HUD_20190104T153406.SAFE/GRANULE/L1C_T21HUD_A018468_20190104T135107/IMG_DATA/T21HUD_20190104T135111_B07.jp2',\n",
       " 'gs://gcp-public-data-sentinel-2/tiles/21/H/UD/S2A_MSIL1C_20190104T135111_N0207_R024_T21HUD_20190104T153406.SAFE/GRANULE/L1C_T21HUD_A018468_20190104T135107/IMG_DATA/T21HUD_20190104T135111_B08.jp2',\n",
       " 'gs://gcp-public-data-sentinel-2/tiles/21/H/UD/S2A_MSIL1C_20190104T135111_N0207_R024_T21HUD_20190104T153406.SAFE/GRANULE/L1C_T21HUD_A018468_20190104T135107/IMG_DATA/T21HUD_20190104T135111_B09.jp2',\n",
       " 'gs://gcp-public-data-sentinel-2/tiles/21/H/UD/S2A_MSIL1C_20190104T135111_N0207_R024_T21HUD_20190104T153406.SAFE/GRANULE/L1C_T21HUD_A018468_20190104T135107/IMG_DATA/T21HUD_20190104T135111_B10.jp2',\n",
       " 'gs://gcp-public-data-sentinel-2/tiles/21/H/UD/S2A_MSIL1C_20190104T135111_N0207_R024_T21HUD_20190104T153406.SAFE/GRANULE/L1C_T21HUD_A018468_20190104T135107/IMG_DATA/T21HUD_20190104T135111_B11.jp2',\n",
       " 'gs://gcp-public-data-sentinel-2/tiles/21/H/UD/S2A_MSIL1C_20190104T135111_N0207_R024_T21HUD_20190104T153406.SAFE/GRANULE/L1C_T21HUD_A018468_20190104T135107/IMG_DATA/T21HUD_20190104T135111_B12.jp2',\n",
       " 'gs://gcp-public-data-sentinel-2/tiles/21/H/UD/S2A_MSIL1C_20190104T135111_N0207_R024_T21HUD_20190104T153406.SAFE/GRANULE/L1C_T21HUD_A018468_20190104T135107/IMG_DATA/T21HUD_20190104T135111_B8A.jp2',\n",
       " 'gs://gcp-public-data-sentinel-2/tiles/21/H/UD/S2A_MSIL1C_20190104T135111_N0207_R024_T21HUD_20190104T153406.SAFE/GRANULE/L1C_T21HUD_A018468_20190104T135107/IMG_DATA/T21HUD_20190104T135111_TCI.jp2']"
      ]
     },
     "execution_count": 6,
     "metadata": {},
     "output_type": "execute_result"
    }
   ],
   "source": [
    "list(gdl.search_dict['tiles/21/H/UD/S2A_MSIL1C_20190104T135111_N0207_R024_T21HUD_20190104T153406.SAFE/GRANULE/L1C_T21HUD_A018468_20190104T135107/IMG_DATA'])"
   ]
  },
  {
   "cell_type": "code",
   "execution_count": 7,
   "metadata": {},
   "outputs": [],
   "source": [
    "search_wildcards = ['MTD_TL.xml']\n",
    "outdir = '/media/jcgr/data/imagery/google/21HUD'\n",
    "\n",
    "file_info = gdl.download_gcp('s2',\n",
    "                             downloads='tiles/21/H/UD/S2A_MSIL1C_20190104T135111_N0207_R024_T21HUD_20190104T153406.SAFE/GRANULE/L1C_T21HUD_A018468_20190104T135107',\n",
    "                             outdir=outdir, \n",
    "                             search_wildcards=search_wildcards,\n",
    "                             verbose=1)"
   ]
  },
  {
   "cell_type": "code",
   "execution_count": 8,
   "metadata": {},
   "outputs": [],
   "source": [
    "search_wildcards = ['B02.jp2', 'B03.jp2', 'B04.jp2', 'B08.jp2']\n",
    "outdir = '/media/jcgr/data/imagery/google/21HUD'\n",
    "\n",
    "file_info = gdl.download_gcp('s2',\n",
    "                             downloads='tiles/21/H/UD/S2A_MSIL1C_20190104T135111_N0207_R024_T21HUD_20190104T153406.SAFE/GRANULE/L1C_T21HUD_A018468_20190104T135107/IMG_DATA',\n",
    "                             outdir=outdir, \n",
    "                             search_wildcards=search_wildcards,\n",
    "                             verbose=1)"
   ]
  },
  {
   "cell_type": "code",
   "execution_count": 9,
   "metadata": {},
   "outputs": [
    {
     "data": {
      "text/plain": [
       "{'tiles/21/H/UD/S2A_MSIL1C_20190104T135111_N0207_R024_T21HUD_20190104T153406.SAFE/GRANULE/L1C_T21HUD_A018468_20190104T135107/IMG_DATA': {'B02': FileInfo(name='/media/jcgr/data/imagery/google/21HUD/T21HUD_20190104T135111_B02.jp2', key='B02'),\n",
       "  'B03': FileInfo(name='/media/jcgr/data/imagery/google/21HUD/T21HUD_20190104T135111_B03.jp2', key='B03'),\n",
       "  'B04': FileInfo(name='/media/jcgr/data/imagery/google/21HUD/T21HUD_20190104T135111_B04.jp2', key='B04'),\n",
       "  'B08': FileInfo(name='/media/jcgr/data/imagery/google/21HUD/T21HUD_20190104T135111_B08.jp2', key='B08')}}"
      ]
     },
     "execution_count": 9,
     "metadata": {},
     "output_type": "execute_result"
    }
   ],
   "source": [
    "file_info"
   ]
  },
  {
   "cell_type": "markdown",
   "metadata": {},
   "source": [
    "## Generate pixel angles"
   ]
  },
  {
   "cell_type": "code",
   "execution_count": 10,
   "metadata": {},
   "outputs": [],
   "source": [
    "angle_info = sentinel_pixel_angles('/media/jcgr/data/imagery/google/21HUD/MTD_TL.xml', \n",
    "                                   '/media/jcgr/data/imagery/google/21HUD/T21HUD_20190104T135111_B08.jp2', \n",
    "                                   outdir='/media/jcgr/data/imagery/google/21HUD/angles', \n",
    "                                   overwrite=False,\n",
    "                                   verbose=1)"
   ]
  },
  {
   "cell_type": "code",
   "execution_count": 11,
   "metadata": {},
   "outputs": [
    {
     "data": {
      "text/plain": [
       "AngleInfo(vza='/media/jcgr/data/imagery/google/21HUD/angles/T21HUD_20190104T135111_sensor_zenith.tif', vaa='/media/jcgr/data/imagery/google/21HUD/angles/T21HUD_20190104T135111_sensor_azimuth.tif', sza='/media/jcgr/data/imagery/google/21HUD/angles/T21HUD_20190104T135111_solar_zenith.tif', saa='/media/jcgr/data/imagery/google/21HUD/angles/T21HUD_20190104T135111_solar_azimuth.tif')"
      ]
     },
     "execution_count": 11,
     "metadata": {},
     "output_type": "execute_result"
    }
   ],
   "source": [
    "angle_info"
   ]
  },
  {
   "cell_type": "markdown",
   "metadata": {},
   "source": [
    "## SR and BRDF"
   ]
  },
  {
   "cell_type": "code",
   "execution_count": 12,
   "metadata": {},
   "outputs": [],
   "source": [
    "rt = RadTransforms()\n",
    "br = BRDF()"
   ]
  },
  {
   "cell_type": "code",
   "execution_count": 13,
   "metadata": {},
   "outputs": [],
   "source": [
    "finfo_dict = file_info['tiles/21/H/UD/S2A_MSIL1C_20190104T135111_N0207_R024_T21HUD_20190104T153406.SAFE/GRANULE/L1C_T21HUD_A018468_20190104T135107/IMG_DATA']"
   ]
  },
  {
   "cell_type": "code",
   "execution_count": 14,
   "metadata": {},
   "outputs": [
    {
     "data": {
      "text/plain": [
       "{'B02': FileInfo(name='/media/jcgr/data/imagery/google/21HUD/T21HUD_20190104T135111_B02.jp2', key='B02'),\n",
       " 'B03': FileInfo(name='/media/jcgr/data/imagery/google/21HUD/T21HUD_20190104T135111_B03.jp2', key='B03'),\n",
       " 'B04': FileInfo(name='/media/jcgr/data/imagery/google/21HUD/T21HUD_20190104T135111_B04.jp2', key='B04'),\n",
       " 'B08': FileInfo(name='/media/jcgr/data/imagery/google/21HUD/T21HUD_20190104T135111_B08.jp2', key='B08')}"
      ]
     },
     "execution_count": 14,
     "metadata": {},
     "output_type": "execute_result"
    }
   ],
   "source": [
    "finfo_dict"
   ]
  },
  {
   "cell_type": "code",
   "execution_count": 15,
   "metadata": {},
   "outputs": [
    {
     "ename": "KeyError",
     "evalue": "'s2'",
     "output_type": "error",
     "traceback": [
      "\u001b[0;31m---------------------------------------------------------------------------\u001b[0m",
      "\u001b[0;31mKeyError\u001b[0m                                  Traceback (most recent call last)",
      "\u001b[0;32m<ipython-input-15-cfb954633d49>\u001b[0m in \u001b[0;36m<module>\u001b[0;34m\u001b[0m\n\u001b[1;32m     17\u001b[0m                     dn_sr = rt.toar_to_sr(dn, \n\u001b[1;32m     18\u001b[0m                                           \u001b[0msza\u001b[0m\u001b[0;34m,\u001b[0m \u001b[0msaa\u001b[0m\u001b[0;34m,\u001b[0m \u001b[0mvza\u001b[0m\u001b[0;34m,\u001b[0m \u001b[0mvaa\u001b[0m\u001b[0;34m,\u001b[0m\u001b[0;34m\u001b[0m\u001b[0;34m\u001b[0m\u001b[0m\n\u001b[0;32m---> 19\u001b[0;31m                                           sensor)\n\u001b[0m\u001b[1;32m     20\u001b[0m \u001b[0;34m\u001b[0m\u001b[0m\n\u001b[1;32m     21\u001b[0m                     \u001b[0;31m# BRDF normalization\u001b[0m\u001b[0;34m\u001b[0m\u001b[0;34m\u001b[0m\u001b[0;34m\u001b[0m\u001b[0m\n",
      "\u001b[0;32m~/.local/lib/python3.6/site-packages/geowombat/radiometry/sr.py\u001b[0m in \u001b[0;36mtoar_to_sr\u001b[0;34m(toar, solar_za, solar_az, sensor_za, sensor_az, sensor, nodata)\u001b[0m\n\u001b[1;32m    346\u001b[0m         \u001b[0;31m# kwargs = dict(readxsize=1024, readysize=1024, n_workers=4, n_threads=4)\u001b[0m\u001b[0;34m\u001b[0m\u001b[0;34m\u001b[0m\u001b[0;34m\u001b[0m\u001b[0m\n\u001b[1;32m    347\u001b[0m \u001b[0;34m\u001b[0m\u001b[0m\n\u001b[0;32m--> 348\u001b[0;31m         \u001b[0mmicrometers\u001b[0m \u001b[0;34m=\u001b[0m \u001b[0mtoar\u001b[0m\u001b[0;34m.\u001b[0m\u001b[0mgw\u001b[0m\u001b[0;34m.\u001b[0m\u001b[0mmicrometers\u001b[0m\u001b[0;34m[\u001b[0m\u001b[0msensor\u001b[0m\u001b[0;34m]\u001b[0m\u001b[0;34m\u001b[0m\u001b[0;34m\u001b[0m\u001b[0m\n\u001b[0m\u001b[1;32m    349\u001b[0m         \u001b[0mband_names\u001b[0m \u001b[0;34m=\u001b[0m \u001b[0mlist\u001b[0m\u001b[0;34m(\u001b[0m\u001b[0mtoar\u001b[0m\u001b[0;34m.\u001b[0m\u001b[0mgw\u001b[0m\u001b[0;34m.\u001b[0m\u001b[0mwavelengths\u001b[0m\u001b[0;34m[\u001b[0m\u001b[0msensor\u001b[0m\u001b[0;34m]\u001b[0m\u001b[0;34m.\u001b[0m\u001b[0m_fields\u001b[0m\u001b[0;34m)\u001b[0m\u001b[0;34m\u001b[0m\u001b[0;34m\u001b[0m\u001b[0m\n\u001b[1;32m    350\u001b[0m         \u001b[0mband_um\u001b[0m \u001b[0;34m=\u001b[0m \u001b[0;34m[\u001b[0m\u001b[0mgetattr\u001b[0m\u001b[0;34m(\u001b[0m\u001b[0mmicrometers\u001b[0m\u001b[0;34m,\u001b[0m \u001b[0mp\u001b[0m\u001b[0;34m)\u001b[0m \u001b[0;32mfor\u001b[0m \u001b[0mp\u001b[0m \u001b[0;32min\u001b[0m \u001b[0mband_names\u001b[0m\u001b[0;34m]\u001b[0m\u001b[0;34m\u001b[0m\u001b[0;34m\u001b[0m\u001b[0m\n",
      "\u001b[0;31mKeyError\u001b[0m: 's2'"
     ]
    }
   ],
   "source": [
    "sensor = 's2'\n",
    "\n",
    "with gw.open(angle_info.sza) as sza:\n",
    "    with gw.open(angle_info.vza) as vza:\n",
    "        with gw.open(angle_info.saa) as saa:\n",
    "            with gw.open(angle_info.vaa) as vaa:\n",
    "\n",
    "                with gw.open([finfo_dict['B02'].name, \n",
    "                              finfo_dict['B03'].name, \n",
    "                              finfo_dict['B04'].name, \n",
    "                              finfo_dict['B08'].name], \n",
    "                             band_names=['blue', 'green', 'red', 'nir'],\n",
    "                             stack_dim='band',\n",
    "                             chunks=512) as toar:\n",
    "                    \n",
    "                    toar_scaled = (toar * 0.0001).clip(0, 1).astype('float64')\n",
    "                    \n",
    "                    # Convert DN to surface reflectance\n",
    "                    toar_sr = rt.toar_to_sr(toar_scaled, \n",
    "                                            sza, saa, vza, vaa,\n",
    "                                            sensor)\n",
    "\n",
    "                    # BRDF normalization\n",
    "                    toar_sr_brdf = br.norm_brdf(toar_sr, \n",
    "                                                sza, saa, vza, vaa, \n",
    "                                                sensor=sensor, \n",
    "                                                wavelengths=dn.band.values.tolist(), \n",
    "                                                nodata=0)\n",
    "\n",
    "                    #dn_sr_brdf.gw.to_raster(out_brdf, **kwargs)   "
   ]
  },
  {
   "cell_type": "code",
   "execution_count": null,
   "metadata": {},
   "outputs": [],
   "source": [
    "with gw.config.update(ref_res=(100, 100)):\n",
    "    with gw.open('/media/jcgr/data/imagery/google/21HUD/angles/T21HUD_20190104T135111_sensor_azimuth.tif') as ds:\n",
    "        #print(ds.max().compute())\n",
    "        dss = ds * 0.01\n",
    "        dss = dss.where(dss > -327.68)\n",
    "        dss.attrs = ds.attrs\n",
    "        \n",
    "        print(dss.data.compute())\n",
    "        dss.squeeze().plot.imshow(robust=True)"
   ]
  },
  {
   "cell_type": "code",
   "execution_count": null,
   "metadata": {},
   "outputs": [],
   "source": []
  }
 ],
 "metadata": {
  "kernelspec": {
   "display_name": "Python 3",
   "language": "python",
   "name": "python3"
  },
  "language_info": {
   "codemirror_mode": {
    "name": "ipython",
    "version": 3
   },
   "file_extension": ".py",
   "mimetype": "text/x-python",
   "name": "python",
   "nbconvert_exporter": "python",
   "pygments_lexer": "ipython3",
   "version": "3.6.8"
  }
 },
 "nbformat": 4,
 "nbformat_minor": 4
}
